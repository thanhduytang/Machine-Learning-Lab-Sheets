{
 "cells": [
  {
   "cell_type": "markdown",
   "metadata": {},
   "source": [
    "<center><b><big> CITS5508 LAB SHEET 4</big></b></center>\n",
    "\n",
    "**Name: Thanh Duy Tang**<br>\n",
    "**Student Number: 22803018**<br>\n",
    "**Date created: 26th Apr 2020 <br>\n",
    "**Last modified: 30th Apr 2020"
   ]
  },
  {
   "cell_type": "markdown",
   "metadata": {},
   "source": [
    "## 1. Setup\n",
    "\n",
    "Before going to loading data part, we need to make sure that MatplotLib figures inline and prepare a function to save the figures. Moreover, we should use Python 3.0 as well as Scikit-Learn >= 0.20"
   ]
  },
  {
   "cell_type": "code",
   "execution_count": 142,
   "metadata": {
    "ExecuteTime": {
     "end_time": "2020-05-03T08:42:19.912010Z",
     "start_time": "2020-05-03T08:42:19.856158Z"
    }
   },
   "outputs": [],
   "source": [
    "#Python >= 3.0 is required\n",
    "import sys\n",
    "assert sys.version_info >= (3,5)\n",
    "\n",
    "#Scikit-Learn >= 0.20 \n",
    "import sklearn\n",
    "assert sklearn.__version__ >= '0.20'\n",
    "\n",
    "#Get the pretty figures\n",
    "%matplotlib inline\n",
    "import matplotlib as mpl\n",
    "import matplotlib.pyplot as plt\n",
    "mpl.rc('axes', labelsize=14)\n",
    "mpl.rc('xtick', labelsize=12)\n",
    "mpl.rc('ytick', labelsize=12)\n",
    "\n",
    "#Save the figures\n",
    "import os\n",
    "LAB2_ROOT_DIR = \".\"\n",
    "CHAPTER_ID = \"LAB SHEET 2\"\n",
    "IMAGES_PATH = os.path.join(LAB2_ROOT_DIR, \"images\", CHAPTER_ID)\n",
    "os.makedirs(IMAGES_PATH, exist_ok=True)\n",
    "\n",
    "def save_fig(fig_id, tight_layout=True, fig_extension=\"png\", resolution=300):\n",
    "    path = os.path.join(IMAGES_PATH, fig_id + \".\" + fig_extension)\n",
    "    print(\"Saving figure\", fig_id)\n",
    "    if tight_layout:\n",
    "        plt.tight_layout()\n",
    "    plt.savefig(path, format=fig_extension, dpi=resolution)\n",
    "    \n",
    "#Ignore useless warnings\n",
    "import warnings\n",
    "warnings.filterwarnings(action=\"ignore\", message=\"^internal gelsd\")"
   ]
  },
  {
   "cell_type": "markdown",
   "metadata": {},
   "source": [
    "## 2. Loading data\n",
    "First, we need to dowload the zip file from https://archive.ics.uci.edu/ml/datasets/wine+quality\n",
    "and put the file into the same directory of this lab file."
   ]
  },
  {
   "cell_type": "code",
   "execution_count": 143,
   "metadata": {
    "ExecuteTime": {
     "end_time": "2020-05-03T08:42:20.009747Z",
     "start_time": "2020-05-03T08:42:19.915001Z"
    }
   },
   "outputs": [
    {
     "data": {
      "text/html": [
       "<div>\n",
       "<style scoped>\n",
       "    .dataframe tbody tr th:only-of-type {\n",
       "        vertical-align: middle;\n",
       "    }\n",
       "\n",
       "    .dataframe tbody tr th {\n",
       "        vertical-align: top;\n",
       "    }\n",
       "\n",
       "    .dataframe thead th {\n",
       "        text-align: right;\n",
       "    }\n",
       "</style>\n",
       "<table border=\"1\" class=\"dataframe\">\n",
       "  <thead>\n",
       "    <tr style=\"text-align: right;\">\n",
       "      <th></th>\n",
       "      <th>fixed acidity</th>\n",
       "      <th>volatile acidity</th>\n",
       "      <th>citric acid</th>\n",
       "      <th>residual sugar</th>\n",
       "      <th>chlorides</th>\n",
       "      <th>free sulfur dioxide</th>\n",
       "      <th>total sulfur dioxide</th>\n",
       "      <th>density</th>\n",
       "      <th>pH</th>\n",
       "      <th>sulphates</th>\n",
       "      <th>alcohol</th>\n",
       "      <th>quality</th>\n",
       "    </tr>\n",
       "  </thead>\n",
       "  <tbody>\n",
       "    <tr>\n",
       "      <th>0</th>\n",
       "      <td>7.0</td>\n",
       "      <td>0.27</td>\n",
       "      <td>0.36</td>\n",
       "      <td>20.7</td>\n",
       "      <td>0.045</td>\n",
       "      <td>45.0</td>\n",
       "      <td>170.0</td>\n",
       "      <td>1.00100</td>\n",
       "      <td>3.00</td>\n",
       "      <td>0.45</td>\n",
       "      <td>8.8</td>\n",
       "      <td>6</td>\n",
       "    </tr>\n",
       "    <tr>\n",
       "      <th>1</th>\n",
       "      <td>6.3</td>\n",
       "      <td>0.30</td>\n",
       "      <td>0.34</td>\n",
       "      <td>1.6</td>\n",
       "      <td>0.049</td>\n",
       "      <td>14.0</td>\n",
       "      <td>132.0</td>\n",
       "      <td>0.99400</td>\n",
       "      <td>3.30</td>\n",
       "      <td>0.49</td>\n",
       "      <td>9.5</td>\n",
       "      <td>6</td>\n",
       "    </tr>\n",
       "    <tr>\n",
       "      <th>2</th>\n",
       "      <td>8.1</td>\n",
       "      <td>0.28</td>\n",
       "      <td>0.40</td>\n",
       "      <td>6.9</td>\n",
       "      <td>0.050</td>\n",
       "      <td>30.0</td>\n",
       "      <td>97.0</td>\n",
       "      <td>0.99510</td>\n",
       "      <td>3.26</td>\n",
       "      <td>0.44</td>\n",
       "      <td>10.1</td>\n",
       "      <td>6</td>\n",
       "    </tr>\n",
       "    <tr>\n",
       "      <th>3</th>\n",
       "      <td>7.2</td>\n",
       "      <td>0.23</td>\n",
       "      <td>0.32</td>\n",
       "      <td>8.5</td>\n",
       "      <td>0.058</td>\n",
       "      <td>47.0</td>\n",
       "      <td>186.0</td>\n",
       "      <td>0.99560</td>\n",
       "      <td>3.19</td>\n",
       "      <td>0.40</td>\n",
       "      <td>9.9</td>\n",
       "      <td>6</td>\n",
       "    </tr>\n",
       "    <tr>\n",
       "      <th>4</th>\n",
       "      <td>7.2</td>\n",
       "      <td>0.23</td>\n",
       "      <td>0.32</td>\n",
       "      <td>8.5</td>\n",
       "      <td>0.058</td>\n",
       "      <td>47.0</td>\n",
       "      <td>186.0</td>\n",
       "      <td>0.99560</td>\n",
       "      <td>3.19</td>\n",
       "      <td>0.40</td>\n",
       "      <td>9.9</td>\n",
       "      <td>6</td>\n",
       "    </tr>\n",
       "    <tr>\n",
       "      <th>...</th>\n",
       "      <td>...</td>\n",
       "      <td>...</td>\n",
       "      <td>...</td>\n",
       "      <td>...</td>\n",
       "      <td>...</td>\n",
       "      <td>...</td>\n",
       "      <td>...</td>\n",
       "      <td>...</td>\n",
       "      <td>...</td>\n",
       "      <td>...</td>\n",
       "      <td>...</td>\n",
       "      <td>...</td>\n",
       "    </tr>\n",
       "    <tr>\n",
       "      <th>4893</th>\n",
       "      <td>6.2</td>\n",
       "      <td>0.21</td>\n",
       "      <td>0.29</td>\n",
       "      <td>1.6</td>\n",
       "      <td>0.039</td>\n",
       "      <td>24.0</td>\n",
       "      <td>92.0</td>\n",
       "      <td>0.99114</td>\n",
       "      <td>3.27</td>\n",
       "      <td>0.50</td>\n",
       "      <td>11.2</td>\n",
       "      <td>6</td>\n",
       "    </tr>\n",
       "    <tr>\n",
       "      <th>4894</th>\n",
       "      <td>6.6</td>\n",
       "      <td>0.32</td>\n",
       "      <td>0.36</td>\n",
       "      <td>8.0</td>\n",
       "      <td>0.047</td>\n",
       "      <td>57.0</td>\n",
       "      <td>168.0</td>\n",
       "      <td>0.99490</td>\n",
       "      <td>3.15</td>\n",
       "      <td>0.46</td>\n",
       "      <td>9.6</td>\n",
       "      <td>5</td>\n",
       "    </tr>\n",
       "    <tr>\n",
       "      <th>4895</th>\n",
       "      <td>6.5</td>\n",
       "      <td>0.24</td>\n",
       "      <td>0.19</td>\n",
       "      <td>1.2</td>\n",
       "      <td>0.041</td>\n",
       "      <td>30.0</td>\n",
       "      <td>111.0</td>\n",
       "      <td>0.99254</td>\n",
       "      <td>2.99</td>\n",
       "      <td>0.46</td>\n",
       "      <td>9.4</td>\n",
       "      <td>6</td>\n",
       "    </tr>\n",
       "    <tr>\n",
       "      <th>4896</th>\n",
       "      <td>5.5</td>\n",
       "      <td>0.29</td>\n",
       "      <td>0.30</td>\n",
       "      <td>1.1</td>\n",
       "      <td>0.022</td>\n",
       "      <td>20.0</td>\n",
       "      <td>110.0</td>\n",
       "      <td>0.98869</td>\n",
       "      <td>3.34</td>\n",
       "      <td>0.38</td>\n",
       "      <td>12.8</td>\n",
       "      <td>7</td>\n",
       "    </tr>\n",
       "    <tr>\n",
       "      <th>4897</th>\n",
       "      <td>6.0</td>\n",
       "      <td>0.21</td>\n",
       "      <td>0.38</td>\n",
       "      <td>0.8</td>\n",
       "      <td>0.020</td>\n",
       "      <td>22.0</td>\n",
       "      <td>98.0</td>\n",
       "      <td>0.98941</td>\n",
       "      <td>3.26</td>\n",
       "      <td>0.32</td>\n",
       "      <td>11.8</td>\n",
       "      <td>6</td>\n",
       "    </tr>\n",
       "  </tbody>\n",
       "</table>\n",
       "<p>4898 rows × 12 columns</p>\n",
       "</div>"
      ],
      "text/plain": [
       "      fixed acidity  volatile acidity  citric acid  residual sugar  chlorides  \\\n",
       "0               7.0              0.27         0.36            20.7      0.045   \n",
       "1               6.3              0.30         0.34             1.6      0.049   \n",
       "2               8.1              0.28         0.40             6.9      0.050   \n",
       "3               7.2              0.23         0.32             8.5      0.058   \n",
       "4               7.2              0.23         0.32             8.5      0.058   \n",
       "...             ...               ...          ...             ...        ...   \n",
       "4893            6.2              0.21         0.29             1.6      0.039   \n",
       "4894            6.6              0.32         0.36             8.0      0.047   \n",
       "4895            6.5              0.24         0.19             1.2      0.041   \n",
       "4896            5.5              0.29         0.30             1.1      0.022   \n",
       "4897            6.0              0.21         0.38             0.8      0.020   \n",
       "\n",
       "      free sulfur dioxide  total sulfur dioxide  density    pH  sulphates  \\\n",
       "0                    45.0                 170.0  1.00100  3.00       0.45   \n",
       "1                    14.0                 132.0  0.99400  3.30       0.49   \n",
       "2                    30.0                  97.0  0.99510  3.26       0.44   \n",
       "3                    47.0                 186.0  0.99560  3.19       0.40   \n",
       "4                    47.0                 186.0  0.99560  3.19       0.40   \n",
       "...                   ...                   ...      ...   ...        ...   \n",
       "4893                 24.0                  92.0  0.99114  3.27       0.50   \n",
       "4894                 57.0                 168.0  0.99490  3.15       0.46   \n",
       "4895                 30.0                 111.0  0.99254  2.99       0.46   \n",
       "4896                 20.0                 110.0  0.98869  3.34       0.38   \n",
       "4897                 22.0                  98.0  0.98941  3.26       0.32   \n",
       "\n",
       "      alcohol  quality  \n",
       "0         8.8        6  \n",
       "1         9.5        6  \n",
       "2        10.1        6  \n",
       "3         9.9        6  \n",
       "4         9.9        6  \n",
       "...       ...      ...  \n",
       "4893     11.2        6  \n",
       "4894      9.6        5  \n",
       "4895      9.4        6  \n",
       "4896     12.8        7  \n",
       "4897     11.8        6  \n",
       "\n",
       "[4898 rows x 12 columns]"
      ]
     },
     "execution_count": 143,
     "metadata": {},
     "output_type": "execute_result"
    }
   ],
   "source": [
    "#Load the Pandas libraries with alias \"pd\"\n",
    "import os\n",
    "import pandas as pd\n",
    "#Read data from \"winequality-white.csv and splitted by \";\".\n",
    "data_set = pd.read_csv(\"winequality-white.csv\", delimiter =';')\n",
    "data_set"
   ]
  },
  {
   "cell_type": "markdown",
   "metadata": {},
   "source": [
    "There are 12 attributes in this dataset including numerical values. There is a column \"quality\" that describes the quality of the wine. "
   ]
  },
  {
   "cell_type": "code",
   "execution_count": 144,
   "metadata": {
    "ExecuteTime": {
     "end_time": "2020-05-03T08:42:20.109479Z",
     "start_time": "2020-05-03T08:42:20.012742Z"
    }
   },
   "outputs": [
    {
     "data": {
      "text/html": [
       "<div>\n",
       "<style scoped>\n",
       "    .dataframe tbody tr th:only-of-type {\n",
       "        vertical-align: middle;\n",
       "    }\n",
       "\n",
       "    .dataframe tbody tr th {\n",
       "        vertical-align: top;\n",
       "    }\n",
       "\n",
       "    .dataframe thead th {\n",
       "        text-align: right;\n",
       "    }\n",
       "</style>\n",
       "<table border=\"1\" class=\"dataframe\">\n",
       "  <thead>\n",
       "    <tr style=\"text-align: right;\">\n",
       "      <th></th>\n",
       "      <th>fixed acidity</th>\n",
       "      <th>volatile acidity</th>\n",
       "      <th>citric acid</th>\n",
       "      <th>residual sugar</th>\n",
       "      <th>chlorides</th>\n",
       "      <th>free sulfur dioxide</th>\n",
       "      <th>total sulfur dioxide</th>\n",
       "      <th>density</th>\n",
       "      <th>pH</th>\n",
       "      <th>sulphates</th>\n",
       "      <th>alcohol</th>\n",
       "      <th>quality</th>\n",
       "    </tr>\n",
       "  </thead>\n",
       "  <tbody>\n",
       "    <tr>\n",
       "      <th>count</th>\n",
       "      <td>4898.000000</td>\n",
       "      <td>4898.000000</td>\n",
       "      <td>4898.000000</td>\n",
       "      <td>4898.000000</td>\n",
       "      <td>4898.000000</td>\n",
       "      <td>4898.000000</td>\n",
       "      <td>4898.000000</td>\n",
       "      <td>4898.000000</td>\n",
       "      <td>4898.000000</td>\n",
       "      <td>4898.000000</td>\n",
       "      <td>4898.000000</td>\n",
       "      <td>4898.000000</td>\n",
       "    </tr>\n",
       "    <tr>\n",
       "      <th>mean</th>\n",
       "      <td>6.854788</td>\n",
       "      <td>0.278241</td>\n",
       "      <td>0.334192</td>\n",
       "      <td>6.391415</td>\n",
       "      <td>0.045772</td>\n",
       "      <td>35.308085</td>\n",
       "      <td>138.360657</td>\n",
       "      <td>0.994027</td>\n",
       "      <td>3.188267</td>\n",
       "      <td>0.489847</td>\n",
       "      <td>10.514267</td>\n",
       "      <td>5.877909</td>\n",
       "    </tr>\n",
       "    <tr>\n",
       "      <th>std</th>\n",
       "      <td>0.843868</td>\n",
       "      <td>0.100795</td>\n",
       "      <td>0.121020</td>\n",
       "      <td>5.072058</td>\n",
       "      <td>0.021848</td>\n",
       "      <td>17.007137</td>\n",
       "      <td>42.498065</td>\n",
       "      <td>0.002991</td>\n",
       "      <td>0.151001</td>\n",
       "      <td>0.114126</td>\n",
       "      <td>1.230621</td>\n",
       "      <td>0.885639</td>\n",
       "    </tr>\n",
       "    <tr>\n",
       "      <th>min</th>\n",
       "      <td>3.800000</td>\n",
       "      <td>0.080000</td>\n",
       "      <td>0.000000</td>\n",
       "      <td>0.600000</td>\n",
       "      <td>0.009000</td>\n",
       "      <td>2.000000</td>\n",
       "      <td>9.000000</td>\n",
       "      <td>0.987110</td>\n",
       "      <td>2.720000</td>\n",
       "      <td>0.220000</td>\n",
       "      <td>8.000000</td>\n",
       "      <td>3.000000</td>\n",
       "    </tr>\n",
       "    <tr>\n",
       "      <th>25%</th>\n",
       "      <td>6.300000</td>\n",
       "      <td>0.210000</td>\n",
       "      <td>0.270000</td>\n",
       "      <td>1.700000</td>\n",
       "      <td>0.036000</td>\n",
       "      <td>23.000000</td>\n",
       "      <td>108.000000</td>\n",
       "      <td>0.991723</td>\n",
       "      <td>3.090000</td>\n",
       "      <td>0.410000</td>\n",
       "      <td>9.500000</td>\n",
       "      <td>5.000000</td>\n",
       "    </tr>\n",
       "    <tr>\n",
       "      <th>50%</th>\n",
       "      <td>6.800000</td>\n",
       "      <td>0.260000</td>\n",
       "      <td>0.320000</td>\n",
       "      <td>5.200000</td>\n",
       "      <td>0.043000</td>\n",
       "      <td>34.000000</td>\n",
       "      <td>134.000000</td>\n",
       "      <td>0.993740</td>\n",
       "      <td>3.180000</td>\n",
       "      <td>0.470000</td>\n",
       "      <td>10.400000</td>\n",
       "      <td>6.000000</td>\n",
       "    </tr>\n",
       "    <tr>\n",
       "      <th>75%</th>\n",
       "      <td>7.300000</td>\n",
       "      <td>0.320000</td>\n",
       "      <td>0.390000</td>\n",
       "      <td>9.900000</td>\n",
       "      <td>0.050000</td>\n",
       "      <td>46.000000</td>\n",
       "      <td>167.000000</td>\n",
       "      <td>0.996100</td>\n",
       "      <td>3.280000</td>\n",
       "      <td>0.550000</td>\n",
       "      <td>11.400000</td>\n",
       "      <td>6.000000</td>\n",
       "    </tr>\n",
       "    <tr>\n",
       "      <th>max</th>\n",
       "      <td>14.200000</td>\n",
       "      <td>1.100000</td>\n",
       "      <td>1.660000</td>\n",
       "      <td>65.800000</td>\n",
       "      <td>0.346000</td>\n",
       "      <td>289.000000</td>\n",
       "      <td>440.000000</td>\n",
       "      <td>1.038980</td>\n",
       "      <td>3.820000</td>\n",
       "      <td>1.080000</td>\n",
       "      <td>14.200000</td>\n",
       "      <td>9.000000</td>\n",
       "    </tr>\n",
       "  </tbody>\n",
       "</table>\n",
       "</div>"
      ],
      "text/plain": [
       "       fixed acidity  volatile acidity  citric acid  residual sugar  \\\n",
       "count    4898.000000       4898.000000  4898.000000     4898.000000   \n",
       "mean        6.854788          0.278241     0.334192        6.391415   \n",
       "std         0.843868          0.100795     0.121020        5.072058   \n",
       "min         3.800000          0.080000     0.000000        0.600000   \n",
       "25%         6.300000          0.210000     0.270000        1.700000   \n",
       "50%         6.800000          0.260000     0.320000        5.200000   \n",
       "75%         7.300000          0.320000     0.390000        9.900000   \n",
       "max        14.200000          1.100000     1.660000       65.800000   \n",
       "\n",
       "         chlorides  free sulfur dioxide  total sulfur dioxide      density  \\\n",
       "count  4898.000000          4898.000000           4898.000000  4898.000000   \n",
       "mean      0.045772            35.308085            138.360657     0.994027   \n",
       "std       0.021848            17.007137             42.498065     0.002991   \n",
       "min       0.009000             2.000000              9.000000     0.987110   \n",
       "25%       0.036000            23.000000            108.000000     0.991723   \n",
       "50%       0.043000            34.000000            134.000000     0.993740   \n",
       "75%       0.050000            46.000000            167.000000     0.996100   \n",
       "max       0.346000           289.000000            440.000000     1.038980   \n",
       "\n",
       "                pH    sulphates      alcohol      quality  \n",
       "count  4898.000000  4898.000000  4898.000000  4898.000000  \n",
       "mean      3.188267     0.489847    10.514267     5.877909  \n",
       "std       0.151001     0.114126     1.230621     0.885639  \n",
       "min       2.720000     0.220000     8.000000     3.000000  \n",
       "25%       3.090000     0.410000     9.500000     5.000000  \n",
       "50%       3.180000     0.470000    10.400000     6.000000  \n",
       "75%       3.280000     0.550000    11.400000     6.000000  \n",
       "max       3.820000     1.080000    14.200000     9.000000  "
      ]
     },
     "execution_count": 144,
     "metadata": {},
     "output_type": "execute_result"
    }
   ],
   "source": [
    "#Summary how the dataset distrbitued in the dataset.\n",
    "data_set.describe()"
   ]
  },
  {
   "cell_type": "markdown",
   "metadata": {},
   "source": [
    "At first, the dataset doesn't have missing values. So I turned to prepare dataset step."
   ]
  },
  {
   "cell_type": "markdown",
   "metadata": {},
   "source": [
    "## 3. Preparing data"
   ]
  },
  {
   "cell_type": "code",
   "execution_count": 145,
   "metadata": {
    "ExecuteTime": {
     "end_time": "2020-05-03T08:42:20.127434Z",
     "start_time": "2020-05-03T08:42:20.112472Z"
    }
   },
   "outputs": [],
   "source": [
    "#Split training set into training set and test set following the ratio (85/15)\n",
    "from sklearn.model_selection import train_test_split\n",
    "train_set, test_set = train_test_split(data_set, test_size = 0.15, random_state=42)"
   ]
  },
  {
   "cell_type": "code",
   "execution_count": 146,
   "metadata": {
    "ExecuteTime": {
     "end_time": "2020-05-03T08:42:20.146381Z",
     "start_time": "2020-05-03T08:42:20.130424Z"
    }
   },
   "outputs": [
    {
     "data": {
      "text/plain": [
       "6    1885\n",
       "5    1234\n",
       "7     735\n",
       "8     146\n",
       "4     143\n",
       "3      15\n",
       "9       5\n",
       "Name: quality, dtype: int64"
      ]
     },
     "execution_count": 146,
     "metadata": {},
     "output_type": "execute_result"
    }
   ],
   "source": [
    "train_set['quality'].value_counts()"
   ]
  },
  {
   "cell_type": "code",
   "execution_count": 147,
   "metadata": {
    "ExecuteTime": {
     "end_time": "2020-05-03T08:42:20.162340Z",
     "start_time": "2020-05-03T08:42:20.149375Z"
    }
   },
   "outputs": [],
   "source": [
    "#Divided train_set and test_set into categorical and numerical set.\n",
    "train_set_num = train_set.drop('quality', axis = 1)\n",
    "train_set_target = train_set[\"quality\"]\n",
    "test_set_num = test_set.drop('quality', axis = 1)\n",
    "test_set_target = test_set[\"quality\"]"
   ]
  },
  {
   "cell_type": "code",
   "execution_count": 148,
   "metadata": {
    "ExecuteTime": {
     "end_time": "2020-05-03T08:42:20.182285Z",
     "start_time": "2020-05-03T08:42:20.165331Z"
    }
   },
   "outputs": [],
   "source": [
    "#Using StandardScaler to normalize the numeric data set.\n",
    "from sklearn.preprocessing import StandardScaler\n",
    "scaler = StandardScaler()\n",
    "train_set_num_tr = scaler.fit_transform(train_set_num)\n",
    "test_set_num_tr = scaler.transform(test_set_num)\n",
    "#Assign the each attribute into x_train, y_train, x_test, y_test.\n",
    "x_train, y_train, x_test, y_test = train_set_num_tr, train_set_target, test_set_num_tr, test_set_target"
   ]
  },
  {
   "cell_type": "markdown",
   "metadata": {},
   "source": [
    "The dataset is not normalized, so I used StandScaler to normalize the dataset."
   ]
  },
  {
   "cell_type": "markdown",
   "metadata": {},
   "source": [
    "## 4. Ada Boost Regressor"
   ]
  },
  {
   "cell_type": "markdown",
   "metadata": {},
   "source": [
    "### Train Set"
   ]
  },
  {
   "cell_type": "code",
   "execution_count": 149,
   "metadata": {
    "ExecuteTime": {
     "end_time": "2020-05-03T08:42:34.825924Z",
     "start_time": "2020-05-03T08:42:20.186275Z"
    }
   },
   "outputs": [],
   "source": [
    "#Building AdaBoostClassifier\n",
    "from sklearn.ensemble import AdaBoostRegressor\n",
    "from sklearn.svm import SVR\n",
    "\n",
    "ada_reg_train = AdaBoostRegressor(SVR(kernel ='rbf'), n_estimators=6, learning_rate=0.1, random_state=42)\n",
    "ada_reg_train.fit(x_train, y_train)\n",
    "ada_y_pred_train = list(ada_reg_train.staged_predict(x_train))"
   ]
  },
  {
   "cell_type": "markdown",
   "metadata": {},
   "source": [
    "#### n_estimators at 1"
   ]
  },
  {
   "cell_type": "code",
   "execution_count": 150,
   "metadata": {
    "ExecuteTime": {
     "end_time": "2020-05-03T08:42:34.836863Z",
     "start_time": "2020-05-03T08:42:34.829880Z"
    }
   },
   "outputs": [],
   "source": [
    "#Round the predicted values.\n",
    "import numpy as np\n",
    "ada_y_pred_train1 = ada_y_pred_train[0]\n",
    "ada_y_pred_train1 = np.round(ada_y_pred_train1)"
   ]
  },
  {
   "cell_type": "code",
   "execution_count": 151,
   "metadata": {
    "ExecuteTime": {
     "end_time": "2020-05-03T08:42:34.853815Z",
     "start_time": "2020-05-03T08:42:34.839855Z"
    }
   },
   "outputs": [
    {
     "data": {
      "text/plain": [
       "0.4799423492673553"
      ]
     },
     "execution_count": 151,
     "metadata": {},
     "output_type": "execute_result"
    }
   ],
   "source": [
    "#Compute MSE of train set\n",
    "from sklearn.metrics import mean_squared_error\n",
    "MSE_train1 = mean_squared_error(y_train, ada_y_pred_train1)\n",
    "MSE_train1"
   ]
  },
  {
   "cell_type": "markdown",
   "metadata": {},
   "source": [
    "#### n_estimators at 2"
   ]
  },
  {
   "cell_type": "code",
   "execution_count": 152,
   "metadata": {
    "ExecuteTime": {
     "end_time": "2020-05-03T08:42:34.869774Z",
     "start_time": "2020-05-03T08:42:34.856809Z"
    }
   },
   "outputs": [],
   "source": [
    "#Round the predicted values.\n",
    "import numpy as np\n",
    "ada_y_pred_train2 = ada_y_pred_train[1]\n",
    "ada_y_pred_train2 = np.round(ada_y_pred_train2)"
   ]
  },
  {
   "cell_type": "code",
   "execution_count": 153,
   "metadata": {
    "ExecuteTime": {
     "end_time": "2020-05-03T08:42:34.893709Z",
     "start_time": "2020-05-03T08:42:34.873763Z"
    }
   },
   "outputs": [
    {
     "data": {
      "text/plain": [
       "0.4799423492673553"
      ]
     },
     "execution_count": 153,
     "metadata": {},
     "output_type": "execute_result"
    }
   ],
   "source": [
    "#Compute MSE of train set\n",
    "from sklearn.metrics import mean_squared_error\n",
    "MSE_train2 = mean_squared_error(y_train, ada_y_pred_train2)\n",
    "MSE_train2"
   ]
  },
  {
   "cell_type": "markdown",
   "metadata": {},
   "source": [
    "#### n_estimators at 3"
   ]
  },
  {
   "cell_type": "code",
   "execution_count": 154,
   "metadata": {
    "ExecuteTime": {
     "end_time": "2020-05-03T08:42:34.907672Z",
     "start_time": "2020-05-03T08:42:34.895703Z"
    }
   },
   "outputs": [],
   "source": [
    "#Round the predicted values.\n",
    "import numpy as np\n",
    "ada_y_pred_train3 = ada_y_pred_train[2]\n",
    "ada_y_pred_train3 = np.round(ada_y_pred_train3)"
   ]
  },
  {
   "cell_type": "code",
   "execution_count": 155,
   "metadata": {
    "ExecuteTime": {
     "end_time": "2020-05-03T08:42:34.925626Z",
     "start_time": "2020-05-03T08:42:34.910663Z"
    }
   },
   "outputs": [
    {
     "data": {
      "text/plain": [
       "0.48018256065337495"
      ]
     },
     "execution_count": 155,
     "metadata": {},
     "output_type": "execute_result"
    }
   ],
   "source": [
    "#Compute MSE of train set\n",
    "from sklearn.metrics import mean_squared_error\n",
    "MSE_train3 = mean_squared_error(y_train, ada_y_pred_train3)\n",
    "MSE_train3"
   ]
  },
  {
   "cell_type": "markdown",
   "metadata": {},
   "source": [
    "#### n_estimators at 4"
   ]
  },
  {
   "cell_type": "code",
   "execution_count": 156,
   "metadata": {
    "ExecuteTime": {
     "end_time": "2020-05-03T08:42:34.939586Z",
     "start_time": "2020-05-03T08:42:34.928616Z"
    }
   },
   "outputs": [],
   "source": [
    "#Round the predicted values.\n",
    "import numpy as np\n",
    "ada_y_pred_train4 = ada_y_pred_train[3]\n",
    "ada_y_pred_train4 = np.round(ada_y_pred_train4)"
   ]
  },
  {
   "cell_type": "code",
   "execution_count": 157,
   "metadata": {
    "ExecuteTime": {
     "end_time": "2020-05-03T08:42:34.955546Z",
     "start_time": "2020-05-03T08:42:34.942577Z"
    }
   },
   "outputs": [
    {
     "data": {
      "text/plain": [
       "0.48018256065337495"
      ]
     },
     "execution_count": 157,
     "metadata": {},
     "output_type": "execute_result"
    }
   ],
   "source": [
    "#Compute MSE of train set\n",
    "from sklearn.metrics import mean_squared_error\n",
    "MSE_train4 = mean_squared_error(y_train, ada_y_pred_train4)\n",
    "MSE_train4"
   ]
  },
  {
   "cell_type": "markdown",
   "metadata": {},
   "source": [
    "#### n_estimators at 5"
   ]
  },
  {
   "cell_type": "code",
   "execution_count": 158,
   "metadata": {
    "ExecuteTime": {
     "end_time": "2020-05-03T08:42:34.969505Z",
     "start_time": "2020-05-03T08:42:34.957538Z"
    }
   },
   "outputs": [],
   "source": [
    "#Round the predicted values.\n",
    "import numpy as np\n",
    "ada_y_pred_train5 = ada_y_pred_train[4]\n",
    "ada_y_pred_train5 = np.round(ada_y_pred_train5)"
   ]
  },
  {
   "cell_type": "code",
   "execution_count": 159,
   "metadata": {
    "ExecuteTime": {
     "end_time": "2020-05-03T08:42:34.989457Z",
     "start_time": "2020-05-03T08:42:34.971501Z"
    }
   },
   "outputs": [
    {
     "data": {
      "text/plain": [
       "0.4676915685803507"
      ]
     },
     "execution_count": 159,
     "metadata": {},
     "output_type": "execute_result"
    }
   ],
   "source": [
    "#Compute MSE of train set\n",
    "from sklearn.metrics import mean_squared_error\n",
    "MSE_train5 = mean_squared_error(y_train, ada_y_pred_train5)\n",
    "MSE_train5"
   ]
  },
  {
   "cell_type": "markdown",
   "metadata": {},
   "source": [
    "#### Final estimator - n_estimators at 6"
   ]
  },
  {
   "cell_type": "code",
   "execution_count": 160,
   "metadata": {
    "ExecuteTime": {
     "end_time": "2020-05-03T08:42:35.000428Z",
     "start_time": "2020-05-03T08:42:34.991447Z"
    }
   },
   "outputs": [],
   "source": [
    "#Round the predicted values.\n",
    "import numpy as np\n",
    "ada_y_pred_train6 = ada_y_pred_train[5]\n",
    "ada_y_pred_train6 = np.round(ada_y_pred_train6)"
   ]
  },
  {
   "cell_type": "code",
   "execution_count": 161,
   "metadata": {
    "ExecuteTime": {
     "end_time": "2020-05-03T08:42:35.018376Z",
     "start_time": "2020-05-03T08:42:35.002419Z"
    }
   },
   "outputs": [
    {
     "data": {
      "text/plain": [
       "0.46240691808791734"
      ]
     },
     "execution_count": 161,
     "metadata": {},
     "output_type": "execute_result"
    }
   ],
   "source": [
    "#Compute MSE of train set\n",
    "from sklearn.metrics import mean_squared_error\n",
    "MSE_train6 = mean_squared_error(y_train, ada_y_pred_train6)\n",
    "MSE_train6"
   ]
  },
  {
   "cell_type": "markdown",
   "metadata": {},
   "source": [
    "### Test Set"
   ]
  },
  {
   "cell_type": "markdown",
   "metadata": {},
   "source": [
    "#### n_estimators at 1"
   ]
  },
  {
   "cell_type": "code",
   "execution_count": 162,
   "metadata": {
    "ExecuteTime": {
     "end_time": "2020-05-03T08:42:44.476694Z",
     "start_time": "2020-05-03T08:42:35.021369Z"
    }
   },
   "outputs": [],
   "source": [
    "#Building AdaBoostClassifier\n",
    "from sklearn.ensemble import AdaBoostRegressor\n",
    "from sklearn.svm import SVR\n",
    "\n",
    "ada_reg_test = AdaBoostRegressor(SVR(kernel ='rbf'), n_estimators=6, learning_rate=0.1, random_state=42)\n",
    "ada_reg_test.fit(x_train, y_train)\n",
    "ada_y_pred_test = list(ada_reg_test.staged_predict(x_test))"
   ]
  },
  {
   "cell_type": "code",
   "execution_count": 163,
   "metadata": {
    "ExecuteTime": {
     "end_time": "2020-05-03T08:42:44.483601Z",
     "start_time": "2020-05-03T08:42:44.478615Z"
    }
   },
   "outputs": [],
   "source": [
    "#Round the predicted values.\n",
    "import numpy as np\n",
    "ada_y_pred_test1 = ada_y_pred_test[0]\n",
    "ada_y_pred_test1 = np.round(ada_y_pred_test1)"
   ]
  },
  {
   "cell_type": "code",
   "execution_count": 164,
   "metadata": {
    "ExecuteTime": {
     "end_time": "2020-05-03T08:42:44.504546Z",
     "start_time": "2020-05-03T08:42:44.491614Z"
    }
   },
   "outputs": [
    {
     "data": {
      "text/plain": [
       "0.6040816326530613"
      ]
     },
     "execution_count": 164,
     "metadata": {},
     "output_type": "execute_result"
    }
   ],
   "source": [
    "#Compute MSE of test set\n",
    "from sklearn.metrics import mean_squared_error\n",
    "MSE_test1 = mean_squared_error(y_test, ada_y_pred_test1)\n",
    "MSE_test1"
   ]
  },
  {
   "cell_type": "markdown",
   "metadata": {},
   "source": [
    "#### n_estimators at 2"
   ]
  },
  {
   "cell_type": "code",
   "execution_count": 165,
   "metadata": {
    "ExecuteTime": {
     "end_time": "2020-05-03T08:42:44.519505Z",
     "start_time": "2020-05-03T08:42:44.512524Z"
    }
   },
   "outputs": [],
   "source": [
    "#Round the predicted values.\n",
    "import numpy as np\n",
    "ada_y_pred_test2 = ada_y_pred_test[1]\n",
    "ada_y_pred_test2 = np.round(ada_y_pred_test2)"
   ]
  },
  {
   "cell_type": "code",
   "execution_count": 166,
   "metadata": {
    "ExecuteTime": {
     "end_time": "2020-05-03T08:42:44.540453Z",
     "start_time": "2020-05-03T08:42:44.522497Z"
    }
   },
   "outputs": [
    {
     "data": {
      "text/plain": [
       "0.6040816326530613"
      ]
     },
     "execution_count": 166,
     "metadata": {},
     "output_type": "execute_result"
    }
   ],
   "source": [
    "#Compute MSE of test set\n",
    "from sklearn.metrics import mean_squared_error\n",
    "MSE_test2 = mean_squared_error(y_test, ada_y_pred_test2)\n",
    "MSE_test2"
   ]
  },
  {
   "cell_type": "markdown",
   "metadata": {},
   "source": [
    "#### n_estimators at 3"
   ]
  },
  {
   "cell_type": "code",
   "execution_count": 167,
   "metadata": {
    "ExecuteTime": {
     "end_time": "2020-05-03T08:42:44.555411Z",
     "start_time": "2020-05-03T08:42:44.543442Z"
    }
   },
   "outputs": [],
   "source": [
    "#Round the predicted values.\n",
    "import numpy as np\n",
    "ada_y_pred_test3 = ada_y_pred_test[2]\n",
    "ada_y_pred_test3 = np.round(ada_y_pred_test3)"
   ]
  },
  {
   "cell_type": "code",
   "execution_count": 168,
   "metadata": {
    "ExecuteTime": {
     "end_time": "2020-05-03T08:42:44.585336Z",
     "start_time": "2020-05-03T08:42:44.558401Z"
    }
   },
   "outputs": [
    {
     "data": {
      "text/plain": [
       "0.5945578231292517"
      ]
     },
     "execution_count": 168,
     "metadata": {},
     "output_type": "execute_result"
    }
   ],
   "source": [
    "#Compute MSE of test set\n",
    "from sklearn.metrics import mean_squared_error\n",
    "MSE_test3 = mean_squared_error(y_test, ada_y_pred_test3)\n",
    "MSE_test3"
   ]
  },
  {
   "cell_type": "markdown",
   "metadata": {},
   "source": [
    "#### n_estimators at 4"
   ]
  },
  {
   "cell_type": "code",
   "execution_count": 169,
   "metadata": {
    "ExecuteTime": {
     "end_time": "2020-05-03T08:42:44.599292Z",
     "start_time": "2020-05-03T08:42:44.588322Z"
    }
   },
   "outputs": [],
   "source": [
    "#Round the predicted values.\n",
    "import numpy as np\n",
    "ada_y_pred_test4 = ada_y_pred_test[5]\n",
    "ada_y_pred_test4 = np.round(ada_y_pred_test4)"
   ]
  },
  {
   "cell_type": "code",
   "execution_count": 170,
   "metadata": {
    "ExecuteTime": {
     "end_time": "2020-05-03T08:42:44.620236Z",
     "start_time": "2020-05-03T08:42:44.602285Z"
    }
   },
   "outputs": [
    {
     "data": {
      "text/plain": [
       "0.5891156462585034"
      ]
     },
     "execution_count": 170,
     "metadata": {},
     "output_type": "execute_result"
    }
   ],
   "source": [
    "#Compute MSE of test set\n",
    "from sklearn.metrics import mean_squared_error\n",
    "MSE_test4 = mean_squared_error(y_test, ada_y_pred_test4)\n",
    "MSE_test4"
   ]
  },
  {
   "cell_type": "markdown",
   "metadata": {},
   "source": [
    "#### n_estimators at 5"
   ]
  },
  {
   "cell_type": "code",
   "execution_count": 171,
   "metadata": {
    "ExecuteTime": {
     "end_time": "2020-05-03T08:42:44.638188Z",
     "start_time": "2020-05-03T08:42:44.622230Z"
    }
   },
   "outputs": [],
   "source": [
    "#Round the predicted values.\n",
    "import numpy as np\n",
    "ada_y_pred_test5 = ada_y_pred_test[4]\n",
    "ada_y_pred_test5 = np.round(ada_y_pred_test5)"
   ]
  },
  {
   "cell_type": "code",
   "execution_count": 172,
   "metadata": {
    "ExecuteTime": {
     "end_time": "2020-05-03T08:42:44.667110Z",
     "start_time": "2020-05-03T08:42:44.643180Z"
    }
   },
   "outputs": [
    {
     "data": {
      "text/plain": [
       "0.5972789115646259"
      ]
     },
     "execution_count": 172,
     "metadata": {},
     "output_type": "execute_result"
    }
   ],
   "source": [
    "#Compute MSE of test set\n",
    "from sklearn.metrics import mean_squared_error\n",
    "MSE_test5 = mean_squared_error(y_test, ada_y_pred_test5)\n",
    "MSE_test5"
   ]
  },
  {
   "cell_type": "markdown",
   "metadata": {},
   "source": [
    "#### Final estimator - n_estimators at 6"
   ]
  },
  {
   "cell_type": "code",
   "execution_count": 173,
   "metadata": {
    "ExecuteTime": {
     "end_time": "2020-05-03T08:42:44.682070Z",
     "start_time": "2020-05-03T08:42:44.670102Z"
    }
   },
   "outputs": [],
   "source": [
    "#Round the predicted values.\n",
    "import numpy as np\n",
    "ada_y_pred_test6 = ada_y_pred_test[5]\n",
    "ada_y_pred_test6 = np.round(ada_y_pred_test6)"
   ]
  },
  {
   "cell_type": "code",
   "execution_count": 174,
   "metadata": {
    "ExecuteTime": {
     "end_time": "2020-05-03T08:42:44.704012Z",
     "start_time": "2020-05-03T08:42:44.685063Z"
    }
   },
   "outputs": [
    {
     "data": {
      "text/plain": [
       "0.5891156462585034"
      ]
     },
     "execution_count": 174,
     "metadata": {},
     "output_type": "execute_result"
    }
   ],
   "source": [
    "#Compute MSE of test set\n",
    "from sklearn.metrics import mean_squared_error\n",
    "MSE_test6 = mean_squared_error(y_test, ada_y_pred_test6)\n",
    "MSE_test6"
   ]
  },
  {
   "cell_type": "markdown",
   "metadata": {},
   "source": [
    "#### Plot all the results above from both test and train set"
   ]
  },
  {
   "cell_type": "code",
   "execution_count": 175,
   "metadata": {
    "ExecuteTime": {
     "end_time": "2020-05-03T08:42:44.724956Z",
     "start_time": "2020-05-03T08:42:44.706007Z"
    }
   },
   "outputs": [],
   "source": [
    "#Add MSEs of each estimator into list.\n",
    "import numpy as np\n",
    "test_mse_list = [MSE_test1,MSE_test2,MSE_test3,MSE_test4,MSE_test5,MSE_test6]\n",
    "train_mse_list = [MSE_train1,MSE_train2,MSE_train3,MSE_train4,MSE_train5,MSE_train6]\n",
    "n_estimators = [1,2,3,4,5,6]\n",
    "test_mse_list = np.round(test_mse_list, decimals = 3)\n",
    "train_mse_list = np.round(train_mse_list, decimals = 3)"
   ]
  },
  {
   "cell_type": "code",
   "execution_count": 176,
   "metadata": {
    "ExecuteTime": {
     "end_time": "2020-05-03T08:42:44.745902Z",
     "start_time": "2020-05-03T08:42:44.727948Z"
    }
   },
   "outputs": [],
   "source": [
    "#Change default plot size.\n",
    "fig_size = plt.rcParams[\"figure.figsize\"]\n",
    "fig_size[0] = 15\n",
    "fig_size[1] = 13\n",
    "plt.rcParams[\"figure.figsize\"] = fig_size"
   ]
  },
  {
   "cell_type": "code",
   "execution_count": 177,
   "metadata": {
    "ExecuteTime": {
     "end_time": "2020-05-03T08:42:45.204008Z",
     "start_time": "2020-05-03T08:42:44.749889Z"
    }
   },
   "outputs": [
    {
     "data": {
      "image/png": "[encoded data removed]",
      "text/plain": [
       "<Figure size 1080x936 with 1 Axes>"
      ]
     },
     "metadata": {
      "needs_background": "light"
     },
     "output_type": "display_data"
    }
   ],
   "source": [
    "#Plot the MSE of each estimator\n",
    "import matplotlib.pyplot as plt\n",
    "for x,y in zip(n_estimators,test_mse_list):\n",
    "\n",
    "    label = \"{:}\".format(y)\n",
    "\n",
    "    plt.annotate(label, # this is the text\n",
    "                 (x,y), # this is the point to label\n",
    "                 textcoords=\"offset points\", # how to position the text\n",
    "                 xytext=(0,10), # distance from text to points (x,y)\n",
    "                 ha='center') # horizontal alignment can be left, right or center\n",
    "for x,y in zip(n_estimators, train_mse_list):\n",
    "\n",
    "    label = \"{:}\".format(y)\n",
    "\n",
    "    plt.annotate(label, # this is the text\n",
    "                 (x,y), # this is the point to label\n",
    "                 textcoords=\"offset points\", # how to position the text\n",
    "                 xytext=(0,10), # distance from text to points (x,y)\n",
    "                 ha='center') # horizontal alignment can be left, right or center\n",
    "plt.xticks(np.arange(-10,16,1))\n",
    "plt.xticks(np.arange(-10,16,1))\n",
    "plt.plot(n_estimators, test_mse_list, marker = '.', color='skyblue', linewidth=6, markersize = 20, label ='Test')\n",
    "plt.plot(n_estimators, train_mse_list, marker = '.', color ='olive', linewidth=6, markersize = 20, label ='Train')\n",
    "plt.xlabel('Number of estimators', fontsize=18)\n",
    "plt.legend()\n",
    "plt.show()"
   ]
  },
  {
   "cell_type": "markdown",
   "metadata": {},
   "source": [
    "#### As we easily saw on the plot, the MSEs of both set tended to decrease when we increased the number of estimators. To be specific, the MSE dropped from 0.6041 to 0.5891 in the test set and dropped from 0.4799 to .4624 in the train set. In addition, MSEs from test set were higher than the MSEs from the train set. Otherwise, MSEs of train and test set remain unchanged at some points."
   ]
  },
  {
   "cell_type": "markdown",
   "metadata": {},
   "source": [
    "#### Plot the raw values of the last estimator"
   ]
  },
  {
   "cell_type": "code",
   "execution_count": 178,
   "metadata": {
    "ExecuteTime": {
     "end_time": "2020-05-03T08:42:45.222958Z",
     "start_time": "2020-05-03T08:42:45.206004Z"
    }
   },
   "outputs": [
    {
     "data": {
      "text/html": [
       "<div>\n",
       "<style scoped>\n",
       "    .dataframe tbody tr th:only-of-type {\n",
       "        vertical-align: middle;\n",
       "    }\n",
       "\n",
       "    .dataframe tbody tr th {\n",
       "        vertical-align: top;\n",
       "    }\n",
       "\n",
       "    .dataframe thead th {\n",
       "        text-align: right;\n",
       "    }\n",
       "</style>\n",
       "<table border=\"1\" class=\"dataframe\">\n",
       "  <thead>\n",
       "    <tr style=\"text-align: right;\">\n",
       "      <th></th>\n",
       "      <th>counts</th>\n",
       "    </tr>\n",
       "  </thead>\n",
       "  <tbody>\n",
       "    <tr>\n",
       "      <th>-3.0</th>\n",
       "      <td>4</td>\n",
       "    </tr>\n",
       "    <tr>\n",
       "      <th>-2.0</th>\n",
       "      <td>10</td>\n",
       "    </tr>\n",
       "    <tr>\n",
       "      <th>-1.0</th>\n",
       "      <td>131</td>\n",
       "    </tr>\n",
       "    <tr>\n",
       "      <th>0.0</th>\n",
       "      <td>421</td>\n",
       "    </tr>\n",
       "    <tr>\n",
       "      <th>1.0</th>\n",
       "      <td>150</td>\n",
       "    </tr>\n",
       "    <tr>\n",
       "      <th>2.0</th>\n",
       "      <td>19</td>\n",
       "    </tr>\n",
       "  </tbody>\n",
       "</table>\n",
       "</div>"
      ],
      "text/plain": [
       "      counts\n",
       "-3.0       4\n",
       "-2.0      10\n",
       "-1.0     131\n",
       " 0.0     421\n",
       " 1.0     150\n",
       " 2.0      19"
      ]
     },
     "execution_count": 178,
     "metadata": {},
     "output_type": "execute_result"
    }
   ],
   "source": [
    "#Count the number of raw error of last estimator.\n",
    "import numpy as np\n",
    "import pandas as pd\n",
    "diff = np.round(y_test - ada_y_pred_test6)\n",
    "# Convert to num arrays\n",
    "diff = np.array(diff)\n",
    "\n",
    "unique, counts = np.unique(np.array(diff).flatten(), return_counts=True)\n",
    "counts_diff = pd.DataFrame({\"counts\":counts}, index=unique) \n",
    "counts_diff\n"
   ]
  },
  {
   "cell_type": "code",
   "execution_count": 179,
   "metadata": {
    "ExecuteTime": {
     "end_time": "2020-05-03T08:42:45.537073Z",
     "start_time": "2020-05-03T08:42:45.224952Z"
    }
   },
   "outputs": [
    {
     "data": {
      "image/png": "[encoded data removed]",
      "text/plain": [
       "<Figure size 1080x936 with 1 Axes>"
      ]
     },
     "metadata": {
      "needs_background": "light"
     },
     "output_type": "display_data"
    }
   ],
   "source": [
    "#Plot the raw errors of last estimator.\n",
    "import matplotlib.pyplot as plt\n",
    "plt.hist(diff, bins = 20, rwidth = 20)\n",
    "for x,y in zip(unique, counts):\n",
    "\n",
    "    label = \"{:}\".format(y)\n",
    "\n",
    "    plt.annotate(label, # this is the text\n",
    "                 (x,y), # this is the point to label\n",
    "                 textcoords=\"offset points\", # how to position the text\n",
    "                 xytext=(0,10), # distance from text to points (x,y)\n",
    "                 ha='center') # horizontal alignment can be left, right or center\n",
    "plt.title('Histogram of prediction errors')\n",
    "plt.xlabel('Prediction error')\n",
    "plt.ylabel('Frequency')\n",
    "plt.show()"
   ]
  },
  {
   "cell_type": "markdown",
   "metadata": {},
   "source": [
    "### The regressor correctly predicts the quality rating 421 times. Additionally, it also overestimates the quality rating by 1 150 times and by 2 19 times. Moreover, it underestimates the quality rating by 1 131 times and by 2 10 times and by 3 4 times."
   ]
  },
  {
   "cell_type": "code",
   "execution_count": 180,
   "metadata": {
    "ExecuteTime": {
     "end_time": "2020-05-03T08:42:45.548042Z",
     "start_time": "2020-05-03T08:42:45.540064Z"
    }
   },
   "outputs": [
    {
     "name": "stdout",
     "output_type": "stream",
     "text": [
      "0.6800050868103248\n",
      "0.7675386936555729\n"
     ]
    }
   ],
   "source": [
    "#Compute RMSE of both train and test set of AdaBoost Regressor\n",
    "import numpy as np\n",
    "RMSE_ada_train = np.sqrt(MSE_train6)\n",
    "RMSE_ada_test = np.sqrt(MSE_test6)\n",
    "print(RMSE_ada_train)\n",
    "print(RMSE_ada_test)"
   ]
  },
  {
   "cell_type": "markdown",
   "metadata": {},
   "source": [
    "## 5. Gradient Boost Regressor"
   ]
  },
  {
   "cell_type": "markdown",
   "metadata": {},
   "source": [
    "### Train Set"
   ]
  },
  {
   "cell_type": "code",
   "execution_count": 181,
   "metadata": {
    "ExecuteTime": {
     "end_time": "2020-05-03T08:42:45.616859Z",
     "start_time": "2020-05-03T08:42:45.551034Z"
    }
   },
   "outputs": [],
   "source": [
    "#Building GradientBoosting Regressor\n",
    "from sklearn.ensemble import GradientBoostingRegressor\n",
    "\n",
    "gbr_reg_train = GradientBoostingRegressor(n_estimators=6, learning_rate=0.1, random_state=42)\n",
    "gbr_reg_train.fit(x_train, y_train)\n",
    "gbr_y_pred_train = list(gbr_reg_train.staged_predict(x_train))"
   ]
  },
  {
   "cell_type": "markdown",
   "metadata": {},
   "source": [
    "#### n_estimators at 1"
   ]
  },
  {
   "cell_type": "code",
   "execution_count": 182,
   "metadata": {
    "ExecuteTime": {
     "end_time": "2020-05-03T08:42:45.626831Z",
     "start_time": "2020-05-03T08:42:45.620849Z"
    }
   },
   "outputs": [],
   "source": [
    "#Round the predicted values.\n",
    "import numpy as np\n",
    "gbr_y_pred_train1 = gbr_y_pred_train[0] \n",
    "gbr_y_pred_train1 = np.round(gbr_y_pred_train1)"
   ]
  },
  {
   "cell_type": "code",
   "execution_count": 183,
   "metadata": {
    "ExecuteTime": {
     "end_time": "2020-05-03T08:42:45.650478Z",
     "start_time": "2020-05-03T08:42:45.630821Z"
    }
   },
   "outputs": [
    {
     "data": {
      "text/plain": [
       "0.7938986307950997"
      ]
     },
     "execution_count": 183,
     "metadata": {},
     "output_type": "execute_result"
    }
   ],
   "source": [
    "#Compute MSE of train set\n",
    "from sklearn.metrics import mean_squared_error\n",
    "MSE_train1 = mean_squared_error(y_train, gbr_y_pred_train1)\n",
    "MSE_train1"
   ]
  },
  {
   "cell_type": "markdown",
   "metadata": {},
   "source": [
    "#### n_estimators at 2"
   ]
  },
  {
   "cell_type": "code",
   "execution_count": 184,
   "metadata": {
    "ExecuteTime": {
     "end_time": "2020-05-03T08:42:45.665437Z",
     "start_time": "2020-05-03T08:42:45.654468Z"
    }
   },
   "outputs": [],
   "source": [
    "#Round the predicted values.\n",
    "import numpy as np\n",
    "gbr_y_pred_train2 = gbr_y_pred_train[1]\n",
    "gbr_y_pred_train2 = np.round(gbr_y_pred_train2)"
   ]
  },
  {
   "cell_type": "code",
   "execution_count": 185,
   "metadata": {
    "ExecuteTime": {
     "end_time": "2020-05-03T08:42:45.687378Z",
     "start_time": "2020-05-03T08:42:45.669427Z"
    }
   },
   "outputs": [
    {
     "data": {
      "text/plain": [
       "0.7938986307950997"
      ]
     },
     "execution_count": 185,
     "metadata": {},
     "output_type": "execute_result"
    }
   ],
   "source": [
    "#Compute MSE of train set\n",
    "from sklearn.metrics import mean_squared_error\n",
    "MSE_train2 = mean_squared_error(y_train, gbr_y_pred_train2)\n",
    "MSE_train2"
   ]
  },
  {
   "cell_type": "markdown",
   "metadata": {},
   "source": [
    "#### n_estimators at 3"
   ]
  },
  {
   "cell_type": "code",
   "execution_count": 186,
   "metadata": {
    "ExecuteTime": {
     "end_time": "2020-05-03T08:42:45.699346Z",
     "start_time": "2020-05-03T08:42:45.689372Z"
    }
   },
   "outputs": [],
   "source": [
    "#Round the predicted values.\n",
    "import numpy as np\n",
    "gbr_y_pred_train3 = gbr_y_pred_train[2]\n",
    "gbr_y_pred_train3 = np.round(gbr_y_pred_train3)"
   ]
  },
  {
   "cell_type": "code",
   "execution_count": 187,
   "metadata": {
    "ExecuteTime": {
     "end_time": "2020-05-03T08:42:45.716308Z",
     "start_time": "2020-05-03T08:42:45.702339Z"
    }
   },
   "outputs": [
    {
     "data": {
      "text/plain": [
       "0.7938986307950997"
      ]
     },
     "execution_count": 187,
     "metadata": {},
     "output_type": "execute_result"
    }
   ],
   "source": [
    "#Compute MSE of train set\n",
    "from sklearn.metrics import mean_squared_error\n",
    "MSE_train3 = mean_squared_error(y_train, gbr_y_pred_train3)\n",
    "MSE_train3"
   ]
  },
  {
   "cell_type": "markdown",
   "metadata": {},
   "source": [
    "#### n_estimators = 4"
   ]
  },
  {
   "cell_type": "code",
   "execution_count": 188,
   "metadata": {
    "ExecuteTime": {
     "end_time": "2020-05-03T08:42:45.730262Z",
     "start_time": "2020-05-03T08:42:45.720290Z"
    }
   },
   "outputs": [],
   "source": [
    "#Round the predicted values.\n",
    "import numpy as np\n",
    "gbr_y_pred_train4 = gbr_y_pred_train[3]\n",
    "gbr_y_pred_train4 = np.round(gbr_y_pred_train4)"
   ]
  },
  {
   "cell_type": "code",
   "execution_count": 189,
   "metadata": {
    "ExecuteTime": {
     "end_time": "2020-05-03T08:42:45.748735Z",
     "start_time": "2020-05-03T08:42:45.733257Z"
    }
   },
   "outputs": [
    {
     "data": {
      "text/plain": [
       "0.7938986307950997"
      ]
     },
     "execution_count": 189,
     "metadata": {},
     "output_type": "execute_result"
    }
   ],
   "source": [
    "#Compute MSE of train set\n",
    "from sklearn.metrics import mean_squared_error\n",
    "MSE_train4 = mean_squared_error(y_train, gbr_y_pred_train4)\n",
    "MSE_train4"
   ]
  },
  {
   "cell_type": "markdown",
   "metadata": {},
   "source": [
    "#### n_estimators = 5"
   ]
  },
  {
   "cell_type": "code",
   "execution_count": 190,
   "metadata": {
    "ExecuteTime": {
     "end_time": "2020-05-03T08:42:45.758701Z",
     "start_time": "2020-05-03T08:42:45.752716Z"
    }
   },
   "outputs": [],
   "source": [
    "#Round the predicted values.\n",
    "import numpy as np\n",
    "gbr_y_pred_train5 = gbr_y_pred_train[4]\n",
    "gbr_y_pred_train5 = np.round(gbr_y_pred_train5)"
   ]
  },
  {
   "cell_type": "code",
   "execution_count": 191,
   "metadata": {
    "ExecuteTime": {
     "end_time": "2020-05-03T08:42:45.770668Z",
     "start_time": "2020-05-03T08:42:45.761692Z"
    }
   },
   "outputs": [
    {
     "data": {
      "text/plain": [
       "0.759548402594283"
      ]
     },
     "execution_count": 191,
     "metadata": {},
     "output_type": "execute_result"
    }
   ],
   "source": [
    "#Compute MSE of train set\n",
    "from sklearn.metrics import mean_squared_error\n",
    "MSE_train5 = mean_squared_error(y_train, gbr_y_pred_train5)\n",
    "MSE_train5"
   ]
  },
  {
   "cell_type": "markdown",
   "metadata": {},
   "source": [
    "#### Final estimator - n_estimators at 6"
   ]
  },
  {
   "cell_type": "code",
   "execution_count": 192,
   "metadata": {
    "ExecuteTime": {
     "end_time": "2020-05-03T08:42:45.780641Z",
     "start_time": "2020-05-03T08:42:45.773661Z"
    }
   },
   "outputs": [],
   "source": [
    "#Round the predicted values.\n",
    "import numpy as np\n",
    "gbr_y_pred_train6 = gbr_y_pred_train[5]\n",
    "gbr_y_pred_train6 = np.round(gbr_y_pred_train6)"
   ]
  },
  {
   "cell_type": "code",
   "execution_count": 193,
   "metadata": {
    "ExecuteTime": {
     "end_time": "2020-05-03T08:42:45.793607Z",
     "start_time": "2020-05-03T08:42:45.783635Z"
    }
   },
   "outputs": [
    {
     "data": {
      "text/plain": [
       "0.7583473456641845"
      ]
     },
     "execution_count": 193,
     "metadata": {},
     "output_type": "execute_result"
    }
   ],
   "source": [
    "#Compute MSE of train set\n",
    "from sklearn.metrics import mean_squared_error\n",
    "MSE_train6 = mean_squared_error(y_train, gbr_y_pred_train6)\n",
    "MSE_train6"
   ]
  },
  {
   "cell_type": "markdown",
   "metadata": {},
   "source": [
    "### Test set"
   ]
  },
  {
   "cell_type": "code",
   "execution_count": 194,
   "metadata": {
    "ExecuteTime": {
     "end_time": "2020-05-03T08:42:45.867930Z",
     "start_time": "2020-05-03T08:42:45.796602Z"
    }
   },
   "outputs": [],
   "source": [
    "#Building GradientBoosting Regressor\n",
    "from sklearn.ensemble import GradientBoostingRegressor\n",
    "\n",
    "gbr_reg_test = GradientBoostingRegressor(n_estimators=6, learning_rate=0.1, random_state=42)\n",
    "gbr_reg_test.fit(x_train, y_train)\n",
    "gbr_y_pred_test = list(gbr_reg_test.staged_predict(x_test))"
   ]
  },
  {
   "cell_type": "markdown",
   "metadata": {},
   "source": [
    "#### n_estimators at 1"
   ]
  },
  {
   "cell_type": "code",
   "execution_count": 195,
   "metadata": {
    "ExecuteTime": {
     "end_time": "2020-05-03T08:42:45.879899Z",
     "start_time": "2020-05-03T08:42:45.872919Z"
    }
   },
   "outputs": [],
   "source": [
    "#Round the predicted values.\n",
    "import numpy as np\n",
    "gbr_y_pred_test1 = gbr_y_pred_test[0]\n",
    "gbr_y_pred_test1 = np.round(gbr_y_pred_test1)"
   ]
  },
  {
   "cell_type": "code",
   "execution_count": 196,
   "metadata": {
    "ExecuteTime": {
     "end_time": "2020-05-03T08:42:45.892866Z",
     "start_time": "2020-05-03T08:42:45.882890Z"
    }
   },
   "outputs": [
    {
     "data": {
      "text/plain": [
       "0.8285714285714286"
      ]
     },
     "execution_count": 196,
     "metadata": {},
     "output_type": "execute_result"
    }
   ],
   "source": [
    "#Compute MSE of test set\n",
    "from sklearn.metrics import mean_squared_error\n",
    "MSE_test1 = mean_squared_error(y_test, gbr_y_pred_test1)\n",
    "MSE_test1"
   ]
  },
  {
   "cell_type": "markdown",
   "metadata": {},
   "source": [
    "#### n_estimators at 2"
   ]
  },
  {
   "cell_type": "code",
   "execution_count": 197,
   "metadata": {
    "ExecuteTime": {
     "end_time": "2020-05-03T08:42:45.900844Z",
     "start_time": "2020-05-03T08:42:45.895858Z"
    }
   },
   "outputs": [],
   "source": [
    "#Round the predicted values.\n",
    "import numpy as np\n",
    "gbr_y_pred_test2 = gbr_y_pred_test[1]\n",
    "gbr_y_pred_test2 = np.round(gbr_y_pred_test2)"
   ]
  },
  {
   "cell_type": "code",
   "execution_count": 198,
   "metadata": {
    "ExecuteTime": {
     "end_time": "2020-05-03T08:42:45.911814Z",
     "start_time": "2020-05-03T08:42:45.903835Z"
    }
   },
   "outputs": [
    {
     "data": {
      "text/plain": [
       "0.8285714285714286"
      ]
     },
     "execution_count": 198,
     "metadata": {},
     "output_type": "execute_result"
    }
   ],
   "source": [
    "#Compute MSE of test set\n",
    "from sklearn.metrics import mean_squared_error\n",
    "MSE_test2 = mean_squared_error(y_test, gbr_y_pred_test2)\n",
    "MSE_test2"
   ]
  },
  {
   "cell_type": "markdown",
   "metadata": {},
   "source": [
    "#### n_estimators at 3"
   ]
  },
  {
   "cell_type": "code",
   "execution_count": 199,
   "metadata": {
    "ExecuteTime": {
     "end_time": "2020-05-03T08:42:45.919792Z",
     "start_time": "2020-05-03T08:42:45.913812Z"
    }
   },
   "outputs": [],
   "source": [
    "#Round the predicted values.\n",
    "import numpy as np\n",
    "gbr_y_pred_test3 = gbr_y_pred_test[2]\n",
    "gbr_y_pred_test3 = np.round(gbr_y_pred_test3)"
   ]
  },
  {
   "cell_type": "code",
   "execution_count": 200,
   "metadata": {
    "ExecuteTime": {
     "end_time": "2020-05-03T08:42:45.929765Z",
     "start_time": "2020-05-03T08:42:45.921786Z"
    }
   },
   "outputs": [
    {
     "data": {
      "text/plain": [
       "0.8285714285714286"
      ]
     },
     "execution_count": 200,
     "metadata": {},
     "output_type": "execute_result"
    }
   ],
   "source": [
    "#Compute MSE of test set\n",
    "from sklearn.metrics import mean_squared_error\n",
    "MSE_test3 = mean_squared_error(y_test, gbr_y_pred_test3)\n",
    "MSE_test3"
   ]
  },
  {
   "cell_type": "markdown",
   "metadata": {},
   "source": [
    "#### n_estimators at 4"
   ]
  },
  {
   "cell_type": "code",
   "execution_count": 201,
   "metadata": {
    "ExecuteTime": {
     "end_time": "2020-05-03T08:42:45.937744Z",
     "start_time": "2020-05-03T08:42:45.932758Z"
    }
   },
   "outputs": [],
   "source": [
    "#Round the predicted values.\n",
    "import numpy as np\n",
    "gbr_y_pred_test4 = gbr_y_pred_test[3]\n",
    "gbr_y_pred_test4 = np.round(gbr_y_pred_test4)"
   ]
  },
  {
   "cell_type": "code",
   "execution_count": 202,
   "metadata": {
    "ExecuteTime": {
     "end_time": "2020-05-03T08:42:45.955929Z",
     "start_time": "2020-05-03T08:42:45.941735Z"
    }
   },
   "outputs": [
    {
     "data": {
      "text/plain": [
       "0.8285714285714286"
      ]
     },
     "execution_count": 202,
     "metadata": {},
     "output_type": "execute_result"
    }
   ],
   "source": [
    "#Compute MSE of test set\n",
    "from sklearn.metrics import mean_squared_error\n",
    "MSE_test4 = mean_squared_error(y_test, gbr_y_pred_test4)\n",
    "MSE_test4"
   ]
  },
  {
   "cell_type": "markdown",
   "metadata": {},
   "source": [
    "#### n_estimators  at 5"
   ]
  },
  {
   "cell_type": "code",
   "execution_count": 203,
   "metadata": {
    "ExecuteTime": {
     "end_time": "2020-05-03T08:42:45.964906Z",
     "start_time": "2020-05-03T08:42:45.958920Z"
    }
   },
   "outputs": [],
   "source": [
    "#Round the predicted values.\n",
    "import numpy as np\n",
    "gbr_y_pred_test5 = gbr_y_pred_test[4]\n",
    "gbr_y_pred_test5 = np.round(gbr_y_pred_test5)"
   ]
  },
  {
   "cell_type": "code",
   "execution_count": 204,
   "metadata": {
    "ExecuteTime": {
     "end_time": "2020-05-03T08:42:45.979867Z",
     "start_time": "2020-05-03T08:42:45.968895Z"
    }
   },
   "outputs": [
    {
     "data": {
      "text/plain": [
       "0.8204081632653061"
      ]
     },
     "execution_count": 204,
     "metadata": {},
     "output_type": "execute_result"
    }
   ],
   "source": [
    "#Compute MSE of test set\n",
    "from sklearn.metrics import mean_squared_error\n",
    "MSE_test5 = mean_squared_error(y_test, gbr_y_pred_test5)\n",
    "MSE_test5"
   ]
  },
  {
   "cell_type": "markdown",
   "metadata": {},
   "source": [
    "#### Final estimator - n_estimators = 6"
   ]
  },
  {
   "cell_type": "code",
   "execution_count": 205,
   "metadata": {
    "ExecuteTime": {
     "end_time": "2020-05-03T08:42:45.988841Z",
     "start_time": "2020-05-03T08:42:45.982860Z"
    }
   },
   "outputs": [],
   "source": [
    "#Round the predicted values.\n",
    "import numpy as np\n",
    "gbr_y_pred_test6 = gbr_y_pred_test[5]\n",
    "gbr_y_pred_test6 = np.round(gbr_y_pred_test6)"
   ]
  },
  {
   "cell_type": "code",
   "execution_count": 206,
   "metadata": {
    "ExecuteTime": {
     "end_time": "2020-05-03T08:42:46.002803Z",
     "start_time": "2020-05-03T08:42:45.991834Z"
    }
   },
   "outputs": [
    {
     "data": {
      "text/plain": [
       "0.8122448979591836"
      ]
     },
     "execution_count": 206,
     "metadata": {},
     "output_type": "execute_result"
    }
   ],
   "source": [
    "#Compute MSE of test set\n",
    "from sklearn.metrics import mean_squared_error\n",
    "MSE_test6 = mean_squared_error(y_test, gbr_y_pred_test6)\n",
    "MSE_test6"
   ]
  },
  {
   "cell_type": "markdown",
   "metadata": {},
   "source": [
    "#### Plot all the results above from both test and train set"
   ]
  },
  {
   "cell_type": "code",
   "execution_count": 207,
   "metadata": {
    "ExecuteTime": {
     "end_time": "2020-05-03T08:42:46.015769Z",
     "start_time": "2020-05-03T08:42:46.007790Z"
    }
   },
   "outputs": [],
   "source": [
    "#Add MSEs of each estimator into list.\n",
    "import numpy as np\n",
    "test_mse_list = [MSE_test1,MSE_test2,MSE_test3,MSE_test4,MSE_test5,MSE_test6]\n",
    "train_mse_list = [MSE_train1,MSE_train2,MSE_train3,MSE_train4,MSE_train5,MSE_train6]\n",
    "n_estimators = [1,2,3,4,5,6]\n",
    "test_mse_list = np.round(test_mse_list, decimals = 3)\n",
    "train_mse_list = np.round(train_mse_list, decimals = 3)"
   ]
  },
  {
   "cell_type": "code",
   "execution_count": 208,
   "metadata": {
    "ExecuteTime": {
     "end_time": "2020-05-03T08:42:46.397259Z",
     "start_time": "2020-05-03T08:42:46.019759Z"
    }
   },
   "outputs": [
    {
     "data": {
      "image/png": "[encoded data removed]",
      "text/plain": [
       "<Figure size 1080x936 with 1 Axes>"
      ]
     },
     "metadata": {
      "needs_background": "light"
     },
     "output_type": "display_data"
    }
   ],
   "source": [
    "#Plot the MSE of each estimator\n",
    "import matplotlib.pyplot as plt\n",
    "for x,y in zip(n_estimators,test_mse_list):\n",
    "\n",
    "    label = \"{:}\".format(y)\n",
    "\n",
    "    plt.annotate(label, # this is the text\n",
    "                 (x,y), # this is the point to label\n",
    "                 textcoords=\"offset points\", # how to position the text\n",
    "                 xytext=(0,10), # distance from text to points (x,y)\n",
    "                 ha='center') # horizontal alignment can be left, right or center\n",
    "for x,y in zip(n_estimators, train_mse_list):\n",
    "\n",
    "    label = \"{:}\".format(y)\n",
    "\n",
    "    plt.annotate(label, # this is the text\n",
    "                 (x,y), # this is the point to label\n",
    "                 textcoords=\"offset points\", # how to position the text\n",
    "                 xytext=(0,10), # distance from text to points (x,y)\n",
    "                 ha='center') # horizontal alignment can be left, right or center\n",
    "plt.plot(n_estimators, test_mse_list, marker = '.', color='skyblue', linewidth=6, markersize = 20, label ='Test')\n",
    "plt.plot(n_estimators, train_mse_list, marker = '.', color ='olive', linewidth=6, markersize = 20, label ='Train')\n",
    "plt.xlabel('Number of estimators', fontsize=18)\n",
    "plt.ylabel('MSE', fontsize=18)\n",
    "plt.legend()\n",
    "plt.show()"
   ]
  },
  {
   "cell_type": "markdown",
   "metadata": {},
   "source": [
    "#### Both MSE of both train and test set tended to decrease from n_estimators at 1 to n_estimators at 6. All MSEs of train set were smaller than the MSEs of train set. Specifically, the MSE dropped from 0.8286 to 0.8122 in the test set and dropped from 0.7939 to 0.7583 in the train set. On the other hand, MSEs of both sets remained the same from n_estimators at 2 to n_estimators at 4 and then decreased afterward."
   ]
  },
  {
   "cell_type": "markdown",
   "metadata": {},
   "source": [
    "#### Plot raw values of the last estimator."
   ]
  },
  {
   "cell_type": "code",
   "execution_count": 209,
   "metadata": {
    "ExecuteTime": {
     "end_time": "2020-05-03T08:42:46.417206Z",
     "start_time": "2020-05-03T08:42:46.402248Z"
    }
   },
   "outputs": [
    {
     "data": {
      "text/html": [
       "<div>\n",
       "<style scoped>\n",
       "    .dataframe tbody tr th:only-of-type {\n",
       "        vertical-align: middle;\n",
       "    }\n",
       "\n",
       "    .dataframe tbody tr th {\n",
       "        vertical-align: top;\n",
       "    }\n",
       "\n",
       "    .dataframe thead th {\n",
       "        text-align: right;\n",
       "    }\n",
       "</style>\n",
       "<table border=\"1\" class=\"dataframe\">\n",
       "  <thead>\n",
       "    <tr style=\"text-align: right;\">\n",
       "      <th></th>\n",
       "      <th>counts</th>\n",
       "    </tr>\n",
       "  </thead>\n",
       "  <tbody>\n",
       "    <tr>\n",
       "      <th>-3.0</th>\n",
       "      <td>5</td>\n",
       "    </tr>\n",
       "    <tr>\n",
       "      <th>-2.0</th>\n",
       "      <td>17</td>\n",
       "    </tr>\n",
       "    <tr>\n",
       "      <th>-1.0</th>\n",
       "      <td>218</td>\n",
       "    </tr>\n",
       "    <tr>\n",
       "      <th>0.0</th>\n",
       "      <td>319</td>\n",
       "    </tr>\n",
       "    <tr>\n",
       "      <th>1.0</th>\n",
       "      <td>146</td>\n",
       "    </tr>\n",
       "    <tr>\n",
       "      <th>2.0</th>\n",
       "      <td>30</td>\n",
       "    </tr>\n",
       "  </tbody>\n",
       "</table>\n",
       "</div>"
      ],
      "text/plain": [
       "      counts\n",
       "-3.0       5\n",
       "-2.0      17\n",
       "-1.0     218\n",
       " 0.0     319\n",
       " 1.0     146\n",
       " 2.0      30"
      ]
     },
     "execution_count": 209,
     "metadata": {},
     "output_type": "execute_result"
    }
   ],
   "source": [
    "#Count the number of raw error of last estimator.\n",
    "import numpy as np\n",
    "import pandas as pd\n",
    "diff = np.round(y_test - gbr_y_pred_test6)\n",
    "# Convert to num arrays\n",
    "diff = np.array(diff)\n",
    "\n",
    "unique, counts = np.unique(np.array(diff).flatten(), return_counts=True)\n",
    "counts_diff = pd.DataFrame({\"counts\":counts}, index=unique) \n",
    "counts_diff"
   ]
  },
  {
   "cell_type": "code",
   "execution_count": 210,
   "metadata": {
    "ExecuteTime": {
     "end_time": "2020-05-03T08:42:46.740375Z",
     "start_time": "2020-05-03T08:42:46.420203Z"
    }
   },
   "outputs": [
    {
     "data": {
      "image/png": "[encoded data removed]",
      "text/plain": [
       "<Figure size 1080x936 with 1 Axes>"
      ]
     },
     "metadata": {
      "needs_background": "light"
     },
     "output_type": "display_data"
    }
   ],
   "source": [
    "#Plot the raw errors of last estimator.\n",
    "import matplotlib.pyplot as plt\n",
    "plt.hist(diff, bins = 20, rwidth = 20)\n",
    "for x,y in zip(unique, counts):\n",
    "\n",
    "    label = \"{:}\".format(y)\n",
    "\n",
    "    plt.annotate(label, # this is the text\n",
    "                 (x,y), # this is the point to label\n",
    "                 textcoords=\"offset points\", # how to position the text\n",
    "                 xytext=(0,10), # distance from text to points (x,y)\n",
    "                 ha='center') # horizontal alignment can be left, right or center\n",
    "plt.title('Histogram of prediction errors')\n",
    "plt.xlabel('Prediction error')\n",
    "plt.ylabel('Frequency')\n",
    "plt.show()"
   ]
  },
  {
   "cell_type": "markdown",
   "metadata": {},
   "source": [
    "### The regressor correctly predicts the quality rating 319 times. Additionally, it also overestimates the quality rating by 1 146 times and by 2 30 times. Moreover, it underestimates the quality rating by 1 218 times and by 2 17 times and by 3 5 times."
   ]
  },
  {
   "cell_type": "code",
   "execution_count": 211,
   "metadata": {
    "ExecuteTime": {
     "end_time": "2020-05-03T08:42:46.750349Z",
     "start_time": "2020-05-03T08:42:46.743336Z"
    }
   },
   "outputs": [
    {
     "name": "stdout",
     "output_type": "stream",
     "text": [
      "0.8708314105865638\n",
      "0.9012463026050003\n"
     ]
    }
   ],
   "source": [
    "#Compute RMSE of both train and test set of Gradient Boosting Regressor\n",
    "import numpy as np\n",
    "RMSE_gbr_train = np.sqrt(MSE_train6)\n",
    "RMSE_gbr_test = np.sqrt(MSE_test6)\n",
    "print(RMSE_gbr_train)\n",
    "print(RMSE_gbr_test)"
   ]
  },
  {
   "cell_type": "markdown",
   "metadata": {},
   "source": [
    "## 6. Conclusion"
   ]
  },
  {
   "cell_type": "markdown",
   "metadata": {},
   "source": [
    "- MSEs of train set are always lower than MSEs of test set in this dataset.\n",
    "- The trend of MSEs of both test and train set usually decreased when we increased the number of estimators of both regressors.\n",
    "- The MSEs of both sets in AdaBoost Regressor with SVR with kernel = \"rbf\" were lower than the MSEs of both sets in Gradient Boosting Regressor.\n",
    "- The MSEs of both regressors were relatively high which can cause higher RMSE => Because RMSE is interpreted as the standard deviation of the unexplained variance. Low RMSE indacated the better fit with the model. It is also the good measure of how accurately the model predicts the response.\n",
    "- Compared to MSE of last estimator both regressors :\n",
    "+ With Adaboost Regressor: MSE train was smaller than RMSE test but they not varied much => acceptable .\n",
    "+ With Gradient Boosting Regressor: MSE train was smaller than MSE test which was still the same as Adaboost Regressor. Moreover, they not varied much => still acceptable."
   ]
  }
 ],
 "metadata": {
  "kernelspec": {
   "display_name": "Python 3",
   "language": "python",
   "name": "python3"
  },
  "language_info": {
   "codemirror_mode": {
    "name": "ipython",
    "version": 3
   },
   "file_extension": ".py",
   "mimetype": "text/x-python",
   "name": "python",
   "nbconvert_exporter": "python",
   "pygments_lexer": "ipython3",
   "version": "3.7.6"
  }
 },
 "nbformat": 4,
 "nbformat_minor": 4
}

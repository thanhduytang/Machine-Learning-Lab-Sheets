{
 "cells": [
  {
   "cell_type": "markdown",
   "metadata": {},
   "source": [
    "<center><b><big> CITS 5508 LAB SHEET 2: CLASSIFICATION ON FOREST TYPE MAPPING DATASET </big></b></center>\n",
    "\n",
    "**Name: Thanh Duy Tang**<br>\n",
    "**Student Number: 22803018**<br>\n",
    "**Date created: 10th March 2020 <br>\n",
    "**Last modified: 19th March 2020\n"
   ]
  },
  {
   "cell_type": "markdown",
   "metadata": {},
   "source": [
    "## 1. Setup\n",
    "\n",
    "Before going to loading data part, we need to make sure that MatplotLib figures inline and prepare a function to save the figures. Moreover, we should use Python 3.0 as well as Scikit-Learn >= 0.20"
   ]
  },
  {
   "cell_type": "code",
   "execution_count": 2,
   "metadata": {},
   "outputs": [],
   "source": [
    "#Python >= 3.0 is required\n",
    "import sys\n",
    "assert sys.version_info >= (3,5)\n",
    "\n",
    "#Scikit-Learn >= 0.20 \n",
    "import sklearn\n",
    "assert sklearn.__version__ >= '0.20'\n",
    "\n",
    "#Get the pretty figures\n",
    "%matplotlib inline\n",
    "import matplotlib as mpl\n",
    "import matplotlib.pyplot as plt\n",
    "mpl.rc('axes', labelsize=14)\n",
    "mpl.rc('xtick', labelsize=12)\n",
    "mpl.rc('ytick', labelsize=12)\n",
    "\n",
    "#Save the figures\n",
    "import os\n",
    "LAB2_ROOT_DIR = \".\"\n",
    "CHAPTER_ID = \"LAB SHEET 2\"\n",
    "IMAGES_PATH = os.path.join(LAB2_ROOT_DIR, \"images\", CHAPTER_ID)\n",
    "os.makedirs(IMAGES_PATH, exist_ok=True)\n",
    "\n",
    "def save_fig(fig_id, tight_layout=True, fig_extension=\"png\", resolution=300):\n",
    "    path = os.path.join(IMAGES_PATH, fig_id + \".\" + fig_extension)\n",
    "    print(\"Saving figure\", fig_id)\n",
    "    if tight_layout:\n",
    "        plt.tight_layout()\n",
    "    plt.savefig(path, format=fig_extension, dpi=resolution)\n",
    "    \n",
    "#Ignore useless warnings\n",
    "import warnings\n",
    "warnings.filterwarnings(action=\"ignore\", message=\"^internal gelsd\")"
   ]
  },
  {
   "cell_type": "markdown",
   "metadata": {},
   "source": [
    "## 2. Loading data\n",
    "First, we need to dowload the zip file from http://archive.ics.uci.edu/ml/datasets/Forest+type+mapping# and extract two files csv training and testing into the same directory of this lab file."
   ]
  },
  {
   "cell_type": "code",
   "execution_count": 3,
   "metadata": {},
   "outputs": [],
   "source": [
    "#Load the Pandas libraries with alias \"pd\"\n",
    "import os\n",
    "import pandas as pd\n",
    "#Read data from 2 files \"traning.csv\" and \"testing.csv\"\n",
    "train_set = pd.read_csv(\"training.csv\")\n",
    "test_origin_set = pd.read_csv(\"testing.csv\")"
   ]
  },
  {
   "cell_type": "code",
   "execution_count": 4,
   "metadata": {},
   "outputs": [
    {
     "data": {
      "text/html": [
       "<div>\n",
       "<style scoped>\n",
       "    .dataframe tbody tr th:only-of-type {\n",
       "        vertical-align: middle;\n",
       "    }\n",
       "\n",
       "    .dataframe tbody tr th {\n",
       "        vertical-align: top;\n",
       "    }\n",
       "\n",
       "    .dataframe thead th {\n",
       "        text-align: right;\n",
       "    }\n",
       "</style>\n",
       "<table border=\"1\" class=\"dataframe\">\n",
       "  <thead>\n",
       "    <tr style=\"text-align: right;\">\n",
       "      <th></th>\n",
       "      <th>class</th>\n",
       "      <th>b1</th>\n",
       "      <th>b2</th>\n",
       "      <th>b3</th>\n",
       "      <th>b4</th>\n",
       "      <th>b5</th>\n",
       "      <th>b6</th>\n",
       "      <th>b7</th>\n",
       "      <th>b8</th>\n",
       "      <th>b9</th>\n",
       "      <th>...</th>\n",
       "      <th>pred_minus_obs_H_b9</th>\n",
       "      <th>pred_minus_obs_S_b1</th>\n",
       "      <th>pred_minus_obs_S_b2</th>\n",
       "      <th>pred_minus_obs_S_b3</th>\n",
       "      <th>pred_minus_obs_S_b4</th>\n",
       "      <th>pred_minus_obs_S_b5</th>\n",
       "      <th>pred_minus_obs_S_b6</th>\n",
       "      <th>pred_minus_obs_S_b7</th>\n",
       "      <th>pred_minus_obs_S_b8</th>\n",
       "      <th>pred_minus_obs_S_b9</th>\n",
       "    </tr>\n",
       "  </thead>\n",
       "  <tbody>\n",
       "    <tr>\n",
       "      <th>0</th>\n",
       "      <td>d</td>\n",
       "      <td>67</td>\n",
       "      <td>51</td>\n",
       "      <td>68</td>\n",
       "      <td>115</td>\n",
       "      <td>69</td>\n",
       "      <td>111</td>\n",
       "      <td>136</td>\n",
       "      <td>31</td>\n",
       "      <td>67</td>\n",
       "      <td>...</td>\n",
       "      <td>-9.17</td>\n",
       "      <td>-18.27</td>\n",
       "      <td>-1.80</td>\n",
       "      <td>-6.32</td>\n",
       "      <td>-20.88</td>\n",
       "      <td>-1.63</td>\n",
       "      <td>-6.13</td>\n",
       "      <td>-22.56</td>\n",
       "      <td>-5.53</td>\n",
       "      <td>-8.11</td>\n",
       "    </tr>\n",
       "    <tr>\n",
       "      <th>1</th>\n",
       "      <td>s</td>\n",
       "      <td>67</td>\n",
       "      <td>28</td>\n",
       "      <td>51</td>\n",
       "      <td>99</td>\n",
       "      <td>50</td>\n",
       "      <td>97</td>\n",
       "      <td>82</td>\n",
       "      <td>26</td>\n",
       "      <td>59</td>\n",
       "      <td>...</td>\n",
       "      <td>-2.25</td>\n",
       "      <td>-20.13</td>\n",
       "      <td>-2.11</td>\n",
       "      <td>-6.35</td>\n",
       "      <td>-21.94</td>\n",
       "      <td>-1.22</td>\n",
       "      <td>-6.13</td>\n",
       "      <td>-22.20</td>\n",
       "      <td>-3.41</td>\n",
       "      <td>-6.57</td>\n",
       "    </tr>\n",
       "    <tr>\n",
       "      <th>2</th>\n",
       "      <td>s</td>\n",
       "      <td>63</td>\n",
       "      <td>26</td>\n",
       "      <td>50</td>\n",
       "      <td>95</td>\n",
       "      <td>49</td>\n",
       "      <td>91</td>\n",
       "      <td>81</td>\n",
       "      <td>26</td>\n",
       "      <td>57</td>\n",
       "      <td>...</td>\n",
       "      <td>-0.44</td>\n",
       "      <td>-17.64</td>\n",
       "      <td>-1.81</td>\n",
       "      <td>-4.70</td>\n",
       "      <td>-19.39</td>\n",
       "      <td>-0.65</td>\n",
       "      <td>-5.01</td>\n",
       "      <td>-20.89</td>\n",
       "      <td>-3.96</td>\n",
       "      <td>-6.85</td>\n",
       "    </tr>\n",
       "    <tr>\n",
       "      <th>3</th>\n",
       "      <td>d</td>\n",
       "      <td>63</td>\n",
       "      <td>42</td>\n",
       "      <td>63</td>\n",
       "      <td>97</td>\n",
       "      <td>66</td>\n",
       "      <td>108</td>\n",
       "      <td>111</td>\n",
       "      <td>28</td>\n",
       "      <td>59</td>\n",
       "      <td>...</td>\n",
       "      <td>-2.34</td>\n",
       "      <td>-20.20</td>\n",
       "      <td>-1.89</td>\n",
       "      <td>-5.47</td>\n",
       "      <td>-21.65</td>\n",
       "      <td>-0.99</td>\n",
       "      <td>-5.71</td>\n",
       "      <td>-22.19</td>\n",
       "      <td>-3.41</td>\n",
       "      <td>-6.52</td>\n",
       "    </tr>\n",
       "    <tr>\n",
       "      <th>4</th>\n",
       "      <td>s</td>\n",
       "      <td>46</td>\n",
       "      <td>27</td>\n",
       "      <td>50</td>\n",
       "      <td>83</td>\n",
       "      <td>51</td>\n",
       "      <td>90</td>\n",
       "      <td>76</td>\n",
       "      <td>26</td>\n",
       "      <td>56</td>\n",
       "      <td>...</td>\n",
       "      <td>1.25</td>\n",
       "      <td>-18.62</td>\n",
       "      <td>-2.17</td>\n",
       "      <td>-7.11</td>\n",
       "      <td>-21.12</td>\n",
       "      <td>-1.56</td>\n",
       "      <td>-6.35</td>\n",
       "      <td>-22.19</td>\n",
       "      <td>-4.45</td>\n",
       "      <td>-7.32</td>\n",
       "    </tr>\n",
       "  </tbody>\n",
       "</table>\n",
       "<p>5 rows × 28 columns</p>\n",
       "</div>"
      ],
      "text/plain": [
       "  class  b1  b2  b3   b4  b5   b6   b7  b8  b9  ...  pred_minus_obs_H_b9  \\\n",
       "0    d   67  51  68  115  69  111  136  31  67  ...                -9.17   \n",
       "1    s   67  28  51   99  50   97   82  26  59  ...                -2.25   \n",
       "2    s   63  26  50   95  49   91   81  26  57  ...                -0.44   \n",
       "3    d   63  42  63   97  66  108  111  28  59  ...                -2.34   \n",
       "4    s   46  27  50   83  51   90   76  26  56  ...                 1.25   \n",
       "\n",
       "   pred_minus_obs_S_b1  pred_minus_obs_S_b2  pred_minus_obs_S_b3  \\\n",
       "0               -18.27                -1.80                -6.32   \n",
       "1               -20.13                -2.11                -6.35   \n",
       "2               -17.64                -1.81                -4.70   \n",
       "3               -20.20                -1.89                -5.47   \n",
       "4               -18.62                -2.17                -7.11   \n",
       "\n",
       "   pred_minus_obs_S_b4  pred_minus_obs_S_b5  pred_minus_obs_S_b6  \\\n",
       "0               -20.88                -1.63                -6.13   \n",
       "1               -21.94                -1.22                -6.13   \n",
       "2               -19.39                -0.65                -5.01   \n",
       "3               -21.65                -0.99                -5.71   \n",
       "4               -21.12                -1.56                -6.35   \n",
       "\n",
       "   pred_minus_obs_S_b7  pred_minus_obs_S_b8  pred_minus_obs_S_b9  \n",
       "0               -22.56                -5.53                -8.11  \n",
       "1               -22.20                -3.41                -6.57  \n",
       "2               -20.89                -3.96                -6.85  \n",
       "3               -22.19                -3.41                -6.52  \n",
       "4               -22.19                -4.45                -7.32  \n",
       "\n",
       "[5 rows x 28 columns]"
      ]
     },
     "execution_count": 4,
     "metadata": {},
     "output_type": "execute_result"
    }
   ],
   "source": [
    "#Take a look at some lines of training dataset\n",
    "train_set.head()"
   ]
  },
  {
   "cell_type": "code",
   "execution_count": 5,
   "metadata": {},
   "outputs": [
    {
     "name": "stdout",
     "output_type": "stream",
     "text": [
      "<class 'pandas.core.frame.DataFrame'>\n",
      "RangeIndex: 325 entries, 0 to 324\n",
      "Data columns (total 28 columns):\n",
      " #   Column               Non-Null Count  Dtype  \n",
      "---  ------               --------------  -----  \n",
      " 0   class                325 non-null    object \n",
      " 1   b1                   325 non-null    int64  \n",
      " 2   b2                   325 non-null    int64  \n",
      " 3   b3                   325 non-null    int64  \n",
      " 4   b4                   325 non-null    int64  \n",
      " 5   b5                   325 non-null    int64  \n",
      " 6   b6                   325 non-null    int64  \n",
      " 7   b7                   325 non-null    int64  \n",
      " 8   b8                   325 non-null    int64  \n",
      " 9   b9                   325 non-null    int64  \n",
      " 10  pred_minus_obs_H_b1  325 non-null    float64\n",
      " 11  pred_minus_obs_H_b2  325 non-null    float64\n",
      " 12  pred_minus_obs_H_b3  325 non-null    float64\n",
      " 13  pred_minus_obs_H_b4  325 non-null    float64\n",
      " 14  pred_minus_obs_H_b5  325 non-null    float64\n",
      " 15  pred_minus_obs_H_b6  325 non-null    float64\n",
      " 16  pred_minus_obs_H_b7  325 non-null    float64\n",
      " 17  pred_minus_obs_H_b8  325 non-null    float64\n",
      " 18  pred_minus_obs_H_b9  325 non-null    float64\n",
      " 19  pred_minus_obs_S_b1  325 non-null    float64\n",
      " 20  pred_minus_obs_S_b2  325 non-null    float64\n",
      " 21  pred_minus_obs_S_b3  325 non-null    float64\n",
      " 22  pred_minus_obs_S_b4  325 non-null    float64\n",
      " 23  pred_minus_obs_S_b5  325 non-null    float64\n",
      " 24  pred_minus_obs_S_b6  325 non-null    float64\n",
      " 25  pred_minus_obs_S_b7  325 non-null    float64\n",
      " 26  pred_minus_obs_S_b8  325 non-null    float64\n",
      " 27  pred_minus_obs_S_b9  325 non-null    float64\n",
      "dtypes: float64(18), int64(9), object(1)\n",
      "memory usage: 71.2+ KB\n"
     ]
    },
    {
     "data": {
      "text/html": [
       "<div>\n",
       "<style scoped>\n",
       "    .dataframe tbody tr th:only-of-type {\n",
       "        vertical-align: middle;\n",
       "    }\n",
       "\n",
       "    .dataframe tbody tr th {\n",
       "        vertical-align: top;\n",
       "    }\n",
       "\n",
       "    .dataframe thead th {\n",
       "        text-align: right;\n",
       "    }\n",
       "</style>\n",
       "<table border=\"1\" class=\"dataframe\">\n",
       "  <thead>\n",
       "    <tr style=\"text-align: right;\">\n",
       "      <th></th>\n",
       "      <th>b1</th>\n",
       "      <th>b2</th>\n",
       "      <th>b3</th>\n",
       "      <th>b4</th>\n",
       "      <th>b5</th>\n",
       "      <th>b6</th>\n",
       "      <th>b7</th>\n",
       "      <th>b8</th>\n",
       "      <th>b9</th>\n",
       "      <th>pred_minus_obs_H_b1</th>\n",
       "      <th>...</th>\n",
       "      <th>pred_minus_obs_H_b9</th>\n",
       "      <th>pred_minus_obs_S_b1</th>\n",
       "      <th>pred_minus_obs_S_b2</th>\n",
       "      <th>pred_minus_obs_S_b3</th>\n",
       "      <th>pred_minus_obs_S_b4</th>\n",
       "      <th>pred_minus_obs_S_b5</th>\n",
       "      <th>pred_minus_obs_S_b6</th>\n",
       "      <th>pred_minus_obs_S_b7</th>\n",
       "      <th>pred_minus_obs_S_b8</th>\n",
       "      <th>pred_minus_obs_S_b9</th>\n",
       "    </tr>\n",
       "  </thead>\n",
       "  <tbody>\n",
       "    <tr>\n",
       "      <th>count</th>\n",
       "      <td>325.000000</td>\n",
       "      <td>325.000000</td>\n",
       "      <td>325.000000</td>\n",
       "      <td>325.000000</td>\n",
       "      <td>325.000000</td>\n",
       "      <td>325.000000</td>\n",
       "      <td>325.000000</td>\n",
       "      <td>325.000000</td>\n",
       "      <td>325.000000</td>\n",
       "      <td>325.000000</td>\n",
       "      <td>...</td>\n",
       "      <td>325.000000</td>\n",
       "      <td>325.000000</td>\n",
       "      <td>325.000000</td>\n",
       "      <td>325.000000</td>\n",
       "      <td>325.000000</td>\n",
       "      <td>325.000000</td>\n",
       "      <td>325.000000</td>\n",
       "      <td>325.000000</td>\n",
       "      <td>325.000000</td>\n",
       "      <td>325.000000</td>\n",
       "    </tr>\n",
       "    <tr>\n",
       "      <th>mean</th>\n",
       "      <td>58.021538</td>\n",
       "      <td>38.381538</td>\n",
       "      <td>61.467692</td>\n",
       "      <td>96.175385</td>\n",
       "      <td>58.098462</td>\n",
       "      <td>99.196923</td>\n",
       "      <td>85.864615</td>\n",
       "      <td>27.375385</td>\n",
       "      <td>58.880000</td>\n",
       "      <td>55.786769</td>\n",
       "      <td>...</td>\n",
       "      <td>-3.341446</td>\n",
       "      <td>-20.004954</td>\n",
       "      <td>-1.086092</td>\n",
       "      <td>-4.375846</td>\n",
       "      <td>-21.664185</td>\n",
       "      <td>-0.979815</td>\n",
       "      <td>-4.633323</td>\n",
       "      <td>-18.996462</td>\n",
       "      <td>-1.701785</td>\n",
       "      <td>-4.229108</td>\n",
       "    </tr>\n",
       "    <tr>\n",
       "      <th>std</th>\n",
       "      <td>11.705076</td>\n",
       "      <td>14.589516</td>\n",
       "      <td>15.003385</td>\n",
       "      <td>11.120136</td>\n",
       "      <td>10.654920</td>\n",
       "      <td>9.438789</td>\n",
       "      <td>16.642765</td>\n",
       "      <td>7.445316</td>\n",
       "      <td>8.884777</td>\n",
       "      <td>12.347445</td>\n",
       "      <td>...</td>\n",
       "      <td>8.921301</td>\n",
       "      <td>2.908311</td>\n",
       "      <td>1.054544</td>\n",
       "      <td>1.850954</td>\n",
       "      <td>3.594512</td>\n",
       "      <td>0.308081</td>\n",
       "      <td>1.054033</td>\n",
       "      <td>3.307265</td>\n",
       "      <td>1.017594</td>\n",
       "      <td>1.150070</td>\n",
       "    </tr>\n",
       "    <tr>\n",
       "      <th>min</th>\n",
       "      <td>31.000000</td>\n",
       "      <td>23.000000</td>\n",
       "      <td>47.000000</td>\n",
       "      <td>69.000000</td>\n",
       "      <td>43.000000</td>\n",
       "      <td>83.000000</td>\n",
       "      <td>42.000000</td>\n",
       "      <td>19.000000</td>\n",
       "      <td>45.000000</td>\n",
       "      <td>4.950000</td>\n",
       "      <td>...</td>\n",
       "      <td>-58.280000</td>\n",
       "      <td>-26.790000</td>\n",
       "      <td>-5.510000</td>\n",
       "      <td>-10.120000</td>\n",
       "      <td>-34.630000</td>\n",
       "      <td>-1.830000</td>\n",
       "      <td>-7.970000</td>\n",
       "      <td>-29.340000</td>\n",
       "      <td>-6.500000</td>\n",
       "      <td>-8.930000</td>\n",
       "    </tr>\n",
       "    <tr>\n",
       "      <th>25%</th>\n",
       "      <td>50.000000</td>\n",
       "      <td>28.000000</td>\n",
       "      <td>52.000000</td>\n",
       "      <td>89.000000</td>\n",
       "      <td>51.000000</td>\n",
       "      <td>93.000000</td>\n",
       "      <td>73.000000</td>\n",
       "      <td>24.000000</td>\n",
       "      <td>54.000000</td>\n",
       "      <td>48.370000</td>\n",
       "      <td>...</td>\n",
       "      <td>-4.660000</td>\n",
       "      <td>-22.250000</td>\n",
       "      <td>-1.750000</td>\n",
       "      <td>-5.530000</td>\n",
       "      <td>-24.220000</td>\n",
       "      <td>-1.190000</td>\n",
       "      <td>-5.410000</td>\n",
       "      <td>-21.780000</td>\n",
       "      <td>-2.360000</td>\n",
       "      <td>-4.870000</td>\n",
       "    </tr>\n",
       "    <tr>\n",
       "      <th>50%</th>\n",
       "      <td>57.000000</td>\n",
       "      <td>32.000000</td>\n",
       "      <td>55.000000</td>\n",
       "      <td>95.000000</td>\n",
       "      <td>54.000000</td>\n",
       "      <td>96.000000</td>\n",
       "      <td>85.000000</td>\n",
       "      <td>25.000000</td>\n",
       "      <td>57.000000</td>\n",
       "      <td>57.560000</td>\n",
       "      <td>...</td>\n",
       "      <td>-1.250000</td>\n",
       "      <td>-19.950000</td>\n",
       "      <td>-1.030000</td>\n",
       "      <td>-4.490000</td>\n",
       "      <td>-21.040000</td>\n",
       "      <td>-0.990000</td>\n",
       "      <td>-4.670000</td>\n",
       "      <td>-18.870000</td>\n",
       "      <td>-1.650000</td>\n",
       "      <td>-4.150000</td>\n",
       "    </tr>\n",
       "    <tr>\n",
       "      <th>75%</th>\n",
       "      <td>65.000000</td>\n",
       "      <td>43.000000</td>\n",
       "      <td>65.000000</td>\n",
       "      <td>103.000000</td>\n",
       "      <td>63.000000</td>\n",
       "      <td>103.000000</td>\n",
       "      <td>98.000000</td>\n",
       "      <td>27.000000</td>\n",
       "      <td>60.000000</td>\n",
       "      <td>64.120000</td>\n",
       "      <td>...</td>\n",
       "      <td>1.430000</td>\n",
       "      <td>-18.250000</td>\n",
       "      <td>-0.390000</td>\n",
       "      <td>-2.770000</td>\n",
       "      <td>-19.060000</td>\n",
       "      <td>-0.780000</td>\n",
       "      <td>-3.900000</td>\n",
       "      <td>-16.770000</td>\n",
       "      <td>-1.030000</td>\n",
       "      <td>-3.290000</td>\n",
       "    </tr>\n",
       "    <tr>\n",
       "      <th>max</th>\n",
       "      <td>107.000000</td>\n",
       "      <td>91.000000</td>\n",
       "      <td>124.000000</td>\n",
       "      <td>141.000000</td>\n",
       "      <td>100.000000</td>\n",
       "      <td>138.000000</td>\n",
       "      <td>136.000000</td>\n",
       "      <td>84.000000</td>\n",
       "      <td>114.000000</td>\n",
       "      <td>86.080000</td>\n",
       "      <td>...</td>\n",
       "      <td>9.580000</td>\n",
       "      <td>-7.760000</td>\n",
       "      <td>1.780000</td>\n",
       "      <td>1.040000</td>\n",
       "      <td>-12.070000</td>\n",
       "      <td>0.260000</td>\n",
       "      <td>-0.770000</td>\n",
       "      <td>-8.330000</td>\n",
       "      <td>2.580000</td>\n",
       "      <td>-0.590000</td>\n",
       "    </tr>\n",
       "  </tbody>\n",
       "</table>\n",
       "<p>8 rows × 27 columns</p>\n",
       "</div>"
      ],
      "text/plain": [
       "               b1          b2          b3          b4          b5          b6  \\\n",
       "count  325.000000  325.000000  325.000000  325.000000  325.000000  325.000000   \n",
       "mean    58.021538   38.381538   61.467692   96.175385   58.098462   99.196923   \n",
       "std     11.705076   14.589516   15.003385   11.120136   10.654920    9.438789   \n",
       "min     31.000000   23.000000   47.000000   69.000000   43.000000   83.000000   \n",
       "25%     50.000000   28.000000   52.000000   89.000000   51.000000   93.000000   \n",
       "50%     57.000000   32.000000   55.000000   95.000000   54.000000   96.000000   \n",
       "75%     65.000000   43.000000   65.000000  103.000000   63.000000  103.000000   \n",
       "max    107.000000   91.000000  124.000000  141.000000  100.000000  138.000000   \n",
       "\n",
       "               b7          b8          b9  pred_minus_obs_H_b1  ...  \\\n",
       "count  325.000000  325.000000  325.000000           325.000000  ...   \n",
       "mean    85.864615   27.375385   58.880000            55.786769  ...   \n",
       "std     16.642765    7.445316    8.884777            12.347445  ...   \n",
       "min     42.000000   19.000000   45.000000             4.950000  ...   \n",
       "25%     73.000000   24.000000   54.000000            48.370000  ...   \n",
       "50%     85.000000   25.000000   57.000000            57.560000  ...   \n",
       "75%     98.000000   27.000000   60.000000            64.120000  ...   \n",
       "max    136.000000   84.000000  114.000000            86.080000  ...   \n",
       "\n",
       "       pred_minus_obs_H_b9  pred_minus_obs_S_b1  pred_minus_obs_S_b2  \\\n",
       "count           325.000000           325.000000           325.000000   \n",
       "mean             -3.341446           -20.004954            -1.086092   \n",
       "std               8.921301             2.908311             1.054544   \n",
       "min             -58.280000           -26.790000            -5.510000   \n",
       "25%              -4.660000           -22.250000            -1.750000   \n",
       "50%              -1.250000           -19.950000            -1.030000   \n",
       "75%               1.430000           -18.250000            -0.390000   \n",
       "max               9.580000            -7.760000             1.780000   \n",
       "\n",
       "       pred_minus_obs_S_b3  pred_minus_obs_S_b4  pred_minus_obs_S_b5  \\\n",
       "count           325.000000           325.000000           325.000000   \n",
       "mean             -4.375846           -21.664185            -0.979815   \n",
       "std               1.850954             3.594512             0.308081   \n",
       "min             -10.120000           -34.630000            -1.830000   \n",
       "25%              -5.530000           -24.220000            -1.190000   \n",
       "50%              -4.490000           -21.040000            -0.990000   \n",
       "75%              -2.770000           -19.060000            -0.780000   \n",
       "max               1.040000           -12.070000             0.260000   \n",
       "\n",
       "       pred_minus_obs_S_b6  pred_minus_obs_S_b7  pred_minus_obs_S_b8  \\\n",
       "count           325.000000           325.000000           325.000000   \n",
       "mean             -4.633323           -18.996462            -1.701785   \n",
       "std               1.054033             3.307265             1.017594   \n",
       "min              -7.970000           -29.340000            -6.500000   \n",
       "25%              -5.410000           -21.780000            -2.360000   \n",
       "50%              -4.670000           -18.870000            -1.650000   \n",
       "75%              -3.900000           -16.770000            -1.030000   \n",
       "max              -0.770000            -8.330000             2.580000   \n",
       "\n",
       "       pred_minus_obs_S_b9  \n",
       "count           325.000000  \n",
       "mean             -4.229108  \n",
       "std               1.150070  \n",
       "min              -8.930000  \n",
       "25%              -4.870000  \n",
       "50%              -4.150000  \n",
       "75%              -3.290000  \n",
       "max              -0.590000  \n",
       "\n",
       "[8 rows x 27 columns]"
      ]
     },
     "execution_count": 5,
     "metadata": {},
     "output_type": "execute_result"
    }
   ],
   "source": [
    "#Get an overview of training dataset\n",
    "train_set.info()\n",
    "train_set.describe()"
   ]
  },
  {
   "cell_type": "markdown",
   "metadata": {},
   "source": [
    "There are 28 attributes which can be easily seen in the table above and the list below: class, b1, b2, b3, b4, b5, b6, b7, b8, b9, ...,\tpred_minus_obs_S_b9. There are 325 instances in the training set and 198 instances in test set which mean that the data size is relatively small comapred to the Machine Learning standards, but we can give it a try with small data size and then move to the bigger one. Both training and testing set have the same format. There are not any missing values in both dataset. All attributes are numerical, except \"class\"."
   ]
  },
  {
   "cell_type": "code",
   "execution_count": 6,
   "metadata": {},
   "outputs": [
    {
     "name": "stdout",
     "output_type": "stream",
     "text": [
      "Saving figure attribute_histogram_plots\n"
     ]
    },
    {
     "data": {
      "image/png": "[encoded data removed]",
      "text/plain": [
       "<Figure size 1440x1080 with 30 Axes>"
      ]
     },
     "metadata": {
      "needs_background": "light"
     },
     "output_type": "display_data"
    }
   ],
   "source": [
    "##Visualize the training dataset\n",
    "import matplotlib.pyplot as plt\n",
    "train_set.hist(bins=50, figsize=(20,15))\n",
    "save_fig(\"attribute_histogram_plots\")\n",
    "plt.show()"
   ]
  },
  {
   "cell_type": "markdown",
   "metadata": {},
   "source": [
    "As we can notice few things in these histograms:\n",
    "1. Most of attributes have the same scales. We may not focus on those columns which are behind the column \"b9\"\n",
    "2. Most of instances of \"b4\", \"b6\", \"b7\" ranged from 80 to 120. \n",
    "3. Other instances of other column ranged from 20 to 60.\n",
    "=> These histograms are easy for Machine Learning algorithms to detect patterns"
   ]
  },
  {
   "cell_type": "markdown",
   "metadata": {},
   "source": [
    "## 3. Cleaning data"
   ]
  },
  {
   "cell_type": "code",
   "execution_count": 7,
   "metadata": {},
   "outputs": [],
   "source": [
    "#Split training set into training set and test set. Original test set is kept for cross validation.\n",
    "from sklearn.model_selection import train_test_split\n",
    "train_set, test_set = train_test_split(train_set, test_size = 0.2, random_state = 1)"
   ]
  },
  {
   "cell_type": "code",
   "execution_count": 8,
   "metadata": {},
   "outputs": [],
   "source": [
    "#Drop all columns with the names begin with \"pred_minus_obs\".\n",
    "import pandas as pd\n",
    "train_set.drop(train_set.iloc[:, 10:], inplace = True, axis = 1)\n",
    "test_set.drop(test_set.iloc[:, 10:], inplace = True, axis = 1)\n",
    "test_origin_set.drop(test_set.iloc[:, 10:], inplace = True, axis = 1)"
   ]
  },
  {
   "cell_type": "code",
   "execution_count": 9,
   "metadata": {},
   "outputs": [
    {
     "data": {
      "text/html": [
       "<div>\n",
       "<style scoped>\n",
       "    .dataframe tbody tr th:only-of-type {\n",
       "        vertical-align: middle;\n",
       "    }\n",
       "\n",
       "    .dataframe tbody tr th {\n",
       "        vertical-align: top;\n",
       "    }\n",
       "\n",
       "    .dataframe thead th {\n",
       "        text-align: right;\n",
       "    }\n",
       "</style>\n",
       "<table border=\"1\" class=\"dataframe\">\n",
       "  <thead>\n",
       "    <tr style=\"text-align: right;\">\n",
       "      <th></th>\n",
       "      <th>class</th>\n",
       "      <th>b1</th>\n",
       "      <th>b2</th>\n",
       "      <th>b3</th>\n",
       "      <th>b4</th>\n",
       "      <th>b5</th>\n",
       "      <th>b6</th>\n",
       "      <th>b7</th>\n",
       "      <th>b8</th>\n",
       "      <th>b9</th>\n",
       "    </tr>\n",
       "  </thead>\n",
       "  <tbody>\n",
       "    <tr>\n",
       "      <th>233</th>\n",
       "      <td>s</td>\n",
       "      <td>40</td>\n",
       "      <td>25</td>\n",
       "      <td>50</td>\n",
       "      <td>85</td>\n",
       "      <td>51</td>\n",
       "      <td>93</td>\n",
       "      <td>56</td>\n",
       "      <td>23</td>\n",
       "      <td>51</td>\n",
       "    </tr>\n",
       "    <tr>\n",
       "      <th>263</th>\n",
       "      <td>h</td>\n",
       "      <td>67</td>\n",
       "      <td>29</td>\n",
       "      <td>53</td>\n",
       "      <td>103</td>\n",
       "      <td>51</td>\n",
       "      <td>96</td>\n",
       "      <td>86</td>\n",
       "      <td>25</td>\n",
       "      <td>55</td>\n",
       "    </tr>\n",
       "    <tr>\n",
       "      <th>51</th>\n",
       "      <td>d</td>\n",
       "      <td>76</td>\n",
       "      <td>72</td>\n",
       "      <td>89</td>\n",
       "      <td>118</td>\n",
       "      <td>74</td>\n",
       "      <td>119</td>\n",
       "      <td>117</td>\n",
       "      <td>32</td>\n",
       "      <td>69</td>\n",
       "    </tr>\n",
       "    <tr>\n",
       "      <th>9</th>\n",
       "      <td>d</td>\n",
       "      <td>57</td>\n",
       "      <td>44</td>\n",
       "      <td>65</td>\n",
       "      <td>107</td>\n",
       "      <td>59</td>\n",
       "      <td>104</td>\n",
       "      <td>98</td>\n",
       "      <td>26</td>\n",
       "      <td>59</td>\n",
       "    </tr>\n",
       "    <tr>\n",
       "      <th>112</th>\n",
       "      <td>d</td>\n",
       "      <td>49</td>\n",
       "      <td>41</td>\n",
       "      <td>63</td>\n",
       "      <td>95</td>\n",
       "      <td>70</td>\n",
       "      <td>103</td>\n",
       "      <td>115</td>\n",
       "      <td>32</td>\n",
       "      <td>63</td>\n",
       "    </tr>\n",
       "  </tbody>\n",
       "</table>\n",
       "</div>"
      ],
      "text/plain": [
       "    class  b1  b2  b3   b4  b5   b6   b7  b8  b9\n",
       "233    s   40  25  50   85  51   93   56  23  51\n",
       "263    h   67  29  53  103  51   96   86  25  55\n",
       "51     d   76  72  89  118  74  119  117  32  69\n",
       "9      d   57  44  65  107  59  104   98  26  59\n",
       "112    d   49  41  63   95  70  103  115  32  63"
      ]
     },
     "execution_count": 9,
     "metadata": {},
     "output_type": "execute_result"
    }
   ],
   "source": [
    "#Show a few lines of training dataset after drop out columns as required.\n",
    "train_set.head()\n",
    "#At this time, the datas of both set are clean as well."
   ]
  },
  {
   "cell_type": "code",
   "execution_count": 10,
   "metadata": {},
   "outputs": [
    {
     "name": "stdout",
     "output_type": "stream",
     "text": [
      "Saving figure class_histogram_plot\n"
     ]
    },
    {
     "data": {
      "image/png": "[encoded data removed]",
      "text/plain": [
       "<Figure size 1440x1080 with 1 Axes>"
      ]
     },
     "metadata": {
      "needs_background": "light"
     },
     "output_type": "display_data"
    }
   ],
   "source": [
    "#Count the number of instances for each class label and visualize the graph to easily see the pattern.\n",
    "train_set['class'].value_counts()\n",
    "#Visualize\n",
    "%matplotlib inline\n",
    "import matplotlib.pyplot as plt\n",
    "train_set['class'].hist(bins=50, figsize=(20,15))\n",
    "save_fig(\"class_histogram_plot\")\n",
    "plt.show()"
   ]
  },
  {
   "cell_type": "markdown",
   "metadata": {},
   "source": [
    "As we can see, the instances between 4 classes are not fluctuated much. It ranges from round 40 to 140. So, this is a balance dataset"
   ]
  },
  {
   "cell_type": "markdown",
   "metadata": {},
   "source": [
    "## 4. Normalization"
   ]
  },
  {
   "cell_type": "code",
   "execution_count": 11,
   "metadata": {},
   "outputs": [],
   "source": [
    "#We need to take all numerical columns\n",
    "train_set_num = train_set.drop(train_set.iloc[:,0:1], axis = 1)\n",
    "test_set_num = test_set.drop(test_set.iloc[:,0:1], axis = 1)\n",
    "test_origin_set_num = test_origin_set.drop(test_origin_set.iloc[:,0:1], axis = 1)"
   ]
  },
  {
   "cell_type": "code",
   "execution_count": 12,
   "metadata": {},
   "outputs": [
    {
     "data": {
      "text/html": [
       "<div>\n",
       "<style scoped>\n",
       "    .dataframe tbody tr th:only-of-type {\n",
       "        vertical-align: middle;\n",
       "    }\n",
       "\n",
       "    .dataframe tbody tr th {\n",
       "        vertical-align: top;\n",
       "    }\n",
       "\n",
       "    .dataframe thead th {\n",
       "        text-align: right;\n",
       "    }\n",
       "</style>\n",
       "<table border=\"1\" class=\"dataframe\">\n",
       "  <thead>\n",
       "    <tr style=\"text-align: right;\">\n",
       "      <th></th>\n",
       "      <th>b1</th>\n",
       "      <th>b2</th>\n",
       "      <th>b3</th>\n",
       "      <th>b4</th>\n",
       "      <th>b5</th>\n",
       "      <th>b6</th>\n",
       "      <th>b7</th>\n",
       "      <th>b8</th>\n",
       "      <th>b9</th>\n",
       "    </tr>\n",
       "  </thead>\n",
       "  <tbody>\n",
       "    <tr>\n",
       "      <th>233</th>\n",
       "      <td>40</td>\n",
       "      <td>25</td>\n",
       "      <td>50</td>\n",
       "      <td>85</td>\n",
       "      <td>51</td>\n",
       "      <td>93</td>\n",
       "      <td>56</td>\n",
       "      <td>23</td>\n",
       "      <td>51</td>\n",
       "    </tr>\n",
       "    <tr>\n",
       "      <th>263</th>\n",
       "      <td>67</td>\n",
       "      <td>29</td>\n",
       "      <td>53</td>\n",
       "      <td>103</td>\n",
       "      <td>51</td>\n",
       "      <td>96</td>\n",
       "      <td>86</td>\n",
       "      <td>25</td>\n",
       "      <td>55</td>\n",
       "    </tr>\n",
       "    <tr>\n",
       "      <th>51</th>\n",
       "      <td>76</td>\n",
       "      <td>72</td>\n",
       "      <td>89</td>\n",
       "      <td>118</td>\n",
       "      <td>74</td>\n",
       "      <td>119</td>\n",
       "      <td>117</td>\n",
       "      <td>32</td>\n",
       "      <td>69</td>\n",
       "    </tr>\n",
       "    <tr>\n",
       "      <th>9</th>\n",
       "      <td>57</td>\n",
       "      <td>44</td>\n",
       "      <td>65</td>\n",
       "      <td>107</td>\n",
       "      <td>59</td>\n",
       "      <td>104</td>\n",
       "      <td>98</td>\n",
       "      <td>26</td>\n",
       "      <td>59</td>\n",
       "    </tr>\n",
       "    <tr>\n",
       "      <th>112</th>\n",
       "      <td>49</td>\n",
       "      <td>41</td>\n",
       "      <td>63</td>\n",
       "      <td>95</td>\n",
       "      <td>70</td>\n",
       "      <td>103</td>\n",
       "      <td>115</td>\n",
       "      <td>32</td>\n",
       "      <td>63</td>\n",
       "    </tr>\n",
       "  </tbody>\n",
       "</table>\n",
       "</div>"
      ],
      "text/plain": [
       "     b1  b2  b3   b4  b5   b6   b7  b8  b9\n",
       "233  40  25  50   85  51   93   56  23  51\n",
       "263  67  29  53  103  51   96   86  25  55\n",
       "51   76  72  89  118  74  119  117  32  69\n",
       "9    57  44  65  107  59  104   98  26  59\n",
       "112  49  41  63   95  70  103  115  32  63"
      ]
     },
     "execution_count": 12,
     "metadata": {},
     "output_type": "execute_result"
    }
   ],
   "source": [
    "train_set_num.head()"
   ]
  },
  {
   "cell_type": "code",
   "execution_count": 13,
   "metadata": {},
   "outputs": [
    {
     "data": {
      "text/plain": [
       "b1    1.000000\n",
       "b4    0.682661\n",
       "b7    0.558149\n",
       "b9    0.407563\n",
       "b3    0.273948\n",
       "b8    0.252714\n",
       "b2    0.225042\n",
       "b6    0.154384\n",
       "b5    0.094396\n",
       "Name: b1, dtype: float64"
      ]
     },
     "execution_count": 13,
     "metadata": {},
     "output_type": "execute_result"
    }
   ],
   "source": [
    "#Find the correlation between attributes\n",
    "corr_matrix = train_set.corr()\n",
    "corr_matrix[\"b1\"].sort_values(ascending = False)"
   ]
  },
  {
   "cell_type": "code",
   "execution_count": 14,
   "metadata": {},
   "outputs": [
    {
     "name": "stdout",
     "output_type": "stream",
     "text": [
      "Saving figure scatter_matrix_plot\n"
     ]
    },
    {
     "data": {
      "image/png": "[encoded data removed]",
      "text/plain": [
       "<Figure size 864x576 with 16 Axes>"
      ]
     },
     "metadata": {
      "needs_background": "light"
     },
     "output_type": "display_data"
    }
   ],
   "source": [
    "#Plot scatter matrix with pandas\n",
    "from pandas.plotting import scatter_matrix\n",
    "attributes = [\"b1\",\"b4\",\"b7\",\"b9\"]\n",
    "scatter_matrix(train_set[attributes], figsize = (12,8))\n",
    "save_fig(\"scatter_matrix_plot\")"
   ]
  },
  {
   "cell_type": "markdown",
   "metadata": {},
   "source": [
    "As we can see, b4 and b7 are the promising attribute to predict b1.There are upward trends in this scatterplot. This data size is really small, the points somehow are dispeared. However, the correlation of these attributes with b1 are relatively high. To conclude that, we should try to remove some irrelated attributes to prevent algorithms for quick data reproduction."
   ]
  },
  {
   "cell_type": "code",
   "execution_count": 15,
   "metadata": {},
   "outputs": [
    {
     "name": "stdout",
     "output_type": "stream",
     "text": [
      "Saving figure b1_b4_vs_b7_value_scatterplot\n"
     ]
    },
    {
     "data": {
      "image/png": "[encoded data removed]",
      "text/plain": [
       "<Figure size 432x288 with 1 Axes>"
      ]
     },
     "metadata": {
      "needs_background": "light"
     },
     "output_type": "display_data"
    },
    {
     "data": {
      "image/png": "[encoded data removed]",
      "text/plain": [
       "<Figure size 432x288 with 1 Axes>"
      ]
     },
     "metadata": {
      "needs_background": "light"
     },
     "output_type": "display_data"
    }
   ],
   "source": [
    "#Zoom in the most correlated attributes on the scatterplot\n",
    "train_set.plot(kind =\"scatter\", x =\"b1\", y=\"b4\")\n",
    "train_set.plot(kind =\"scatter\", x=\"b1\", y=\"b7\")\n",
    "save_fig(\"b1_b4_vs_b7_value_scatterplot\")"
   ]
  },
  {
   "cell_type": "code",
   "execution_count": 16,
   "metadata": {},
   "outputs": [
    {
     "data": {
      "text/plain": [
       "233    s \n",
       "263    h \n",
       "51     d \n",
       "9      d \n",
       "112    d \n",
       "       ..\n",
       "203    s \n",
       "255    d \n",
       "72     o \n",
       "235    d \n",
       "37     d \n",
       "Name: class, Length: 260, dtype: object"
      ]
     },
     "execution_count": 16,
     "metadata": {},
     "output_type": "execute_result"
    }
   ],
   "source": [
    "#Excute the code of the categorical columns of training and testing set\n",
    "train_set_cat = train_set[\"class\"]\n",
    "test_set_cat = test_set[\"class\"]\n",
    "test_origin_cat = test_origin_set[\"class\"]\n",
    "train_set_cat"
   ]
  },
  {
   "cell_type": "code",
   "execution_count": 17,
   "metadata": {},
   "outputs": [],
   "source": [
    "#Transform all numerical columns by using StandardScaler\n",
    "from sklearn.pipeline import Pipeline\n",
    "from sklearn.preprocessing import StandardScaler\n",
    "num_pipeline = Pipeline([\n",
    "    ('std_scaler', StandardScaler())\n",
    "])\n",
    "train_set_num_tr = num_pipeline.fit_transform(train_set_num)\n",
    "test_set_num_tr = num_pipeline.fit_transform(test_set_num)\n",
    "test_origin_num_tr = num_pipeline.fit_transform(test_origin_set_num)"
   ]
  },
  {
   "cell_type": "code",
   "execution_count": 18,
   "metadata": {},
   "outputs": [
    {
     "data": {
      "text/plain": [
       "array([[-1.537311  , -0.91765735, -0.77020788, ..., -1.79698563,\n",
       "        -0.57693744, -0.87842872],\n",
       "       [ 0.73180658, -0.64821533, -0.57114819, ..., -0.00962425,\n",
       "        -0.31606138, -0.43473476],\n",
       "       [ 1.48817911,  2.24828642,  1.8175681 , ...,  1.83731584,\n",
       "         0.59700482,  1.11819411],\n",
       "       ...,\n",
       "       [ 0.73180658,  1.9788444 ,  1.8175681 , ..., -0.42667524,\n",
       "         3.07532738,  2.44927599],\n",
       "       [-1.6213524 , -0.44613381, -0.70385465, ..., -0.60541138,\n",
       "        -0.57693744, -0.87842872],\n",
       "       [-1.36922822,  0.02538973, -0.10667558, ...,  0.34784802,\n",
       "        -0.18562335, -0.54565825]])"
      ]
     },
     "execution_count": 18,
     "metadata": {},
     "output_type": "execute_result"
    }
   ],
   "source": [
    "train_set_num_tr"
   ]
  },
  {
   "cell_type": "code",
   "execution_count": 19,
   "metadata": {},
   "outputs": [
    {
     "data": {
      "text/plain": [
       "array([[-0.92622413, -0.33069301, -0.33616701, -0.40924508,  0.58269707,\n",
       "         0.31351968,  0.27232646,  0.28294352,  0.03349476],\n",
       "       [-0.36704857, -0.78006678, -0.7471549 ,  0.15473224, -0.46939486,\n",
       "        -0.29784369, -1.0505405 , -0.65220879, -0.69222512],\n",
       "       [-0.4602445 ,  0.64295017,  0.34881279, -0.5032413 ,  0.10447346,\n",
       "        -0.29784369,  0.77627578, -0.18463264, -0.08745855],\n",
       "       [-0.73983228,  0.41826328,  0.21181683,  2.03465663,  0.00882874,\n",
       "         0.82298916,  1.0912441 , -0.02877392,  0.03349476],\n",
       "       [-1.39220377, -0.10600612, -0.13067307, -1.06721862,  0.2957629 ,\n",
       "         0.41541357, -1.36550882,  1.37395455,  0.3963547 ],\n",
       "       [ 0.09893106,  0.41826328,  0.41731077, -0.59723752,  0.20011818,\n",
       "        -0.29784369,  0.39831379, -0.18463264, -0.32936518],\n",
       "       [-1.29900784,  0.26847202, -0.13067307, -0.12725642, -0.1824607 ,\n",
       "        -0.1959498 ,  0.52430112, -0.34049136, -0.45031849],\n",
       "       [ 1.86965367, -0.78006678, -0.61015893,  0.62471334, -0.08681598,\n",
       "         0.31351968, -0.04264187, -0.34049136, -0.20841186],\n",
       "       [-1.01942006, -0.78006678, -0.7471549 , -1.06721862, -0.6606843 ,\n",
       "        -0.90920707, -0.54659118, -0.18463264, -0.32936518],\n",
       "       [-1.39220377, -0.48048426, -0.54166095, -0.31524886, -0.1824607 ,\n",
       "        -0.39973759, -0.54659118, -0.65220879, -0.69222512],\n",
       "       [-2.32416303, -0.40558864, -0.54166095, -0.9732224 ,  1.82607843,\n",
       "         1.74003422, -1.49149615,  1.21809583,  1.36398121],\n",
       "       [ 0.9376944 , -0.40558864, -0.33616701,  0.71870956, -0.27810542,\n",
       "         0.00783799,  0.71328211,  0.1270848 ,  0.3963547 ],\n",
       "       [ 0.37851884,  1.84128023,  1.58177644, -0.40924508,  0.39140763,\n",
       "        -0.0940559 ,  0.83926944, -0.34049136, -0.5712718 ],\n",
       "       [ 0.75130255, -0.78006678, -0.7471549 , -0.59723752, -1.04326318,\n",
       "        -1.11299486, -0.60958485, -0.65220879, -0.69222512],\n",
       "       [-0.08746079, -0.55537989, -0.67865691, -0.5032413 , -0.6606843 ,\n",
       "        -0.70541928, -0.04264187, -0.49635007, -0.32936518],\n",
       "       [ 2.42882923, -0.70517115, -0.47316297,  2.12865285, -0.6606843 ,\n",
       "        -0.29784369,  1.28022509, -0.02877392,  0.63826133],\n",
       "       [ 1.21728218, -0.70517115, -0.67865691,  0.906702  , -0.6606843 ,\n",
       "        -0.39973759,  0.20933279, -0.18463264,  0.15444808],\n",
       "       [-1.57859562, -0.63027552, -0.67865691, -0.22125264, -0.56503958,\n",
       "        -0.29784369, -0.98754684, -0.65220879, -0.69222512],\n",
       "       [ 0.00573513,  2.8149234 ,  3.63671586, -2.00718081,  1.44349955,\n",
       "         0.92488305, -1.61748348,  3.24425918,  1.2430279 ],\n",
       "       [ 0.56491069, -0.63027552, -0.67865691, -0.22125264, -1.1389079 ,\n",
       "        -1.31678265, -0.79856584, -0.65220879, -0.69222512],\n",
       "       [-0.18065672,  2.06596711,  2.47225019, -1.25521106,  0.77398651,\n",
       "        -0.0940559 , -0.60958485, -0.18463264, -0.5712718 ],\n",
       "       [-0.08746079, -0.48048426, -0.47316297, -0.0332602 , -0.37375014,\n",
       "        -0.39973759,  0.65028845, -0.02877392, -0.08745855],\n",
       "       [ 0.84449847, -0.63027552, -0.61015893,  0.24872846, -0.85197374,\n",
       "        -0.70541928,  1.02825043, -0.02877392,  0.03349476],\n",
       "       [ 0.47171477,  0.04378514,  0.14331885, -0.12725642, -0.08681598,\n",
       "        -0.50163149,  0.08334546, -0.18463264, -0.32936518],\n",
       "       [ 1.12408625, -0.70517115, -0.61015893,  1.09469443, -0.6606843 ,\n",
       "        -0.50163149,  0.20933279, -0.34049136, -0.08745855],\n",
       "       [-0.27385265, -0.92985804, -0.7471549 ,  0.906702  , -0.85197374,\n",
       "        -0.50163149, -0.10563553, -0.18463264, -0.20841186],\n",
       "       [ 0.19212699,  0.41826328,  0.28031481, -0.59723752,  0.58269707,\n",
       "         0.00783799,  1.15423776, -0.18463264,  0.03349476],\n",
       "       [-0.27385265,  0.04378514, -0.06217509,  1.37668309,  0.00882874,\n",
       "         0.61920137,  1.02825043, -0.18463264,  0.03349476],\n",
       "       [ 0.00573513,  1.7663846 ,  1.78727038, -1.25521106, -0.85197374,\n",
       "        -1.31678265, -1.49149615, -0.65220879, -1.05508506],\n",
       "       [-0.36704857,  1.31701083,  1.0337926 ,  0.4367209 ,  2.68688092,\n",
       "         2.24950369,  1.21723143,  2.15324815,  2.33160772],\n",
       "       [ 0.56491069, -0.25579738, -0.06217509, -0.40924508, -0.85197374,\n",
       "        -0.80731317, -0.23162286, -0.34049136, -0.08745855],\n",
       "       [-0.27385265, -0.70517115, -0.67865691, -0.12725642, -0.1824607 ,\n",
       "         0.10973189, -0.29461652, -0.49635007, -0.45031849],\n",
       "       [ 0.28532291,  0.94253268,  1.0337926 , -0.69123374,  0.67834179,\n",
       "        -0.29784369,  0.83926944, -0.18463264, -0.32936518],\n",
       "       [-0.73983228, -0.63027552, -0.67865691, -0.5032413 , -0.27810542,\n",
       "        -0.50163149,  0.0203518 , -0.18463264, -0.32936518],\n",
       "       [-0.73983228,  0.04378514,  0.07482087, -1.16121484, -0.1824607 ,\n",
       "        -0.60352538, -0.73557218, -0.34049136, -0.5712718 ],\n",
       "       [-0.08746079, -0.85496241, -0.7471549 , -0.31524886, -0.85197374,\n",
       "        -0.60352538, -0.23162286, -0.34049136, -0.32936518],\n",
       "       [-2.04457525, -0.63027552, -0.67865691, -1.91318459, -0.56503958,\n",
       "        -1.01110096, -1.55448982, -0.80806751, -1.17603837],\n",
       "       [-0.83302821, -0.85496241, -0.7471549 , -0.5032413 , -0.6606843 ,\n",
       "        -0.39973759, -1.55448982, -0.65220879, -0.5712718 ],\n",
       "       [ 0.09893106, -0.40558864, -0.40466499,  0.62471334, -0.75632902,\n",
       "        -0.60352538, -0.73557218, -0.49635007, -0.5712718 ],\n",
       "       [ 1.03089033, -0.48048426, -0.47316297,  1.09469443, -0.46939486,\n",
       "        -0.1959498 ,  0.58729478, -0.02877392,  0.03349476],\n",
       "       [-1.11261599, -0.10600612, -0.06217509,  0.24872846, -0.08681598,\n",
       "         0.31351968, -0.10563553,  0.1270848 , -0.32936518],\n",
       "       [-0.18065672, -0.10600612, -0.33616701, -0.78522996, -0.08681598,\n",
       "        -0.39973759,  0.46130745, -0.02877392, -0.20841186],\n",
       "       [ 0.19212699,  2.59023652,  2.54074817, -0.31524886,  2.59123619,\n",
       "         2.65707928,  2.09914273,  3.08840046,  3.42018754],\n",
       "       [ 1.31047811, -0.70517115, -0.67865691,  0.15473224, -1.1389079 ,\n",
       "        -1.11299486,  0.46130745, -0.34049136, -0.08745855],\n",
       "       [-0.4602445 , -0.92985804, -0.81565288, -0.0332602 , -1.04326318,\n",
       "        -1.01110096, -1.0505405 , -0.80806751, -0.81317843],\n",
       "       [-0.83302821,  0.19357639, -0.06217509,  1.28268687,  0.00882874,\n",
       "         0.61920137,  0.65028845,  0.1270848 ,  0.27540139],\n",
       "       [-0.55344043,  0.94253268,  0.75980068, -1.53719971,  0.77398651,\n",
       "         0.00783799,  0.58729478, -0.34049136, -0.45031849],\n",
       "       [ 0.00573513,  1.16721957,  0.55430673,  1.00069821,  0.58269707,\n",
       "         0.61920137,  1.84716807, -0.18463264, -0.08745855],\n",
       "       [-0.64663635, -0.48048426, -0.61015893, -0.87922618, -0.94761846,\n",
       "        -1.31678265, -0.73557218, -0.49635007, -0.93413174],\n",
       "       [-1.11261599, -0.78006678, -0.67865691, -0.9732224 , -0.56503958,\n",
       "        -0.50163149, -1.68047715, -0.65220879, -0.93413174],\n",
       "       [-0.18065672, -0.85496241, -0.61015893, -0.22125264, -0.27810542,\n",
       "        -0.0940559 , -1.23952149, -0.65220879, -0.32936518],\n",
       "       [ 0.00573513,  0.94253268,  0.41731077, -0.9732224 ,  1.53914427,\n",
       "         0.51730747,  1.59519342, -0.18463264, -0.20841186],\n",
       "       [ 0.00573513, -0.10600612, -0.06217509, -0.78522996,  0.20011818,\n",
       "        -0.1959498 ,  0.27232646, -0.18463264, -0.08745855],\n",
       "       [ 1.77645774, -0.70517115, -0.54166095,  1.94066041, -0.27810542,\n",
       "         0.00783799,  1.0912441 , -0.49635007, -0.08745855],\n",
       "       [-0.73983228, -0.85496241, -0.88415086,  1.18869065,  0.10447346,\n",
       "         0.51730747, -1.42850249, -0.80806751, -0.69222512],\n",
       "       [ 0.19212699,  1.01742831,  2.40375221, -0.78522996,  2.11301259,\n",
       "         3.26844265, -1.11353416,  4.02355277,  4.75067398],\n",
       "       [ 0.09893106, -0.40558864, -0.33616701,  0.06073602, -0.27810542,\n",
       "        -0.0940559 , -0.10563553, -0.34049136, -0.20841186],\n",
       "       [ 1.77645774, -0.70517115, -0.54166095,  1.47067931, -0.85197374,\n",
       "        -0.60352538,  0.52430112, -0.34049136,  0.15444808],\n",
       "       [-0.08746079,  0.49315891,  0.21181683,  2.12865285,  0.58269707,\n",
       "         1.53624643,  1.40621242, -0.02877392,  0.03349476],\n",
       "       [ 1.49686996, -0.63027552, -0.7471549 ,  0.62471334, -1.04326318,\n",
       "        -0.90920707, -0.16862919, -0.49635007, -0.32936518],\n",
       "       [ 1.68326181,  3.11450592,  2.54074817,  1.09469443,  3.45203868,\n",
       "         3.26844265,  0.0203518 ,  2.77668302,  2.45256103],\n",
       "       [ 2.05604552, -0.70517115, -0.47316297,  2.12865285, -0.56503958,\n",
       "         0.00783799,  0.52430112, -0.34049136,  0.15444808],\n",
       "       [-1.48539969, -1.07964929, -0.95264884, -1.25521106, -1.1389079 ,\n",
       "        -1.01110096, -2.49939479, -1.27564367, -1.29699168],\n",
       "       [ 1.21728218, -0.70517115, -0.54166095,  0.81270578, -0.46939486,\n",
       "         0.00783799,  0.58729478, -0.49635007,  0.27540139],\n",
       "       [ 0.19212699,  1.99107148,  1.51327846, -0.0332602 ,  2.30430203,\n",
       "         2.0457159 ,  1.72118075,  1.37395455,  1.36398121]])"
      ]
     },
     "execution_count": 19,
     "metadata": {},
     "output_type": "execute_result"
    }
   ],
   "source": [
    "test_set_num_tr"
   ]
  },
  {
   "cell_type": "markdown",
   "metadata": {},
   "source": [
    "## 5. Classification"
   ]
  },
  {
   "cell_type": "markdown",
   "metadata": {},
   "source": [
    "### 5.1 Support Vector Machine"
   ]
  },
  {
   "cell_type": "code",
   "execution_count": 20,
   "metadata": {},
   "outputs": [],
   "source": [
    "#Assign x_train, y_train, x_test, y_test and apply SVM into this\n",
    "from sklearn.svm import SVC\n",
    "x_train, y_train, x_test, y_test = train_set_num_tr, train_set_cat, test_set_num_tr, test_set_cat\n",
    "svm_clf = SVC(gamma=\"auto\", random_state=1)\n",
    "svm_clf.fit(x_train, y_train)\n",
    "svm_y_pred = svm_clf.predict(x_test)"
   ]
  },
  {
   "cell_type": "code",
   "execution_count": 21,
   "metadata": {},
   "outputs": [
    {
     "data": {
      "text/plain": [
       "array([[21,  0,  0,  1],\n",
       "       [ 0,  4,  0,  3],\n",
       "       [ 2,  0,  7,  0],\n",
       "       [ 2,  3,  0, 22]], dtype=int64)"
      ]
     },
     "execution_count": 21,
     "metadata": {},
     "output_type": "execute_result"
    }
   ],
   "source": [
    "#Draw the confusion matrix of svm_y_pred\n",
    "from sklearn.metrics import confusion_matrix\n",
    "confusion_matrix(y_test, svm_y_pred)"
   ]
  },
  {
   "cell_type": "code",
   "execution_count": 22,
   "metadata": {},
   "outputs": [
    {
     "data": {
      "text/plain": [
       "array(['d ', 'h ', 'o ', 's '], dtype=object)"
      ]
     },
     "execution_count": 22,
     "metadata": {},
     "output_type": "execute_result"
    }
   ],
   "source": [
    "#This code shows the label of the confusion matrix above.\n",
    "svm_clf.classes_"
   ]
  },
  {
   "cell_type": "markdown",
   "metadata": {},
   "source": [
    "Here are some comments about the confusion matrix:\n",
    "- 21 values were correctly classified as \"d\". \n",
    "- 4 values were correctly classified as \"h\".\n",
    "- 7 values were correctly classified as \"o\".\n",
    "- 22 values were correctly classified as \"s\".\n",
    "- Read down to the \"h\" row, 1 value that should have been \"s\" were classified as \"d\".\n",
    "- For the \"h\" row, 3 values that should have been \"s\" were classified as \"h\"\n",
    "- 2 values from \"o\" row were classified as \"o\", but they must have been \"d\".\n",
    "- 5 values were classified as \"s\", but they must have been respectively \"d\"(2) and \"h\"(3)."
   ]
  },
  {
   "cell_type": "code",
   "execution_count": 23,
   "metadata": {},
   "outputs": [
    {
     "data": {
      "text/plain": [
       "0.8307692307692308"
      ]
     },
     "execution_count": 23,
     "metadata": {},
     "output_type": "execute_result"
    }
   ],
   "source": [
    "#Compute accuracy\n",
    "from sklearn.metrics import accuracy_score\n",
    "accuracy_score(y_test, svm_y_pred)"
   ]
  },
  {
   "cell_type": "markdown",
   "metadata": {},
   "source": [
    "The accuracy is 83.08%, this ratio is quite good when it can predicted classes correctly. "
   ]
  },
  {
   "cell_type": "markdown",
   "metadata": {},
   "source": [
    "## 5.2 Experimenting with some hyperparameters"
   ]
  },
  {
   "cell_type": "markdown",
   "metadata": {},
   "source": [
    "### Kernel = sigmoid"
   ]
  },
  {
   "cell_type": "code",
   "execution_count": 23,
   "metadata": {},
   "outputs": [
    {
     "data": {
      "text/plain": [
       "array(['d ', 's ', 'd ', 'd ', 'o ', 'd ', 'd ', 'h ', 's ', 'd ', 'o ',\n",
       "       's ', 'd ', 's ', 's ', 'h ', 'h ', 's ', 'o ', 's ', 'o ', 's ',\n",
       "       's ', 's ', 'h ', 's ', 'd ', 'd ', 'd ', 'd ', 's ', 's ', 'd ',\n",
       "       's ', 'd ', 's ', 's ', 's ', 's ', 'h ', 'd ', 's ', 'd ', 'h ',\n",
       "       's ', 'o ', 'd ', 'd ', 's ', 's ', 's ', 'd ', 'd ', 'h ', 's ',\n",
       "       'o ', 's ', 'h ', 'o ', 'h ', 'd ', 'h ', 's ', 'h ', 'd '],\n",
       "      dtype=object)"
      ]
     },
     "execution_count": 23,
     "metadata": {},
     "output_type": "execute_result"
    }
   ],
   "source": [
    "#Use kernel : sigmoid for classification\n",
    "svm_clf_sig = SVC(kernel=\"sigmoid\", random_state = 1)\n",
    "svm_clf_sig.fit(x_train, y_train)\n",
    "svm_y_pred_sig = svm_clf_sig.predict(x_test)\n",
    "svm_y_pred_sig"
   ]
  },
  {
   "cell_type": "code",
   "execution_count": 24,
   "metadata": {},
   "outputs": [
    {
     "data": {
      "text/plain": [
       "array([[16,  0,  3,  3],\n",
       "       [ 0,  7,  0,  0],\n",
       "       [ 5,  0,  4,  0],\n",
       "       [ 0,  4,  0, 23]], dtype=int64)"
      ]
     },
     "execution_count": 24,
     "metadata": {},
     "output_type": "execute_result"
    }
   ],
   "source": [
    "#Draw the confusion matrix of svm_y_pred_sig\n",
    "from sklearn.metrics import confusion_matrix\n",
    "confusion_matrix(y_test, svm_y_pred_sig)"
   ]
  },
  {
   "cell_type": "markdown",
   "metadata": {},
   "source": [
    "Here are some comments about the confusion matrix:\n",
    "- 16 values were correctly classified as \"d\". \n",
    "- 7 values were correctly classified as \"h\".\n",
    "- 46 values were correctly classified as \"o\".\n",
    "- 23 values were correctly classified as \"s\".\n",
    "- Read down to the \"h\" row, 6 values that should have been \"o\"(3) and \"s\"(3) were classified as \"d\".\n",
    "- For the \"h\" row, there is no any wrong classification in this row.\n",
    "- 5 values from \"o\" row were classified as \"o\", but they must have been \"d\"(5)\n",
    "- 4 values were classified as \"s\", but they must have been respectively \"h\"(2)"
   ]
  },
  {
   "cell_type": "code",
   "execution_count": 25,
   "metadata": {},
   "outputs": [
    {
     "data": {
      "text/plain": [
       "0.7692307692307693"
      ]
     },
     "execution_count": 25,
     "metadata": {},
     "output_type": "execute_result"
    }
   ],
   "source": [
    "#Compute accuracy\n",
    "from sklearn.metrics import accuracy_score\n",
    "accuracy_score(y_test, svm_y_pred_sig)"
   ]
  },
  {
   "cell_type": "markdown",
   "metadata": {},
   "source": [
    "The accuracy is 76.92%, this ratio is quite low, so that it is not reliable for further step. "
   ]
  },
  {
   "cell_type": "markdown",
   "metadata": {},
   "source": [
    "### Kernel = linear"
   ]
  },
  {
   "cell_type": "code",
   "execution_count": 26,
   "metadata": {},
   "outputs": [
    {
     "data": {
      "text/plain": [
       "array(['d ', 's ', 'd ', 'd ', 'o ', 'd ', 'd ', 'h ', 's ', 'd ', 'o ',\n",
       "       's ', 'd ', 's ', 's ', 'h ', 's ', 'd ', 'o ', 's ', 'd ', 's ',\n",
       "       's ', 'd ', 'h ', 's ', 'd ', 'd ', 'd ', 'o ', 's ', 's ', 'd ',\n",
       "       's ', 'd ', 's ', 'd ', 's ', 's ', 's ', 'd ', 'd ', 'o ', 's ',\n",
       "       's ', 'd ', 'd ', 'd ', 's ', 's ', 's ', 'd ', 'd ', 'h ', 's ',\n",
       "       'o ', 's ', 'h ', 'd ', 'h ', 'o ', 'h ', 's ', 's ', 'o '],\n",
       "      dtype=object)"
      ]
     },
     "execution_count": 26,
     "metadata": {},
     "output_type": "execute_result"
    }
   ],
   "source": [
    "#Use kernel : linear for classification\n",
    "svm_clf_lin = SVC(kernel=\"linear\", random_state = 1)\n",
    "svm_clf_lin.fit(x_train, y_train)\n",
    "svm_y_pred_lin = svm_clf_lin.predict(x_test)\n",
    "svm_y_pred_lin"
   ]
  },
  {
   "cell_type": "code",
   "execution_count": 27,
   "metadata": {},
   "outputs": [
    {
     "data": {
      "text/plain": [
       "array([[21,  0,  0,  1],\n",
       "       [ 0,  5,  0,  2],\n",
       "       [ 1,  0,  8,  0],\n",
       "       [ 2,  2,  0, 23]], dtype=int64)"
      ]
     },
     "execution_count": 27,
     "metadata": {},
     "output_type": "execute_result"
    }
   ],
   "source": [
    "#Draw the confusion matrix of svm_y_pred_lin\n",
    "from sklearn.metrics import confusion_matrix\n",
    "confusion_matrix(y_test, svm_y_pred_lin)"
   ]
  },
  {
   "cell_type": "markdown",
   "metadata": {},
   "source": [
    "Here are some comments about the confusion matrix:\n",
    "- 21 values were correctly classified as \"d\". \n",
    "- 5 values were correctly classified as \"h\".\n",
    "- 8 values were correctly classified as \"o\".\n",
    "- 23 values were correctly classified as \"s\".\n",
    "- Read down to the \"d\" row, 1 value that should have been \"s\" were classified as \"d\".\n",
    "- For the \"h\" row, 2 values that should have been \"s\" were classified as \"h\".\n",
    "- 1 value from \"o\" row were classified as \"o\", but they must have been \"d\".\n",
    "- 4 values were classified as \"s\", but they must have been respectively \"d\"(2) and \"h\"(2)."
   ]
  },
  {
   "cell_type": "code",
   "execution_count": 28,
   "metadata": {},
   "outputs": [
    {
     "data": {
      "text/plain": [
       "0.8769230769230769"
      ]
     },
     "execution_count": 28,
     "metadata": {},
     "output_type": "execute_result"
    }
   ],
   "source": [
    "#Compute accuracy\n",
    "from sklearn.metrics import accuracy_score\n",
    "accuracy_score(y_test, svm_y_pred_lin)"
   ]
  },
  {
   "cell_type": "markdown",
   "metadata": {},
   "source": [
    "The accuracy is 87.69%, this ratio is more higher than SVC with gamma =\"auto\", kernel = \"poly\" and also kernel = \"sigmoid\" when it can predicted classes correctly. It seems to exceed a perfect rate (90%). We can do more with this."
   ]
  },
  {
   "cell_type": "markdown",
   "metadata": {},
   "source": [
    "### Kernel = \"poly\""
   ]
  },
  {
   "cell_type": "code",
   "execution_count": 29,
   "metadata": {},
   "outputs": [
    {
     "data": {
      "text/plain": [
       "array(['s ', 's ', 's ', 'd ', 's ', 's ', 's ', 's ', 's ', 'd ', 'o ',\n",
       "       's ', 'd ', 's ', 's ', 'h ', 's ', 's ', 'o ', 's ', 'd ', 's ',\n",
       "       's ', 's ', 's ', 's ', 's ', 's ', 'd ', 'o ', 's ', 's ', 'd ',\n",
       "       's ', 's ', 's ', 'd ', 's ', 's ', 's ', 's ', 's ', 'o ', 's ',\n",
       "       's ', 's ', 'd ', 'd ', 's ', 's ', 's ', 'd ', 's ', 'h ', 's ',\n",
       "       'o ', 's ', 'h ', 'd ', 's ', 'o ', 'h ', 's ', 's ', 'o '],\n",
       "      dtype=object)"
      ]
     },
     "execution_count": 29,
     "metadata": {},
     "output_type": "execute_result"
    }
   ],
   "source": [
    "#Use kernel :polynomial for classification\n",
    "svm_clf_poly = SVC(kernel=\"poly\", degree = 3, random_state = 1)\n",
    "svm_clf_poly.fit(x_train, y_train)\n",
    "svm_y_pred_poly = svm_clf_poly.predict(x_test)\n",
    "svm_y_pred_poly"
   ]
  },
  {
   "cell_type": "code",
   "execution_count": 30,
   "metadata": {},
   "outputs": [
    {
     "data": {
      "text/plain": [
       "array([[ 9,  0,  0, 13],\n",
       "       [ 0,  4,  0,  3],\n",
       "       [ 1,  0,  7,  1],\n",
       "       [ 1,  0,  0, 26]], dtype=int64)"
      ]
     },
     "execution_count": 30,
     "metadata": {},
     "output_type": "execute_result"
    }
   ],
   "source": [
    "#Draw the confusion matrix of svm_y_pred_poly\n",
    "from sklearn.metrics import confusion_matrix\n",
    "confusion_matrix(y_test, svm_y_pred_poly)"
   ]
  },
  {
   "cell_type": "markdown",
   "metadata": {},
   "source": [
    "Here are some comments about the confusion matrix:\n",
    "- 9 values were correctly classified as \"d\". \n",
    "- 4 values were correctly classified as \"h\".\n",
    "- 7 values were correctly classified as \"o\".\n",
    "- 26 values were correctly classified as \"s\".\n",
    "- Read down to the \"d\" row, 13 values that should have been \"s\" were classified as \"d\".\n",
    "- For the \"h\" row, 3 values that should have been \"s\" were classified as \"h\".\n",
    "- 2 values from \"o\" row were classified as \"o\", but they must have been \"d\"(1) and \"s\"(1).\n",
    "- 1 values were classified as \"s\", but they must have been respectively \"d\"(1)."
   ]
  },
  {
   "cell_type": "code",
   "execution_count": 31,
   "metadata": {},
   "outputs": [
    {
     "data": {
      "text/plain": [
       "0.7076923076923077"
      ]
     },
     "execution_count": 31,
     "metadata": {},
     "output_type": "execute_result"
    }
   ],
   "source": [
    "#Compute accuracy\n",
    "from sklearn.metrics import accuracy_score\n",
    "accuracy_score(y_test, svm_y_pred_poly)"
   ]
  },
  {
   "cell_type": "markdown",
   "metadata": {},
   "source": [
    "The accuracy is 70.77%, this ratio is the lowest one when it can predicted classes correctly. "
   ]
  },
  {
   "cell_type": "markdown",
   "metadata": {},
   "source": [
    "### Stochastic Gradient Descent"
   ]
  },
  {
   "cell_type": "code",
   "execution_count": 32,
   "metadata": {},
   "outputs": [
    {
     "data": {
      "text/plain": [
       "array(['o ', 's ', 'd ', 'd ', 'o ', 'd ', 'd ', 's ', 's ', 'd ', 'o ',\n",
       "       's ', 'd ', 's ', 's ', 'h ', 's ', 'd ', 'o ', 's ', 'd ', 's ',\n",
       "       's ', 'd ', 's ', 's ', 'd ', 'd ', 'd ', 'o ', 's ', 's ', 'd ',\n",
       "       's ', 'd ', 's ', 'd ', 's ', 's ', 's ', 'd ', 's ', 'o ', 's ',\n",
       "       's ', 'd ', 'd ', 'd ', 's ', 's ', 's ', 'd ', 's ', 'h ', 's ',\n",
       "       'o ', 's ', 'h ', 'd ', 's ', 'o ', 'h ', 's ', 's ', 'o '],\n",
       "      dtype='<U2')"
      ]
     },
     "execution_count": 32,
     "metadata": {},
     "output_type": "execute_result"
    }
   ],
   "source": [
    "#Apply Stochastic Gradient Descent Classifier into dataset. loss = hinge\n",
    "from sklearn import linear_model\n",
    "sgd_clf_hinge = linear_model.SGDClassifier(loss = \"hinge\", random_state = 1)\n",
    "sgd_clf_hinge.fit(x_train, y_train)\n",
    "sgd_y_pred_hinge = sgd_clf_hinge.predict(x_test)\n",
    "sgd_y_pred_hinge"
   ]
  },
  {
   "cell_type": "code",
   "execution_count": 33,
   "metadata": {},
   "outputs": [
    {
     "data": {
      "text/plain": [
       "array([[18,  0,  1,  3],\n",
       "       [ 0,  4,  0,  3],\n",
       "       [ 1,  0,  8,  0],\n",
       "       [ 2,  0,  0, 25]], dtype=int64)"
      ]
     },
     "execution_count": 33,
     "metadata": {},
     "output_type": "execute_result"
    }
   ],
   "source": [
    "#Draw the confusion matrix of svm_y_pred_hinge\n",
    "from sklearn.metrics import confusion_matrix\n",
    "confusion_matrix(y_test, sgd_y_pred_hinge)"
   ]
  },
  {
   "cell_type": "code",
   "execution_count": 34,
   "metadata": {},
   "outputs": [
    {
     "data": {
      "text/plain": [
       "array(['d ', 'h ', 'o ', 's '], dtype='<U2')"
      ]
     },
     "execution_count": 34,
     "metadata": {},
     "output_type": "execute_result"
    }
   ],
   "source": [
    "#This code shows the label of the confusion matrix above.\n",
    "sgd_clf_hinge.classes_"
   ]
  },
  {
   "cell_type": "markdown",
   "metadata": {},
   "source": [
    "Here are some comments about the confusion matrix:\n",
    "- 18 values were correctly classified as \"d\". \n",
    "- 4 values were correctly classified as \"h\".\n",
    "- 8 values were correctly classified as \"o\".\n",
    "- 25 values were correctly classified as \"s\".\n",
    "- Read down to the \"d\" row, 4 values that should have been \"o\"(1) and \"s\"(3) were classified as \"d\".\n",
    "- For the \"h\" row, 3 values that should have been \"s\" were classified as \"h\"\n",
    "- 1 value from \"o\" row were classified as \"o\", but they must have been \"d\".\n",
    "- 2 values were classified as \"s\", but they must have been \"d\""
   ]
  },
  {
   "cell_type": "code",
   "execution_count": 35,
   "metadata": {},
   "outputs": [
    {
     "data": {
      "text/plain": [
       "0.8461538461538461"
      ]
     },
     "execution_count": 35,
     "metadata": {},
     "output_type": "execute_result"
    }
   ],
   "source": [
    "#Compute accuracy\n",
    "from sklearn.metrics import accuracy_score\n",
    "accuracy_score(y_test, sgd_y_pred_hinge)"
   ]
  },
  {
   "cell_type": "markdown",
   "metadata": {},
   "source": [
    "The accuracy is 84.62%, this ratio is quite good when it can predicted classes correctly. "
   ]
  },
  {
   "cell_type": "markdown",
   "metadata": {},
   "source": [
    "### Loss = \"log\""
   ]
  },
  {
   "cell_type": "code",
   "execution_count": 36,
   "metadata": {},
   "outputs": [
    {
     "data": {
      "text/plain": [
       "array(['o ', 's ', 'd ', 'd ', 'o ', 'd ', 'd ', 'h ', 's ', 'd ', 'o ',\n",
       "       's ', 'd ', 's ', 's ', 'h ', 's ', 'd ', 'o ', 's ', 'd ', 's ',\n",
       "       's ', 'd ', 'h ', 's ', 'd ', 'd ', 'd ', 'o ', 's ', 's ', 'd ',\n",
       "       's ', 'd ', 's ', 'd ', 's ', 'd ', 's ', 'd ', 's ', 'o ', 's ',\n",
       "       's ', 'd ', 'd ', 'd ', 'd ', 's ', 's ', 'd ', 's ', 'h ', 'd ',\n",
       "       'o ', 's ', 'h ', 'd ', 's ', 'o ', 'h ', 'd ', 's ', 'o '],\n",
       "      dtype='<U2')"
      ]
     },
     "execution_count": 36,
     "metadata": {},
     "output_type": "execute_result"
    }
   ],
   "source": [
    "#Use loss: log for classification\n",
    "from sklearn import linear_model\n",
    "sgd_clf_log = linear_model.SGDClassifier(loss ='log', random_state = 1)\n",
    "sgd_clf_log.fit(x_train, y_train)\n",
    "sgd_y_pred_log = sgd_clf_log.predict(x_test)\n",
    "sgd_y_pred_log"
   ]
  },
  {
   "cell_type": "code",
   "execution_count": 37,
   "metadata": {},
   "outputs": [
    {
     "data": {
      "text/plain": [
       "array([[19,  0,  1,  2],\n",
       "       [ 0,  4,  0,  3],\n",
       "       [ 1,  0,  8,  0],\n",
       "       [ 5,  2,  0, 20]], dtype=int64)"
      ]
     },
     "execution_count": 37,
     "metadata": {},
     "output_type": "execute_result"
    }
   ],
   "source": [
    "#Draw the confusion matrix of svm_y_pred_log\n",
    "from sklearn.metrics import confusion_matrix\n",
    "confusion_matrix(y_test, sgd_y_pred_log)"
   ]
  },
  {
   "cell_type": "markdown",
   "metadata": {},
   "source": [
    "Here are some comments about the confusion matrix:\n",
    "- 19 values were correctly classified as \"d\". \n",
    "- 4 values were correctly classified as \"h\".\n",
    "- 8 values were correctly classified as \"o\".\n",
    "- 20 values were correctly classified as \"s\".\n",
    "- Read down to the \"d\" row, 3 values that should have been \"o\"(1) and \"s\"(2) were classified as \"d\".\n",
    "- For the \"h\" row, 3 values that should have been \"d\" were classified as \"s\".\n",
    "- 1 value from \"o\" row were classified as \"o\", but they must have been \"d\".\n",
    "- 7 values were classified as \"s\", but they must have been \"d\"(5) and \"h\"(2)."
   ]
  },
  {
   "cell_type": "code",
   "execution_count": 38,
   "metadata": {},
   "outputs": [
    {
     "data": {
      "text/plain": [
       "0.7846153846153846"
      ]
     },
     "execution_count": 38,
     "metadata": {},
     "output_type": "execute_result"
    }
   ],
   "source": [
    "#Compute accuracy\n",
    "from sklearn.metrics import accuracy_score\n",
    "accuracy_score(y_test, sgd_y_pred_log)"
   ]
  },
  {
   "cell_type": "markdown",
   "metadata": {},
   "source": [
    "The accuracy is 78.46%, this ratio is not good because its accuracy is below 80% when it can predicted classes correctly."
   ]
  },
  {
   "cell_type": "markdown",
   "metadata": {},
   "source": [
    "### Loss = \"modified_huber\""
   ]
  },
  {
   "cell_type": "code",
   "execution_count": 39,
   "metadata": {},
   "outputs": [
    {
     "data": {
      "text/plain": [
       "array(['s ', 's ', 'd ', 'd ', 'o ', 'd ', 'd ', 's ', 's ', 'd ', 'o ',\n",
       "       's ', 'd ', 's ', 's ', 'h ', 's ', 'd ', 'o ', 's ', 'd ', 's ',\n",
       "       's ', 'd ', 's ', 's ', 'd ', 'd ', 'd ', 'o ', 's ', 's ', 'd ',\n",
       "       's ', 'd ', 's ', 'd ', 's ', 's ', 's ', 'd ', 's ', 'o ', 's ',\n",
       "       's ', 'o ', 'd ', 'd ', 'd ', 's ', 's ', 'd ', 's ', 'h ', 'd ',\n",
       "       'o ', 's ', 'h ', 'd ', 's ', 'o ', 'h ', 'd ', 's ', 'o '],\n",
       "      dtype='<U2')"
      ]
     },
     "execution_count": 39,
     "metadata": {},
     "output_type": "execute_result"
    }
   ],
   "source": [
    "#Use modified_huber for classification\n",
    "from sklearn import linear_model\n",
    "sgd_clf_hub = linear_model.SGDClassifier(loss ='modified_huber', random_state = 1)\n",
    "sgd_clf_hub.fit(x_train, y_train)\n",
    "sgd_y_pred_hub = sgd_clf_hub.predict(x_test)\n",
    "sgd_y_pred_hub"
   ]
  },
  {
   "cell_type": "code",
   "execution_count": 40,
   "metadata": {},
   "outputs": [
    {
     "data": {
      "text/plain": [
       "array([[18,  0,  1,  3],\n",
       "       [ 0,  4,  0,  3],\n",
       "       [ 1,  0,  8,  0],\n",
       "       [ 4,  0,  0, 23]], dtype=int64)"
      ]
     },
     "execution_count": 40,
     "metadata": {},
     "output_type": "execute_result"
    }
   ],
   "source": [
    "#Draw the confusion matrix of svm_y_pred_hub\n",
    "from sklearn.metrics import confusion_matrix\n",
    "confusion_matrix(y_test, sgd_y_pred_hub)"
   ]
  },
  {
   "cell_type": "markdown",
   "metadata": {},
   "source": [
    "Here are some comments about the confusion matrix:\n",
    "- 18 values were correctly classified as \"d\". \n",
    "- 4 values were correctly classified as \"h\".\n",
    "- 8 values were correctly classified as \"o\".\n",
    "- 23 values were correctly classified as \"s\".\n",
    "- Read down to the \"d\" row, 4 values that should have been \"o\"(1) and \"s\"(3) were classified as \"d\".\n",
    "- For the \"h\" row, 3 values that should have been \"s\" were classified as \"h\".\n",
    "- 1 value from \"o\" row were classified as \"o\", but they must have been \"d\".\n",
    "- 4 values were classified as \"s\", but they must have been \"d\""
   ]
  },
  {
   "cell_type": "code",
   "execution_count": 41,
   "metadata": {},
   "outputs": [
    {
     "data": {
      "text/plain": [
       "0.8153846153846154"
      ]
     },
     "execution_count": 41,
     "metadata": {},
     "output_type": "execute_result"
    }
   ],
   "source": [
    "#Compute accuracy\n",
    "from sklearn.metrics import accuracy_score\n",
    "accuracy_score(y_test, sgd_y_pred_hub)"
   ]
  },
  {
   "cell_type": "markdown",
   "metadata": {},
   "source": [
    "The accuracy is 81.54% this ratio is quite good when it can predicted classes correctly."
   ]
  },
  {
   "cell_type": "markdown",
   "metadata": {},
   "source": [
    "## Cross Validation"
   ]
  },
  {
   "cell_type": "code",
   "execution_count": 42,
   "metadata": {},
   "outputs": [
    {
     "data": {
      "text/plain": [
       "array([0.89393939, 0.96969697, 0.96969697])"
      ]
     },
     "execution_count": 42,
     "metadata": {},
     "output_type": "execute_result"
    }
   ],
   "source": [
    "from sklearn.model_selection import cross_val_score\n",
    "\n",
    "cross_val_score(svm_clf_lin, test_origin_num_tr, test_origin_cat, cv=3, scoring=\"accuracy\")"
   ]
  },
  {
   "cell_type": "markdown",
   "metadata": {},
   "source": [
    "Wow, when I used cross validation on the original test set, the results are almost perfect such as 89.39% nearly 90%, others are 96.97%.\n",
    "The accuracy with model cross validation is: 94.44%."
   ]
  },
  {
   "cell_type": "markdown",
   "metadata": {},
   "source": [
    "## 6. Conclusion"
   ]
  },
  {
   "cell_type": "markdown",
   "metadata": {},
   "source": [
    "|        Classification        | Prediction Rate |\n",
    "|:----------------------------:|:---------------:|\n",
    "|     SVM - gamma = 'auto'     |      83.08%     |\n",
    "|   SVM - kernel = 'sigmoid'   |      76.92%     |\n",
    "|    SVM - kernel = 'linear'   |      87.69%     |\n",
    "|     SVM - kernel = 'poly'    |      70.77%     |\n",
    "|     SGD - loss = 'hinge'     |      84.62%     |\n",
    "|      SGD - loss = 'log'      |      78.46%     |\n",
    "| SDG - loss = 'modifed_huber' |      81.54%     |"
   ]
  },
  {
   "cell_type": "markdown",
   "metadata": {},
   "source": [
    "In this dataset, using SVM Classifier with hyperparameter kernel = \"linear\" gave out the highest prediction rate (87.69%) which was at a perfect rate (above 90%). Most of classifications with different hyperparameters results in the good prediction rate which were above 80%, except for the SVM with kernel =\"poly\"(70.77%), \"sigmoid(76.92%), and loss = \"log\"(78.46%) which were not reliable to go further step."
   ]
  }
 ],
 "metadata": {
  "kernelspec": {
   "display_name": "Python 3",
   "language": "python",
   "name": "python3"
  },
  "language_info": {
   "codemirror_mode": {
    "name": "ipython",
    "version": 3
   },
   "file_extension": ".py",
   "mimetype": "text/x-python",
   "name": "python",
   "nbconvert_exporter": "python",
   "pygments_lexer": "ipython3",
   "version": "3.7.6"
  }
 },
 "nbformat": 4,
 "nbformat_minor": 4
}

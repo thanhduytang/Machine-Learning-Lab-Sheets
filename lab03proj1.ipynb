{
 "cells": [
  {
   "cell_type": "markdown",
   "metadata": {},
   "source": [
    "<center><b><big> CITS 5508 LAB SHEET 3</big></b></center>\n",
    "\n",
    "**Name: Thanh Duy Tang**<br>\n",
    "**Student Number: 22803018**<br>\n",
    "**Date created: 24th March 2020 <br>\n",
    "**Last modified: 17th Apr 2020"
   ]
  },
  {
   "cell_type": "markdown",
   "metadata": {},
   "source": [
    "## 1. Setup\n",
    "\n",
    "Before going to loading data part, we need to make sure that MatplotLib figures inline and prepare a function to save the figures. Moreover, we should use Python 3.0 as well as Scikit-Learn >= 0.20"
   ]
  },
  {
   "cell_type": "code",
   "execution_count": 129,
   "metadata": {},
   "outputs": [],
   "source": [
    "#Python >= 3.0 is required\n",
    "import sys\n",
    "assert sys.version_info >= (3,5)\n",
    "\n",
    "#Scikit-Learn >= 0.20 \n",
    "import sklearn\n",
    "assert sklearn.__version__ >= '0.20'\n",
    "\n",
    "#Get the pretty figures\n",
    "%matplotlib inline\n",
    "import matplotlib as mpl\n",
    "import matplotlib.pyplot as plt\n",
    "mpl.rc('axes', labelsize=14)\n",
    "mpl.rc('xtick', labelsize=12)\n",
    "mpl.rc('ytick', labelsize=12)\n",
    "\n",
    "#Save the figures\n",
    "import os\n",
    "LAB2_ROOT_DIR = \".\"\n",
    "CHAPTER_ID = \"LAB SHEET 2\"\n",
    "IMAGES_PATH = os.path.join(LAB2_ROOT_DIR, \"images\", CHAPTER_ID)\n",
    "os.makedirs(IMAGES_PATH, exist_ok=True)\n",
    "\n",
    "def save_fig(fig_id, tight_layout=True, fig_extension=\"png\", resolution=300):\n",
    "    path = os.path.join(IMAGES_PATH, fig_id + \".\" + fig_extension)\n",
    "    print(\"Saving figure\", fig_id)\n",
    "    if tight_layout:\n",
    "        plt.tight_layout()\n",
    "    plt.savefig(path, format=fig_extension, dpi=resolution)\n",
    "    \n",
    "#Ignore useless warnings\n",
    "import warnings\n",
    "warnings.filterwarnings(action=\"ignore\", message=\"^internal gelsd\")"
   ]
  },
  {
   "cell_type": "markdown",
   "metadata": {},
   "source": [
    "## 2. Loading data\n",
    "First, we need to dowload the zip file from http://archive.ics.uci.edu/ml/datasets/Forest+type+mapping# \n",
    "and put the file into the same directory of this lab file."
   ]
  },
  {
   "cell_type": "code",
   "execution_count": 5,
   "metadata": {},
   "outputs": [
    {
     "name": "stderr",
     "output_type": "stream",
     "text": [
      "C:\\Users\\Duy\\Anaconda3\\envs\\CITS5508\\lib\\site-packages\\ipykernel_launcher.py:5: ParserWarning: Falling back to the 'python' engine because the 'c' engine does not support regex separators (separators > 1 char and different from '\\s+' are interpreted as regex); you can avoid this warning by specifying engine='python'.\n",
      "  \"\"\"\n"
     ]
    },
    {
     "data": {
      "text/html": [
       "<div>\n",
       "<style scoped>\n",
       "    .dataframe tbody tr th:only-of-type {\n",
       "        vertical-align: middle;\n",
       "    }\n",
       "\n",
       "    .dataframe tbody tr th {\n",
       "        vertical-align: top;\n",
       "    }\n",
       "\n",
       "    .dataframe thead th {\n",
       "        text-align: right;\n",
       "    }\n",
       "</style>\n",
       "<table border=\"1\" class=\"dataframe\">\n",
       "  <thead>\n",
       "    <tr style=\"text-align: right;\">\n",
       "      <th></th>\n",
       "      <th>Sequence Name</th>\n",
       "      <th>MCG</th>\n",
       "      <th>GVH</th>\n",
       "      <th>LIP</th>\n",
       "      <th>CHG</th>\n",
       "      <th>AAC</th>\n",
       "      <th>ALM1</th>\n",
       "      <th>ALM2</th>\n",
       "      <th>Class</th>\n",
       "    </tr>\n",
       "  </thead>\n",
       "  <tbody>\n",
       "    <tr>\n",
       "      <th>0</th>\n",
       "      <td>AAT_ECOLI</td>\n",
       "      <td>0.49</td>\n",
       "      <td>0.29</td>\n",
       "      <td>0.48</td>\n",
       "      <td>0.5</td>\n",
       "      <td>0.56</td>\n",
       "      <td>0.24</td>\n",
       "      <td>0.35</td>\n",
       "      <td>cp</td>\n",
       "    </tr>\n",
       "    <tr>\n",
       "      <th>1</th>\n",
       "      <td>ACEA_ECOLI</td>\n",
       "      <td>0.07</td>\n",
       "      <td>0.40</td>\n",
       "      <td>0.48</td>\n",
       "      <td>0.5</td>\n",
       "      <td>0.54</td>\n",
       "      <td>0.35</td>\n",
       "      <td>0.44</td>\n",
       "      <td>cp</td>\n",
       "    </tr>\n",
       "    <tr>\n",
       "      <th>2</th>\n",
       "      <td>ACEK_ECOLI</td>\n",
       "      <td>0.56</td>\n",
       "      <td>0.40</td>\n",
       "      <td>0.48</td>\n",
       "      <td>0.5</td>\n",
       "      <td>0.49</td>\n",
       "      <td>0.37</td>\n",
       "      <td>0.46</td>\n",
       "      <td>cp</td>\n",
       "    </tr>\n",
       "    <tr>\n",
       "      <th>3</th>\n",
       "      <td>ACKA_ECOLI</td>\n",
       "      <td>0.59</td>\n",
       "      <td>0.49</td>\n",
       "      <td>0.48</td>\n",
       "      <td>0.5</td>\n",
       "      <td>0.52</td>\n",
       "      <td>0.45</td>\n",
       "      <td>0.36</td>\n",
       "      <td>cp</td>\n",
       "    </tr>\n",
       "    <tr>\n",
       "      <th>4</th>\n",
       "      <td>ADI_ECOLI</td>\n",
       "      <td>0.23</td>\n",
       "      <td>0.32</td>\n",
       "      <td>0.48</td>\n",
       "      <td>0.5</td>\n",
       "      <td>0.55</td>\n",
       "      <td>0.25</td>\n",
       "      <td>0.35</td>\n",
       "      <td>cp</td>\n",
       "    </tr>\n",
       "    <tr>\n",
       "      <th>...</th>\n",
       "      <td>...</td>\n",
       "      <td>...</td>\n",
       "      <td>...</td>\n",
       "      <td>...</td>\n",
       "      <td>...</td>\n",
       "      <td>...</td>\n",
       "      <td>...</td>\n",
       "      <td>...</td>\n",
       "      <td>...</td>\n",
       "    </tr>\n",
       "    <tr>\n",
       "      <th>331</th>\n",
       "      <td>TREA_ECOLI</td>\n",
       "      <td>0.74</td>\n",
       "      <td>0.56</td>\n",
       "      <td>0.48</td>\n",
       "      <td>0.5</td>\n",
       "      <td>0.47</td>\n",
       "      <td>0.68</td>\n",
       "      <td>0.30</td>\n",
       "      <td>pp</td>\n",
       "    </tr>\n",
       "    <tr>\n",
       "      <th>332</th>\n",
       "      <td>UGPB_ECOLI</td>\n",
       "      <td>0.71</td>\n",
       "      <td>0.57</td>\n",
       "      <td>0.48</td>\n",
       "      <td>0.5</td>\n",
       "      <td>0.48</td>\n",
       "      <td>0.35</td>\n",
       "      <td>0.32</td>\n",
       "      <td>pp</td>\n",
       "    </tr>\n",
       "    <tr>\n",
       "      <th>333</th>\n",
       "      <td>USHA_ECOLI</td>\n",
       "      <td>0.61</td>\n",
       "      <td>0.60</td>\n",
       "      <td>0.48</td>\n",
       "      <td>0.5</td>\n",
       "      <td>0.44</td>\n",
       "      <td>0.39</td>\n",
       "      <td>0.38</td>\n",
       "      <td>pp</td>\n",
       "    </tr>\n",
       "    <tr>\n",
       "      <th>334</th>\n",
       "      <td>XYLF_ECOLI</td>\n",
       "      <td>0.59</td>\n",
       "      <td>0.61</td>\n",
       "      <td>0.48</td>\n",
       "      <td>0.5</td>\n",
       "      <td>0.42</td>\n",
       "      <td>0.42</td>\n",
       "      <td>0.37</td>\n",
       "      <td>pp</td>\n",
       "    </tr>\n",
       "    <tr>\n",
       "      <th>335</th>\n",
       "      <td>YTFQ_ECOLI</td>\n",
       "      <td>0.74</td>\n",
       "      <td>0.74</td>\n",
       "      <td>0.48</td>\n",
       "      <td>0.5</td>\n",
       "      <td>0.31</td>\n",
       "      <td>0.53</td>\n",
       "      <td>0.52</td>\n",
       "      <td>pp</td>\n",
       "    </tr>\n",
       "  </tbody>\n",
       "</table>\n",
       "<p>336 rows × 9 columns</p>\n",
       "</div>"
      ],
      "text/plain": [
       "    Sequence Name   MCG   GVH   LIP  CHG   AAC  ALM1  ALM2 Class\n",
       "0       AAT_ECOLI  0.49  0.29  0.48  0.5  0.56  0.24  0.35    cp\n",
       "1      ACEA_ECOLI  0.07  0.40  0.48  0.5  0.54  0.35  0.44    cp\n",
       "2      ACEK_ECOLI  0.56  0.40  0.48  0.5  0.49  0.37  0.46    cp\n",
       "3      ACKA_ECOLI  0.59  0.49  0.48  0.5  0.52  0.45  0.36    cp\n",
       "4       ADI_ECOLI  0.23  0.32  0.48  0.5  0.55  0.25  0.35    cp\n",
       "..            ...   ...   ...   ...  ...   ...   ...   ...   ...\n",
       "331    TREA_ECOLI  0.74  0.56  0.48  0.5  0.47  0.68  0.30    pp\n",
       "332    UGPB_ECOLI  0.71  0.57  0.48  0.5  0.48  0.35  0.32    pp\n",
       "333    USHA_ECOLI  0.61  0.60  0.48  0.5  0.44  0.39  0.38    pp\n",
       "334    XYLF_ECOLI  0.59  0.61  0.48  0.5  0.42  0.42  0.37    pp\n",
       "335    YTFQ_ECOLI  0.74  0.74  0.48  0.5  0.31  0.53  0.52    pp\n",
       "\n",
       "[336 rows x 9 columns]"
      ]
     },
     "execution_count": 5,
     "metadata": {},
     "output_type": "execute_result"
    }
   ],
   "source": [
    "#Load the Pandas libraries with alias \"pd\"\n",
    "import os\n",
    "import pandas as pd\n",
    "#Read data from \"ecoli.data\" and named all the columns.\n",
    "data_set = pd.read_csv(\"ecoli.data\", delimiter = '\\s +', header = None)\n",
    "data_set = data_set.set_axis(['Sequence Name', 'MCG', 'GVH', 'LIP', 'CHG', 'AAC', 'ALM1'\n",
    "                           , 'ALM2', 'Class'], axis = 1, inplace = False)\n",
    "data_set"
   ]
  },
  {
   "cell_type": "code",
   "execution_count": 131,
   "metadata": {},
   "outputs": [
    {
     "data": {
      "text/plain": [
       "SECF_ECOLI    1\n",
       "DPPC_ECOLI    1\n",
       "DHSC_ECOLI    1\n",
       "LIVK_ECOLI    1\n",
       "KAD_ECOLI     1\n",
       "             ..\n",
       "NHAR_ECOLI    1\n",
       "CIRA_ECOLI    1\n",
       "OPPA_ECOLI    1\n",
       "DSBA_ECOLI    1\n",
       "LNT_ECOLI     1\n",
       "Name: Sequence Name, Length: 336, dtype: int64"
      ]
     },
     "execution_count": 131,
     "metadata": {},
     "output_type": "execute_result"
    }
   ],
   "source": [
    "data_set['Sequence Name'].value_counts()"
   ]
  },
  {
   "cell_type": "markdown",
   "metadata": {},
   "source": [
    "Through the syntax above, we could easily see that all values in \"Sequence Name\" column are distinct. So I decided to put this column as an index column by using the syntax below to set index column."
   ]
  },
  {
   "cell_type": "code",
   "execution_count": 132,
   "metadata": {},
   "outputs": [],
   "source": [
    "#Set the \"Sequence Name\" as index column because this column has distinct values.\n",
    "data_set.set_index('Sequence Name', inplace = True)"
   ]
  },
  {
   "cell_type": "code",
   "execution_count": 133,
   "metadata": {},
   "outputs": [
    {
     "data": {
      "text/html": [
       "<div>\n",
       "<style scoped>\n",
       "    .dataframe tbody tr th:only-of-type {\n",
       "        vertical-align: middle;\n",
       "    }\n",
       "\n",
       "    .dataframe tbody tr th {\n",
       "        vertical-align: top;\n",
       "    }\n",
       "\n",
       "    .dataframe thead th {\n",
       "        text-align: right;\n",
       "    }\n",
       "</style>\n",
       "<table border=\"1\" class=\"dataframe\">\n",
       "  <thead>\n",
       "    <tr style=\"text-align: right;\">\n",
       "      <th></th>\n",
       "      <th>MCG</th>\n",
       "      <th>GVH</th>\n",
       "      <th>LIP</th>\n",
       "      <th>CHG</th>\n",
       "      <th>AAC</th>\n",
       "      <th>ALM1</th>\n",
       "      <th>ALM2</th>\n",
       "    </tr>\n",
       "  </thead>\n",
       "  <tbody>\n",
       "    <tr>\n",
       "      <th>count</th>\n",
       "      <td>336.000000</td>\n",
       "      <td>336.000000</td>\n",
       "      <td>336.000000</td>\n",
       "      <td>336.000000</td>\n",
       "      <td>336.000000</td>\n",
       "      <td>336.000000</td>\n",
       "      <td>336.000000</td>\n",
       "    </tr>\n",
       "    <tr>\n",
       "      <th>mean</th>\n",
       "      <td>0.500060</td>\n",
       "      <td>0.500000</td>\n",
       "      <td>0.495476</td>\n",
       "      <td>0.501488</td>\n",
       "      <td>0.500030</td>\n",
       "      <td>0.500179</td>\n",
       "      <td>0.499732</td>\n",
       "    </tr>\n",
       "    <tr>\n",
       "      <th>std</th>\n",
       "      <td>0.194634</td>\n",
       "      <td>0.148157</td>\n",
       "      <td>0.088495</td>\n",
       "      <td>0.027277</td>\n",
       "      <td>0.122376</td>\n",
       "      <td>0.215751</td>\n",
       "      <td>0.209411</td>\n",
       "    </tr>\n",
       "    <tr>\n",
       "      <th>min</th>\n",
       "      <td>0.000000</td>\n",
       "      <td>0.160000</td>\n",
       "      <td>0.480000</td>\n",
       "      <td>0.500000</td>\n",
       "      <td>0.000000</td>\n",
       "      <td>0.030000</td>\n",
       "      <td>0.000000</td>\n",
       "    </tr>\n",
       "    <tr>\n",
       "      <th>25%</th>\n",
       "      <td>0.340000</td>\n",
       "      <td>0.400000</td>\n",
       "      <td>0.480000</td>\n",
       "      <td>0.500000</td>\n",
       "      <td>0.420000</td>\n",
       "      <td>0.330000</td>\n",
       "      <td>0.350000</td>\n",
       "    </tr>\n",
       "    <tr>\n",
       "      <th>50%</th>\n",
       "      <td>0.500000</td>\n",
       "      <td>0.470000</td>\n",
       "      <td>0.480000</td>\n",
       "      <td>0.500000</td>\n",
       "      <td>0.495000</td>\n",
       "      <td>0.455000</td>\n",
       "      <td>0.430000</td>\n",
       "    </tr>\n",
       "    <tr>\n",
       "      <th>75%</th>\n",
       "      <td>0.662500</td>\n",
       "      <td>0.570000</td>\n",
       "      <td>0.480000</td>\n",
       "      <td>0.500000</td>\n",
       "      <td>0.570000</td>\n",
       "      <td>0.710000</td>\n",
       "      <td>0.710000</td>\n",
       "    </tr>\n",
       "    <tr>\n",
       "      <th>max</th>\n",
       "      <td>0.890000</td>\n",
       "      <td>1.000000</td>\n",
       "      <td>1.000000</td>\n",
       "      <td>1.000000</td>\n",
       "      <td>0.880000</td>\n",
       "      <td>1.000000</td>\n",
       "      <td>0.990000</td>\n",
       "    </tr>\n",
       "  </tbody>\n",
       "</table>\n",
       "</div>"
      ],
      "text/plain": [
       "              MCG         GVH         LIP         CHG         AAC        ALM1  \\\n",
       "count  336.000000  336.000000  336.000000  336.000000  336.000000  336.000000   \n",
       "mean     0.500060    0.500000    0.495476    0.501488    0.500030    0.500179   \n",
       "std      0.194634    0.148157    0.088495    0.027277    0.122376    0.215751   \n",
       "min      0.000000    0.160000    0.480000    0.500000    0.000000    0.030000   \n",
       "25%      0.340000    0.400000    0.480000    0.500000    0.420000    0.330000   \n",
       "50%      0.500000    0.470000    0.480000    0.500000    0.495000    0.455000   \n",
       "75%      0.662500    0.570000    0.480000    0.500000    0.570000    0.710000   \n",
       "max      0.890000    1.000000    1.000000    1.000000    0.880000    1.000000   \n",
       "\n",
       "             ALM2  \n",
       "count  336.000000  \n",
       "mean     0.499732  \n",
       "std      0.209411  \n",
       "min      0.000000  \n",
       "25%      0.350000  \n",
       "50%      0.430000  \n",
       "75%      0.710000  \n",
       "max      0.990000  "
      ]
     },
     "execution_count": 133,
     "metadata": {},
     "output_type": "execute_result"
    }
   ],
   "source": [
    "data_set.describe()"
   ]
  },
  {
   "cell_type": "code",
   "execution_count": 134,
   "metadata": {},
   "outputs": [
    {
     "data": {
      "text/plain": [
       "cp     143\n",
       "im      77\n",
       "pp      52\n",
       "imU     35\n",
       "om      20\n",
       "omL      5\n",
       "imL      2\n",
       "imS      2\n",
       "Name: Class, dtype: int64"
      ]
     },
     "execution_count": 134,
     "metadata": {},
     "output_type": "execute_result"
    }
   ],
   "source": [
    "#Count all the values in \"Class\" column.\n",
    "data_set['Class'].value_counts()"
   ]
  },
  {
   "cell_type": "code",
   "execution_count": 135,
   "metadata": {},
   "outputs": [
    {
     "name": "stdout",
     "output_type": "stream",
     "text": [
      "Saving figure attribute_histogram_plots\n"
     ]
    },
    {
     "data": {
      "image/png": "[encoded data removed]",
      "text/plain": [
       "<Figure size 1440x1080 with 1 Axes>"
      ]
     },
     "metadata": {
      "needs_background": "light"
     },
     "output_type": "display_data"
    }
   ],
   "source": [
    "##Visualize the dataset\n",
    "import matplotlib.pyplot as plt\n",
    "data_set['Class'].hist(bins=50, figsize=(20,15))\n",
    "save_fig(\"attribute_histogram_plots\")\n",
    "plt.show()"
   ]
  },
  {
   "cell_type": "markdown",
   "metadata": {},
   "source": [
    "Those two syntaxes above illustrated the numbers of class attributed in the data. There are 3 classes that have less than 10 instances in the data, which can lead to invalid dataset and unwanted result. I will delete those classes in the cleaning data section below."
   ]
  },
  {
   "cell_type": "markdown",
   "metadata": {},
   "source": [
    "## 3. Cleaning data"
   ]
  },
  {
   "cell_type": "code",
   "execution_count": 136,
   "metadata": {},
   "outputs": [
    {
     "data": {
      "text/plain": [
       "cp     143\n",
       "im      77\n",
       "pp      52\n",
       "imU     35\n",
       "om      20\n",
       "Name: Class, dtype: int64"
      ]
     },
     "execution_count": 136,
     "metadata": {},
     "output_type": "execute_result"
    }
   ],
   "source": [
    "#Delete the rows with class less than 10. We have omL, imS, imL which is less than 10.\n",
    "import pandas as pd\n",
    "data_set = data_set[data_set.Class != \"omL\"]\n",
    "data_set = data_set[data_set.Class != \"imS\"]\n",
    "data_set = data_set[data_set.Class != \"imL\"]\n",
    "data_set['Class'].value_counts()"
   ]
  },
  {
   "cell_type": "markdown",
   "metadata": {},
   "source": [
    "I used data subset to discard those invalid values mentioned above in 'Class' column. Data set is clean now. We will turn to Preparing step for Classification."
   ]
  },
  {
   "cell_type": "markdown",
   "metadata": {},
   "source": [
    "## 4. Preparing data"
   ]
  },
  {
   "cell_type": "code",
   "execution_count": 137,
   "metadata": {},
   "outputs": [],
   "source": [
    "#Split training set into training set and test set following the ratio (80/20)\n",
    "from sklearn.model_selection import train_test_split\n",
    "train_set, test_set = train_test_split(data_set, test_size = 0.2, random_state=42)"
   ]
  },
  {
   "cell_type": "code",
   "execution_count": 138,
   "metadata": {},
   "outputs": [],
   "source": [
    "#Divided train_set and test_set into categorical and numerical set.\n",
    "train_set_num = train_set.drop('Class', axis = 1)\n",
    "train_set_cat = train_set[\"Class\"]\n",
    "test_set_num = test_set.drop('Class', axis = 1)\n",
    "test_set_cat = test_set[\"Class\"]"
   ]
  },
  {
   "cell_type": "code",
   "execution_count": 139,
   "metadata": {},
   "outputs": [],
   "source": [
    "#Using StandardScaler to normalize the numeric data set.\n",
    "from sklearn.preprocessing import StandardScaler\n",
    "scaler = StandardScaler()\n",
    "train_set_num_tr = scaler.fit_transform(train_set_num)\n",
    "test_set_num_tr = scaler.fit_transform(test_set_num)"
   ]
  },
  {
   "cell_type": "markdown",
   "metadata": {},
   "source": [
    "## 5. Classification"
   ]
  },
  {
   "cell_type": "markdown",
   "metadata": {},
   "source": [
    "###     1. SVM Classification"
   ]
  },
  {
   "cell_type": "code",
   "execution_count": 140,
   "metadata": {},
   "outputs": [],
   "source": [
    "from sklearn.svm import SVC\n",
    "x_train, y_train, x_test, y_test = train_set_num_tr, train_set_cat, test_set_num_tr, test_set_cat\n",
    "svm_clf = SVC(random_state=42)\n",
    "svm_clf.fit(x_train, y_train)\n",
    "svm_y_pred = svm_clf.predict(x_test)"
   ]
  },
  {
   "cell_type": "code",
   "execution_count": 141,
   "metadata": {},
   "outputs": [
    {
     "data": {
      "text/plain": [
       "array(['cp', 'im', 'imU', 'om', 'pp'], dtype=object)"
      ]
     },
     "execution_count": 141,
     "metadata": {},
     "output_type": "execute_result"
    }
   ],
   "source": [
    "#This code shows the label of the confusion matrix above.\n",
    "svm_clf.classes_"
   ]
  },
  {
   "cell_type": "code",
   "execution_count": 142,
   "metadata": {},
   "outputs": [
    {
     "data": {
      "text/plain": [
       "array([[29,  0,  0,  0,  1],\n",
       "       [ 1, 12,  2,  0,  0],\n",
       "       [ 0,  2,  4,  0,  0],\n",
       "       [ 0,  0,  0,  3,  0],\n",
       "       [ 1,  0,  0,  0, 11]], dtype=int64)"
      ]
     },
     "execution_count": 142,
     "metadata": {},
     "output_type": "execute_result"
    }
   ],
   "source": [
    "#Draw the confusion matrix of svm_y_pred\n",
    "from sklearn.metrics import confusion_matrix\n",
    "cfs_mx_svm = confusion_matrix(y_test, svm_y_pred)\n",
    "cfs_mx_svm"
   ]
  },
  {
   "cell_type": "markdown",
   "metadata": {},
   "source": [
    "Here are some comments about the confusion matrix:\n",
    "- 29 values were correctly classified as \"cp\". \n",
    "- 12 values were correctly classified as \"im\".\n",
    "- 4 values were correctly classified as \"imU\".\n",
    "- 3 values were correctly classified as \"om\".\n",
    "- 11 values were correctly classified as \"pp\".\n",
    "- Read down to the \"cp\" row, 1 value should have been \"pp\" which was classified as \"pp\".\n",
    "- For the \"im\" row, there are 3 values that should have been \"cp\"(1) and \"imU\"(2), but they were classified as \"im\".\n",
    "- 2 values from \"imU\" row were classified as \"imU\", but they must have been in \"im\".\n",
    "- There is no wrong classification in \"om\" row.\n",
    "- 1 value was classified as \"pp\", but they must have been \"cp\"."
   ]
  },
  {
   "cell_type": "code",
   "execution_count": 143,
   "metadata": {},
   "outputs": [
    {
     "name": "stdout",
     "output_type": "stream",
     "text": [
      "Saving figure confusion_matrix_plot\n"
     ]
    },
    {
     "data": {
      "image/png": "[encoded data removed]",
      "text/plain": [
       "<Figure size 288x288 with 1 Axes>"
      ]
     },
     "metadata": {
      "needs_background": "light"
     },
     "output_type": "display_data"
    }
   ],
   "source": [
    "#Plotting confusion matrix\n",
    "plt.matshow(cfs_mx_svm, cmap=plt.cm.gray)\n",
    "save_fig(\"confusion_matrix_plot\", tight_layout=False)\n",
    "plt.show()"
   ]
  },
  {
   "cell_type": "markdown",
   "metadata": {},
   "source": [
    "This confusion matrix looks quite good. Most images are lying at the main diagonal, which means that they were classified correctly. There are two blur squares that outside the main diagonal. Let have a look in \"im\" row, we can see that there are some images that wrongly classified as \"im\", but they should have been \"imU\". Similarly, \"imU\" row shows that some images are unprecisely classified as \"imU\", but they also should have been \"im\". The \"imU\" and \"om\" are slightly darker than others, this could be that fewer images appeared in the dataset or not performing classification as well on \"imU\" and \"om\" as others."
   ]
  },
  {
   "cell_type": "markdown",
   "metadata": {},
   "source": [
    "We should focus more on error by plotting the errors. We can compare the error rates by dividing each value in the confusion matrix by the numbers of images with the corresponding class. Those syntaxes below helps us doing it."
   ]
  },
  {
   "cell_type": "code",
   "execution_count": 144,
   "metadata": {},
   "outputs": [
    {
     "name": "stdout",
     "output_type": "stream",
     "text": [
      "Saving figure confusion_matrix_errors_plot\n"
     ]
    },
    {
     "data": {
      "image/png": "[encoded data removed]",
      "text/plain": [
       "<Figure size 288x288 with 1 Axes>"
      ]
     },
     "metadata": {
      "needs_background": "light"
     },
     "output_type": "display_data"
    }
   ],
   "source": [
    "#Plotting errors.\n",
    "row_sums = cfs_mx_svm.sum(axis=1, keepdims=True)\n",
    "norm_conf_mx = cfs_mx_svm / row_sums\n",
    "\n",
    "import numpy as np\n",
    "np.fill_diagonal(norm_conf_mx, 0)\n",
    "plt.matshow(norm_conf_mx, cmap=plt.cm.gray)\n",
    "save_fig(\"confusion_matrix_errors_plot\", tight_layout=False)\n",
    "plt.show()"
   ]
  },
  {
   "cell_type": "markdown",
   "metadata": {},
   "source": [
    "The columns for class \"cp\" and \"im\", \"imU\" are quite bright, which means that some images are wrongly classified as \"cp\", \"im\", \"imU\". Besides, the rows for class \"im\", \"imU\" and \"pp\" are also quite bright, which shows that these classes are ofter confused with others. Otherwise, row from \"cp\" and \"om\" are all dark, which tells you that \"cp\" and \"om\" are classified correctly. "
   ]
  },
  {
   "cell_type": "code",
   "execution_count": 145,
   "metadata": {},
   "outputs": [
    {
     "data": {
      "text/plain": [
       "0.8939393939393939"
      ]
     },
     "execution_count": 145,
     "metadata": {},
     "output_type": "execute_result"
    }
   ],
   "source": [
    "#Compute accuracy\n",
    "from sklearn.metrics import accuracy_score\n",
    "accuracy_score(y_test, svm_y_pred)"
   ]
  },
  {
   "cell_type": "markdown",
   "metadata": {},
   "source": [
    "The accuracy is 89.39%, this ratio is really good when it can predicted classes correctly. "
   ]
  },
  {
   "cell_type": "code",
   "execution_count": 146,
   "metadata": {},
   "outputs": [
    {
     "data": {
      "text/plain": [
       "0.8723478424722065"
      ]
     },
     "execution_count": 146,
     "metadata": {},
     "output_type": "execute_result"
    }
   ],
   "source": [
    "#Compute F1-score\n",
    "from sklearn.metrics import f1_score\n",
    "svm_f1 = f1_score(y_test, svm_y_pred, average = 'macro')\n",
    "svm_f1"
   ]
  },
  {
   "cell_type": "markdown",
   "metadata": {},
   "source": [
    "I used average = 'macro' because I wanted to measure F1 score for each individual label. F1-score tends to decrease and lower than accuracy score, but F1-score of SVM classification is still really good at 87.23%. "
   ]
  },
  {
   "cell_type": "markdown",
   "metadata": {},
   "source": [
    "### 2. SGD Classification"
   ]
  },
  {
   "cell_type": "code",
   "execution_count": 147,
   "metadata": {},
   "outputs": [],
   "source": [
    "from sklearn import linear_model\n",
    "sgd_clf = linear_model.SGDClassifier(random_state = 42)\n",
    "sgd_clf.fit(x_train, y_train)\n",
    "sgd_y_pred = sgd_clf.predict(x_test)"
   ]
  },
  {
   "cell_type": "code",
   "execution_count": 148,
   "metadata": {},
   "outputs": [
    {
     "data": {
      "text/plain": [
       "array([[30,  0,  0,  0,  0],\n",
       "       [ 1, 14,  0,  0,  0],\n",
       "       [ 0,  4,  2,  0,  0],\n",
       "       [ 0,  0,  0,  3,  0],\n",
       "       [ 2,  1,  0,  0,  9]], dtype=int64)"
      ]
     },
     "execution_count": 148,
     "metadata": {},
     "output_type": "execute_result"
    }
   ],
   "source": [
    "#Draw the confusion matrix of svm_y_pred\n",
    "from sklearn.metrics import confusion_matrix\n",
    "cfs_mx_sgd = confusion_matrix(y_test, sgd_y_pred)\n",
    "cfs_mx_sgd"
   ]
  },
  {
   "cell_type": "markdown",
   "metadata": {},
   "source": [
    "Here are some comments about the confusion matrix:\n",
    "- 30 values were correctly classified as \"cp\". \n",
    "- 14 values were correctly classified as \"im\".\n",
    "- 2 values were correctly classified as \"imU\".\n",
    "- 3 values were correctly classified as \"om\".\n",
    "- 9 values were correctly classified as \"pp\".\n",
    "- Read down to the \"cp\" row, there is not any wrong classification in this row.\n",
    "- For the \"im\" row, there is 1 value that should have been \"cp\"(1), but they were classified as \"im\".\n",
    "- 4 values from \"imU\" row were classified as \"imU\", but they must have been in \"im\".\n",
    "- There is no wrong classification in \"om\" row.\n",
    "- 3 values were classified as \"pp\", but they must have been \"cp\"(2) and \"im\"(1) respectively."
   ]
  },
  {
   "cell_type": "code",
   "execution_count": 149,
   "metadata": {},
   "outputs": [
    {
     "name": "stdout",
     "output_type": "stream",
     "text": [
      "Saving figure confusion_matrix_plot\n"
     ]
    },
    {
     "data": {
      "image/png": "[encoded data removed]",
      "text/plain": [
       "<Figure size 288x288 with 1 Axes>"
      ]
     },
     "metadata": {
      "needs_background": "light"
     },
     "output_type": "display_data"
    }
   ],
   "source": [
    "#Plotting confusion matrix\n",
    "plt.matshow(cfs_mx_sgd, cmap=plt.cm.gray)\n",
    "save_fig(\"confusion_matrix_plot\", tight_layout=False)\n",
    "plt.show()"
   ]
  },
  {
   "cell_type": "markdown",
   "metadata": {},
   "source": [
    "This confusion matrix looks quite good. Most images are lying at the main diagonal, which means that they were classified correctly. There are some images appeared wrongly which are classified as \"im\" in \"imU\" row. The \"imU\" and \"om\" are slightly darker than others, this could be that fewer images appeared in the dataset or not performing classification as well on \"imU\" and \"om\" as others."
   ]
  },
  {
   "cell_type": "markdown",
   "metadata": {},
   "source": [
    "We should focus more on error by plotting the errors. We can compare the error rates by dividing each value in the confusion matrix by the numbers of images with the corresponding class. Those syntaxes below helps us doing it."
   ]
  },
  {
   "cell_type": "code",
   "execution_count": 150,
   "metadata": {},
   "outputs": [
    {
     "name": "stdout",
     "output_type": "stream",
     "text": [
      "Saving figure confusion_matrix_errors_plot\n"
     ]
    },
    {
     "data": {
      "image/png": "[encoded data removed]",
      "text/plain": [
       "<Figure size 288x288 with 1 Axes>"
      ]
     },
     "metadata": {
      "needs_background": "light"
     },
     "output_type": "display_data"
    }
   ],
   "source": [
    "#Plotting errors\n",
    "row_sums = cfs_mx_sgd.sum(axis=1, keepdims=True)\n",
    "norm_conf_mx = cfs_mx_sgd / row_sums\n",
    "\n",
    "import numpy as np\n",
    "np.fill_diagonal(norm_conf_mx, 0)\n",
    "plt.matshow(norm_conf_mx, cmap=plt.cm.gray)\n",
    "save_fig(\"confusion_matrix_errors_plot\", tight_layout=False)\n",
    "plt.show()"
   ]
  },
  {
   "cell_type": "markdown",
   "metadata": {},
   "source": [
    "The columns for class \"cp\" and \"im\" are quite bright, which means that some images are wrongly classified as \"cp\", \"im\". Besides, the rows for class \"im\", \"imU\" are also quite bright, which shows that these classes are ofter confused with others. Otherwise, row from \"cp\" and \"om\" are all dark, which tells you that \"cp\" and \"om\" are classified correctly. "
   ]
  },
  {
   "cell_type": "code",
   "execution_count": 151,
   "metadata": {},
   "outputs": [
    {
     "data": {
      "text/plain": [
       "0.8787878787878788"
      ]
     },
     "execution_count": 151,
     "metadata": {},
     "output_type": "execute_result"
    }
   ],
   "source": [
    "#Compute accuracy\n",
    "from sklearn.metrics import accuracy_score\n",
    "accuracy_score(y_test, sgd_y_pred)"
   ]
  },
  {
   "cell_type": "markdown",
   "metadata": {},
   "source": [
    "The accuracy is 87.88%, this ratio is really good when it can predicted classes correctly. "
   ]
  },
  {
   "cell_type": "code",
   "execution_count": 152,
   "metadata": {},
   "outputs": [
    {
     "data": {
      "text/plain": [
       "0.826610644257703"
      ]
     },
     "execution_count": 152,
     "metadata": {},
     "output_type": "execute_result"
    }
   ],
   "source": [
    "#Compute F1-score\n",
    "from sklearn.metrics import f1_score\n",
    "sgd_f1 = f1_score(y_test, sgd_y_pred, average = 'macro')\n",
    "sgd_f1"
   ]
  },
  {
   "cell_type": "markdown",
   "metadata": {},
   "source": [
    "The F1-score of SGD classification looks like the same as SVM that it tends to decrease and lower than accuracy score.\n",
    "F1-score of SGD classification is 82.66% which could be still good enough with this rate."
   ]
  },
  {
   "cell_type": "markdown",
   "metadata": {},
   "source": [
    "###  3. Logistics Regression Classification"
   ]
  },
  {
   "cell_type": "code",
   "execution_count": 153,
   "metadata": {},
   "outputs": [],
   "source": [
    "from sklearn.linear_model import LogisticRegression\n",
    "log_reg_clf = LogisticRegression(random_state = 42)\n",
    "log_reg_clf.fit(x_train, y_train)\n",
    "log_reg_y_pred = log_reg_clf.predict(x_test)"
   ]
  },
  {
   "cell_type": "code",
   "execution_count": 154,
   "metadata": {},
   "outputs": [
    {
     "data": {
      "text/plain": [
       "array([[30,  0,  0,  0,  0],\n",
       "       [ 1, 13,  1,  0,  0],\n",
       "       [ 0,  1,  4,  0,  1],\n",
       "       [ 0,  0,  0,  3,  0],\n",
       "       [ 1,  0,  0,  0, 11]], dtype=int64)"
      ]
     },
     "execution_count": 154,
     "metadata": {},
     "output_type": "execute_result"
    }
   ],
   "source": [
    "#Draw the confusion matrix of svm_y_pred\n",
    "from sklearn.metrics import confusion_matrix\n",
    "cfs_mx_log = confusion_matrix(y_test, log_reg_y_pred)\n",
    "cfs_mx_log"
   ]
  },
  {
   "cell_type": "markdown",
   "metadata": {},
   "source": [
    "Here are some comments about the confusion matrix:\n",
    "- 30 values were correctly classified as \"cp\". \n",
    "- 13 values were correctly classified as \"im\".\n",
    "- 4 values were correctly classified as \"imU\".\n",
    "- 3 values were correctly classified as \"om\".\n",
    "- 11 values were correctly classified as \"pp\".\n",
    "- Read down to the \"cp\" row, there is not any wrong classification in this row.\n",
    "- For the \"im\" row, there are 2 values that should have been \"cp\"(1) and \"imU\"(1), but they were classified as \"im\".\n",
    "- 2 values from \"imU\" row were classified as \"imU\", but they must have been in \"im\"(1) and \"pp\"(1) respectively.\n",
    "- There is no wrong classification in \"om\" row.\n",
    "- 1 value were classified as \"pp\", but they must have been \"cp\"."
   ]
  },
  {
   "cell_type": "code",
   "execution_count": 155,
   "metadata": {},
   "outputs": [
    {
     "name": "stdout",
     "output_type": "stream",
     "text": [
      "Saving figure confusion_matrix_plot\n"
     ]
    },
    {
     "data": {
      "image/png": "[encoded data removed]",
      "text/plain": [
       "<Figure size 288x288 with 1 Axes>"
      ]
     },
     "metadata": {
      "needs_background": "light"
     },
     "output_type": "display_data"
    }
   ],
   "source": [
    "#Plotting confusion matrix\n",
    "plt.matshow(cfs_mx_log, cmap=plt.cm.gray)\n",
    "save_fig(\"confusion_matrix_plot\", tight_layout=False)\n",
    "plt.show()"
   ]
  },
  {
   "cell_type": "markdown",
   "metadata": {},
   "source": [
    "This confusion matrix looks quite good. Most images are lying at the main diagonal, which means that they were classified correctly. The \"imU\" and \"om\" are slightly darker than others, this could be that fewer images appeared in the dataset or not performing classification as well on \"imU\" and \"om\" as others."
   ]
  },
  {
   "cell_type": "markdown",
   "metadata": {},
   "source": [
    "We should focus more on error by plotting the errors. We can compare the error rates by dividing each value in the confusion matrix by the numbers of images with the corresponding class. Those syntaxes below helps us doing it."
   ]
  },
  {
   "cell_type": "code",
   "execution_count": 156,
   "metadata": {},
   "outputs": [
    {
     "name": "stdout",
     "output_type": "stream",
     "text": [
      "Saving figure confusion_matrix_errors_plot\n"
     ]
    },
    {
     "data": {
      "image/png": "[encoded data removed]",
      "text/plain": [
       "<Figure size 288x288 with 1 Axes>"
      ]
     },
     "metadata": {
      "needs_background": "light"
     },
     "output_type": "display_data"
    }
   ],
   "source": [
    "#PLotting errors.\n",
    "row_sums = cfs_mx_log.sum(axis=1, keepdims=True)\n",
    "norm_conf_mx = cfs_mx_log / row_sums\n",
    "\n",
    "import numpy as np\n",
    "np.fill_diagonal(norm_conf_mx, 0)\n",
    "plt.matshow(norm_conf_mx, cmap=plt.cm.gray)\n",
    "save_fig(\"confusion_matrix_errors_plot\", tight_layout=False)\n",
    "plt.show()"
   ]
  },
  {
   "cell_type": "markdown",
   "metadata": {},
   "source": [
    "The columns for class \"cp\", \"im\", \"imU\" and \"pp\" are quite bright, which means that some images are wrongly classified as \"cp\", \"im\", \"imU\" and \"pp\". Besides, the rows for class \"im\", \"imU\" and \"pp\" are also quite bright, which shows that these classes are ofter confused with others. Otherwise, row from \"cp\" and \"om\" are all dark, which tells you that \"cp\" and \"om\" are classified correctly in this case."
   ]
  },
  {
   "cell_type": "code",
   "execution_count": 157,
   "metadata": {},
   "outputs": [
    {
     "data": {
      "text/plain": [
       "0.9242424242424242"
      ]
     },
     "execution_count": 157,
     "metadata": {},
     "output_type": "execute_result"
    }
   ],
   "source": [
    "#Compute accuracy\n",
    "from sklearn.metrics import accuracy_score\n",
    "accuracy_score(y_test, log_reg_y_pred)"
   ]
  },
  {
   "cell_type": "markdown",
   "metadata": {},
   "source": [
    "The accuracy of Logistics Regression Classification is 92.42%, this ratio is excellent (>90%) when it can predicted classes correctly. "
   ]
  },
  {
   "cell_type": "code",
   "execution_count": 158,
   "metadata": {},
   "outputs": [
    {
     "data": {
      "text/plain": [
       "0.9016466107122392"
      ]
     },
     "execution_count": 158,
     "metadata": {},
     "output_type": "execute_result"
    }
   ],
   "source": [
    "#Compute F1-score\n",
    "from sklearn.metrics import f1_score\n",
    "log_f1 = f1_score(y_test, log_reg_y_pred, average = 'macro')\n",
    "log_f1"
   ]
  },
  {
   "cell_type": "markdown",
   "metadata": {},
   "source": [
    "The F1-score of SGD classification looks like the same as SVM and SGD that it tends to decrease and lower than accuracy score.\n",
    "F1-score of SGD classification is 90.16 (>90%) which could be a perfect rate to predict correctly."
   ]
  },
  {
   "cell_type": "markdown",
   "metadata": {},
   "source": [
    "###  4. Voting Classification"
   ]
  },
  {
   "cell_type": "markdown",
   "metadata": {},
   "source": [
    "There are two types of doing Voting Classification such as Hard Voting Classification and Soft Voting Classification. This Voting Classifier comprises three individual classifiers such as SVM, Logistics Regression and SGD classifier. With Hard Voting Classification, I used default hyperparameters for all classifiers to get the performance. Otherswise, with Soft Classification, I used hyperparameter Probability = \"True\" in SVM Classifier, and used loss = \"log\" in SGD Classifer to do Soft Classification."
   ]
  },
  {
   "cell_type": "markdown",
   "metadata": {},
   "source": [
    "#### 1. Hard Voting Classification"
   ]
  },
  {
   "cell_type": "code",
   "execution_count": 159,
   "metadata": {},
   "outputs": [
    {
     "data": {
      "text/plain": [
       "VotingClassifier(estimators=[('lr',\n",
       "                              LogisticRegression(C=1.0, class_weight=None,\n",
       "                                                 dual=False, fit_intercept=True,\n",
       "                                                 intercept_scaling=1,\n",
       "                                                 l1_ratio=None, max_iter=100,\n",
       "                                                 multi_class='auto',\n",
       "                                                 n_jobs=None, penalty='l2',\n",
       "                                                 random_state=42,\n",
       "                                                 solver='lbfgs', tol=0.0001,\n",
       "                                                 verbose=0, warm_start=False)),\n",
       "                             ('svc',\n",
       "                              SVC(C=1.0, break_ties=False, cache_size=200,\n",
       "                                  class_weight=None, coef0=0.0,\n",
       "                                  dec...\n",
       "                                            class_weight=None,\n",
       "                                            early_stopping=False, epsilon=0.1,\n",
       "                                            eta0=0.0, fit_intercept=True,\n",
       "                                            l1_ratio=0.15,\n",
       "                                            learning_rate='optimal',\n",
       "                                            loss='hinge', max_iter=1000,\n",
       "                                            n_iter_no_change=5, n_jobs=None,\n",
       "                                            penalty='l2', power_t=0.5,\n",
       "                                            random_state=42, shuffle=True,\n",
       "                                            tol=0.001, validation_fraction=0.1,\n",
       "                                            verbose=0, warm_start=False))],\n",
       "                 flatten_transform=True, n_jobs=None, voting='hard',\n",
       "                 weights=None)"
      ]
     },
     "execution_count": 159,
     "metadata": {},
     "output_type": "execute_result"
    }
   ],
   "source": [
    "from sklearn.ensemble import VotingClassifier\n",
    "from sklearn.linear_model import LogisticRegression\n",
    "from sklearn.svm import SVC\n",
    "from sklearn import linear_model\n",
    "\n",
    "log_clf = LogisticRegression(random_state = 42)\n",
    "svm_clf = SVC(random_state = 42)\n",
    "sgd_clf = linear_model.SGDClassifier(random_state = 42)\n",
    "\n",
    "voting_clf_hard = VotingClassifier(estimators = [('lr', log_clf), ('svc', svm_clf), ('sgd',sgd_clf)], voting = 'hard')\n",
    "voting_clf_hard.fit(x_train, y_train)\n"
   ]
  },
  {
   "cell_type": "code",
   "execution_count": 160,
   "metadata": {},
   "outputs": [
    {
     "name": "stdout",
     "output_type": "stream",
     "text": [
      "LogisticRegression 0.9242424242424242\n",
      "SVC 0.8939393939393939\n",
      "SGDClassifier 0.8787878787878788\n",
      "VotingClassifier 0.9242424242424242\n"
     ]
    }
   ],
   "source": [
    "#Compute accuracy score\n",
    "from sklearn.metrics import accuracy_score\n",
    "for clf in (log_clf, svm_clf, sgd_clf, voting_clf_hard):\n",
    "    clf.fit(x_train, y_train)\n",
    "    vot_y_pred_hard = clf.predict(x_test)\n",
    "    print(clf.__class__.__name__, accuracy_score(y_test, vot_y_pred_hard))"
   ]
  },
  {
   "cell_type": "code",
   "execution_count": 161,
   "metadata": {},
   "outputs": [
    {
     "data": {
      "text/plain": [
       "array([[30,  0,  0,  0,  0],\n",
       "       [ 1, 13,  1,  0,  0],\n",
       "       [ 0,  2,  4,  0,  0],\n",
       "       [ 0,  0,  0,  3,  0],\n",
       "       [ 1,  0,  0,  0, 11]], dtype=int64)"
      ]
     },
     "execution_count": 161,
     "metadata": {},
     "output_type": "execute_result"
    }
   ],
   "source": [
    "#Draw the confusion matrix of svm_y_pred\n",
    "from sklearn.metrics import confusion_matrix\n",
    "cfs_mx_vot_hard = confusion_matrix(y_test, vot_y_pred_hard)\n",
    "cfs_mx_vot_hard"
   ]
  },
  {
   "cell_type": "markdown",
   "metadata": {},
   "source": [
    "Here are some comments about the confusion matrix:\n",
    "- 30 values were correctly classified as \"cp\". \n",
    "- 13 values were correctly classified as \"im\".\n",
    "- 4 values were correctly classified as \"imU\".\n",
    "- 3 values were correctly classified as \"om\".\n",
    "- 11 values were correctly classified as \"pp\".\n",
    "- Read down to the \"cp\" row, there is not any wrong classification in this row.\n",
    "- For the \"im\" row, there are 2 values that should have been \"cp\"(1) and \"imU\"(1), but they were classified as \"im\".\n",
    "- 2 values from \"imU\" row were classified as \"imU\", but they must have been in \"im\"(1) and \"pp\"(1) respectively.\n",
    "- There is no wrong classification in \"om\" row.\n",
    "- 1 value were classified as \"pp\", but they must have been \"cp\"."
   ]
  },
  {
   "cell_type": "code",
   "execution_count": 162,
   "metadata": {},
   "outputs": [
    {
     "name": "stdout",
     "output_type": "stream",
     "text": [
      "Saving figure confusion_matrix_plot\n"
     ]
    },
    {
     "data": {
      "image/png": "[encoded data removed]",
      "text/plain": [
       "<Figure size 288x288 with 1 Axes>"
      ]
     },
     "metadata": {
      "needs_background": "light"
     },
     "output_type": "display_data"
    }
   ],
   "source": [
    "#Plotting confusion matrix\n",
    "plt.matshow(cfs_mx_vot_hard, cmap=plt.cm.gray)\n",
    "save_fig(\"confusion_matrix_plot\", tight_layout=False)\n",
    "plt.show()"
   ]
  },
  {
   "cell_type": "markdown",
   "metadata": {},
   "source": [
    "This confusion matrix looks quite good. Most images are lying at the main diagonal, which means that they were classified correctly. There are some images appeared wrongly which are classified as \"im\" in \"imU\" row, but this could not affect much because the square outside the main diagonal is too blur. The \"imU\" and \"om\" are slightly darker than others, this could be that fewer images appeared in the dataset or not performing classification as well on \"imU\" and \"om\" as others."
   ]
  },
  {
   "cell_type": "code",
   "execution_count": 163,
   "metadata": {},
   "outputs": [
    {
     "name": "stdout",
     "output_type": "stream",
     "text": [
      "Saving figure confusion_matrix_errors_plot\n"
     ]
    },
    {
     "data": {
      "image/png": "[encoded data removed]",
      "text/plain": [
       "<Figure size 288x288 with 1 Axes>"
      ]
     },
     "metadata": {
      "needs_background": "light"
     },
     "output_type": "display_data"
    }
   ],
   "source": [
    "#Plotting errors\n",
    "row_sums = cfs_mx_vot_hard.sum(axis=1, keepdims=True)\n",
    "norm_conf_mx = cfs_mx_vot_hard / row_sums\n",
    "\n",
    "import numpy as np\n",
    "np.fill_diagonal(norm_conf_mx, 0)\n",
    "plt.matshow(norm_conf_mx, cmap=plt.cm.gray)\n",
    "save_fig(\"confusion_matrix_errors_plot\", tight_layout=False)\n",
    "plt.show()"
   ]
  },
  {
   "cell_type": "markdown",
   "metadata": {},
   "source": [
    "The columns for class \"cp\", \"im\", \"imU\" are quite bright, which means that some images are wrongly classified as \"cp\", \"im\", \"imU\" and \"pp\". Besides, the rows for class \"im\", \"imU\" and \"pp\" are also quite bright, which shows that these classes are ofter confused with others. Otherwise, row from \"cp\" and \"om\" are all dark, which tells you that \"cp\" and \"om\" are classified correctly in this case."
   ]
  },
  {
   "cell_type": "code",
   "execution_count": 164,
   "metadata": {},
   "outputs": [
    {
     "data": {
      "text/plain": [
       "0.9242424242424242"
      ]
     },
     "execution_count": 164,
     "metadata": {},
     "output_type": "execute_result"
    }
   ],
   "source": [
    "#Compute accuracy\n",
    "from sklearn.metrics import accuracy_score\n",
    "accuracy_score(y_test, vot_y_pred_hard)"
   ]
  },
  {
   "cell_type": "markdown",
   "metadata": {},
   "source": [
    "The accuracy of Hard Voting Classification is 92.42%, this ratio is excellent (>90%) when it can predicted classes correctly. "
   ]
  },
  {
   "cell_type": "code",
   "execution_count": 165,
   "metadata": {},
   "outputs": [
    {
     "data": {
      "text/plain": [
       "0.9036406137107399"
      ]
     },
     "execution_count": 165,
     "metadata": {},
     "output_type": "execute_result"
    }
   ],
   "source": [
    "from sklearn.metrics import f1_score\n",
    "vot_hard_f1 = f1_score(y_test, vot_y_pred_hard, average = 'macro')\n",
    "vot_hard_f1"
   ]
  },
  {
   "cell_type": "markdown",
   "metadata": {},
   "source": [
    "The F1-score of Hard Voting Classification looks like the same as SVM, Logistics Regression and SGD because it tends to decrease and be lower than accuracy score.\n",
    "F1-score of Hard Voting Classification classification is 90.16 (>90%) which could be a perfect rate to predict correctly."
   ]
  },
  {
   "cell_type": "markdown",
   "metadata": {},
   "source": [
    "#### 2. Soft Voting Classification"
   ]
  },
  {
   "cell_type": "code",
   "execution_count": 166,
   "metadata": {},
   "outputs": [
    {
     "data": {
      "text/plain": [
       "VotingClassifier(estimators=[('lr',\n",
       "                              LogisticRegression(C=1.0, class_weight=None,\n",
       "                                                 dual=False, fit_intercept=True,\n",
       "                                                 intercept_scaling=1,\n",
       "                                                 l1_ratio=None, max_iter=100,\n",
       "                                                 multi_class='auto',\n",
       "                                                 n_jobs=None, penalty='l2',\n",
       "                                                 random_state=42,\n",
       "                                                 solver='lbfgs', tol=0.0001,\n",
       "                                                 verbose=0, warm_start=False)),\n",
       "                             ('svc',\n",
       "                              SVC(C=1.0, break_ties=False, cache_size=200,\n",
       "                                  class_weight=None, coef0=0.0,\n",
       "                                  dec...\n",
       "                                            class_weight=None,\n",
       "                                            early_stopping=False, epsilon=0.1,\n",
       "                                            eta0=0.0, fit_intercept=True,\n",
       "                                            l1_ratio=0.15,\n",
       "                                            learning_rate='optimal', loss='log',\n",
       "                                            max_iter=1000, n_iter_no_change=5,\n",
       "                                            n_jobs=None, penalty='l2',\n",
       "                                            power_t=0.5, random_state=42,\n",
       "                                            shuffle=True, tol=0.001,\n",
       "                                            validation_fraction=0.1, verbose=0,\n",
       "                                            warm_start=False))],\n",
       "                 flatten_transform=True, n_jobs=None, voting='soft',\n",
       "                 weights=None)"
      ]
     },
     "execution_count": 166,
     "metadata": {},
     "output_type": "execute_result"
    }
   ],
   "source": [
    "from sklearn.ensemble import VotingClassifier\n",
    "from sklearn.linear_model import LogisticRegression\n",
    "from sklearn.svm import SVC\n",
    "from sklearn import linear_model\n",
    "\n",
    "log_clf = LogisticRegression(random_state = 42)\n",
    "svm_clf = SVC(probability =True, random_state = 42)\n",
    "sgd_clf = linear_model.SGDClassifier(loss ='log',random_state = 42)\n",
    "\n",
    "voting_clf_soft = VotingClassifier(estimators = [('lr', log_clf), ('svc', svm_clf), ('sgd',sgd_clf)], voting = 'soft')\n",
    "voting_clf_soft.fit(x_train, y_train)\n"
   ]
  },
  {
   "cell_type": "code",
   "execution_count": 167,
   "metadata": {},
   "outputs": [
    {
     "name": "stdout",
     "output_type": "stream",
     "text": [
      "LogisticRegression 0.9242424242424242\n",
      "SVC 0.8939393939393939\n",
      "SGDClassifier 0.8636363636363636\n",
      "VotingClassifier 0.9090909090909091\n"
     ]
    }
   ],
   "source": [
    "from sklearn.metrics import accuracy_score\n",
    "for clf in (log_clf, svm_clf, sgd_clf, voting_clf_soft):\n",
    "    clf.fit(x_train, y_train)\n",
    "    vot_y_pred_soft = clf.predict(x_test)\n",
    "    print(clf.__class__.__name__, accuracy_score(y_test, vot_y_pred_soft))"
   ]
  },
  {
   "cell_type": "code",
   "execution_count": 168,
   "metadata": {},
   "outputs": [
    {
     "data": {
      "text/plain": [
       "array([[30,  0,  0,  0,  0],\n",
       "       [ 1, 12,  2,  0,  0],\n",
       "       [ 0,  2,  4,  0,  0],\n",
       "       [ 0,  0,  0,  3,  0],\n",
       "       [ 1,  0,  0,  0, 11]], dtype=int64)"
      ]
     },
     "execution_count": 168,
     "metadata": {},
     "output_type": "execute_result"
    }
   ],
   "source": [
    "#Draw the confusion matrix of svm_y_pred\n",
    "from sklearn.metrics import confusion_matrix\n",
    "cfs_mx_vot_soft = confusion_matrix(y_test, vot_y_pred_soft)\n",
    "cfs_mx_vot_soft"
   ]
  },
  {
   "cell_type": "markdown",
   "metadata": {},
   "source": [
    "Here are some comments about the confusion matrix:\n",
    "- 30 values were correctly classified as \"cp\". \n",
    "- 13 values were correctly classified as \"im\".\n",
    "- 4 values were correctly classified as \"imU\".\n",
    "- 3 values were correctly classified as \"om\".\n",
    "- 11 values were correctly classified as \"pp\".\n",
    "- Read down to the \"cp\" row, there is not any wrong classification in this row.\n",
    "- For the \"im\" row, there are 3 values that should have been \"cp\"(1) and \"imU\"(2), but they were classified as \"im\".\n",
    "- 2 values from \"imU\" row were classified as \"imU\", but they must have been in \"im\"(2).\n",
    "- There is no wrong classification in \"om\" row.\n",
    "- 1 value were classified as \"pp\", but they must have been \"cp\"."
   ]
  },
  {
   "cell_type": "code",
   "execution_count": 169,
   "metadata": {},
   "outputs": [
    {
     "name": "stdout",
     "output_type": "stream",
     "text": [
      "Saving figure confusion_matrix_plot\n"
     ]
    },
    {
     "data": {
      "image/png": "[encoded data removed]",
      "text/plain": [
       "<Figure size 288x288 with 1 Axes>"
      ]
     },
     "metadata": {
      "needs_background": "light"
     },
     "output_type": "display_data"
    }
   ],
   "source": [
    "#Plotting the confusion matrix\n",
    "plt.matshow(cfs_mx_vot_soft, cmap=plt.cm.gray)\n",
    "save_fig(\"confusion_matrix_plot\", tight_layout=False)\n",
    "plt.show()"
   ]
  },
  {
   "cell_type": "markdown",
   "metadata": {},
   "source": [
    "This confusion matrix looks quite good. Most images are lying at the main diagonal, which means that they were classified correctly. There are two blur squares that outside the main diagonal. Let have a look in \"im\" row, we can see that there are some images that wrongly classified as \"im\", but they should have been \"imU\". Similarly, \"imU\" row shows that some images are unprecisely classified as \"imU\", but they also should have been \"im\". The \"imU\" and \"om\" are slightly darker than others, this could be that fewer images appeared in the dataset or not performing classification as well on \"imU\" and \"om\" as others."
   ]
  },
  {
   "cell_type": "code",
   "execution_count": 170,
   "metadata": {},
   "outputs": [
    {
     "name": "stdout",
     "output_type": "stream",
     "text": [
      "Saving figure confusion_matrix_errors_plot\n"
     ]
    },
    {
     "data": {
      "image/png": "[encoded data removed]",
      "text/plain": [
       "<Figure size 288x288 with 1 Axes>"
      ]
     },
     "metadata": {
      "needs_background": "light"
     },
     "output_type": "display_data"
    }
   ],
   "source": [
    "#Plotting the errors\n",
    "row_sums = cfs_mx_vot_soft.sum(axis=1, keepdims=True)\n",
    "norm_conf_mx = cfs_mx_vot_soft / row_sums\n",
    "\n",
    "import numpy as np\n",
    "np.fill_diagonal(norm_conf_mx, 0)\n",
    "plt.matshow(norm_conf_mx, cmap=plt.cm.gray)\n",
    "save_fig(\"confusion_matrix_errors_plot\", tight_layout=False)\n",
    "plt.show()"
   ]
  },
  {
   "cell_type": "markdown",
   "metadata": {},
   "source": [
    "The columns for class \"cp\", \"im\", \"imU\" are quite bright, which means that some images are wrongly classified as \"cp\", \"im\", \"imU\" and \"pp\". Besides, the rows for class \"im\", \"imU\" and \"pp\" are also quite bright, which shows that these classes are ofter confused with others. Otherwise, row from \"cp\" and \"om\" are all dark, which tells you that \"cp\" and \"om\" are classified correctly in this case."
   ]
  },
  {
   "cell_type": "code",
   "execution_count": 171,
   "metadata": {},
   "outputs": [
    {
     "data": {
      "text/plain": [
       "0.9090909090909091"
      ]
     },
     "execution_count": 171,
     "metadata": {},
     "output_type": "execute_result"
    }
   ],
   "source": [
    "#Compute accuracy\n",
    "from sklearn.metrics import accuracy_score\n",
    "accuracy_score(y_test, vot_y_pred_soft)"
   ]
  },
  {
   "cell_type": "markdown",
   "metadata": {},
   "source": [
    "The accuracy of Soft Voting Classification is 90.91%, this ratio is excellent (>90%) when it can predicted classes correctly. "
   ]
  },
  {
   "cell_type": "code",
   "execution_count": 172,
   "metadata": {},
   "outputs": [
    {
     "data": {
      "text/plain": [
       "0.8837033096355048"
      ]
     },
     "execution_count": 172,
     "metadata": {},
     "output_type": "execute_result"
    }
   ],
   "source": [
    "#Compute F1-score\n",
    "from sklearn.metrics import f1_score\n",
    "vot_soft_f1 = f1_score(y_test, vot_y_pred_soft, average = 'macro')\n",
    "vot_soft_f1"
   ]
  },
  {
   "cell_type": "markdown",
   "metadata": {},
   "source": [
    "The F1-score of Hard Voting Classification looks like the same as SVM, Logistics Regression, SGD and Hard Voting because it tends to decrease and be lower than accuracy score.\n",
    "F1-score of Soft Voting Classification classification is 88.37% which could be nearly perfect rate (>= 90%) to predict correctly."
   ]
  },
  {
   "cell_type": "markdown",
   "metadata": {},
   "source": [
    "## 6. Conclusion"
   ]
  },
  {
   "cell_type": "markdown",
   "metadata": {},
   "source": [
    "|    Classification    | Accuracy score | F1-score |\n",
    "|:--------------------:|:--------------:|:--------:|\n",
    "|          SVM         |     89.39%     |  87.23%  |\n",
    "|          SGD         |     87.88%     |  82.66%  |\n",
    "| Logistics Regression |     92.42%     |  90.16%  |\n",
    "|      Hard Voting     |     92.42%     |  90.36%  |\n",
    "|      Soft Voting     |     90.91%     |  88.37%  |\n",
    "|   SGD - loss= 'log'  |     86.36%     |  85.13%  |"
   ]
  },
  {
   "cell_type": "markdown",
   "metadata": {},
   "source": [
    "As we can see, all Accuracy score and F1-score of all classifiers are above 80%, which seems to be good rates for correct prediction. Firstly, SGD Classifier got the lowest score for Accuracy and F1 which are 87.88% and 82.66% respectively. Secondly, Logistics Regression and Hard Voting got the same Accuracy score which is 92.42% and different F1-score such as 90.16% and 90.36% respectively.\n",
    "- All F1-score of 4 classifiers are lower than Accuracy score, which means that my dataset has balanced classes.\n",
    "- When I changed hyperparameter of SGD loss =\"log\", the prediction rate decreased to 86.36%.\n",
    "\n",
    "=> Hard Voting Classifier is the best classification for this data set."
   ]
  }
 ],
 "metadata": {
  "kernelspec": {
   "display_name": "Python 3",
   "language": "python",
   "name": "python3"
  },
  "language_info": {
   "codemirror_mode": {
    "name": "ipython",
    "version": 3
   },
   "file_extension": ".py",
   "mimetype": "text/x-python",
   "name": "python",
   "nbconvert_exporter": "python",
   "pygments_lexer": "ipython3",
   "version": "3.7.7"
  }
 },
 "nbformat": 4,
 "nbformat_minor": 4
}
